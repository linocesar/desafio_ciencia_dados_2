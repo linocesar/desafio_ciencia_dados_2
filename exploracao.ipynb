{
 "cells": [
  {
   "cell_type": "code",
   "id": "initial_id",
   "metadata": {
    "collapsed": true,
    "ExecuteTime": {
     "end_time": "2024-06-12T02:09:20.205618Z",
     "start_time": "2024-06-12T02:09:20.198945Z"
    }
   },
   "source": [
    "import pandas as pd\n",
    "import numpy as np\n",
    "from datetime import datetime\n",
    "import plotly.express as px\n",
    "from plotly.subplots import make_subplots\n",
    "import plotly.graph_objects as go\n",
    "import matplotlib.pyplot as plt\n",
    "import seaborn as sns\n",
    "from statsmodels.tsa.seasonal import seasonal_decompose\n",
    "\n",
    "from statsmodels.tsa.arima.model import ARIMA\n",
    "\n",
    "import warnings\n",
    "warnings.filterwarnings('ignore')\n"
   ],
   "outputs": [],
   "execution_count": 206
  },
  {
   "metadata": {
    "ExecuteTime": {
     "end_time": "2024-06-10T18:41:00.736256Z",
     "start_time": "2024-06-10T18:40:10.870549Z"
    }
   },
   "cell_type": "code",
   "source": [
    "df = pd.read_csv(r'dataset/table_AIH_2009_2024_SUBGRUPO_PROC.csv', sep=';', usecols=['ano',\n",
    "                                                                                     'mes',\n",
    "                                                                                     'Faixa_Populacao',\n",
    "                                                                                     #'Faixa_Populacao_FPM',\n",
    "                                                                                     'LATITUDE',\n",
    "                                                                                     'LONGITUDE',\n",
    "                                                                                     'Municipio_Capital',\n",
    "                                                                                     'Nome_Municipio',\n",
    "                                                                                     'Numero_Habitantes_Censo_2022',\n",
    "                                                                                     'qtd_0310',\n",
    "                                                                                     'VL_0310',\n",
    "                                                                                     'qtd_0411',\n",
    "                                                                                     'VL_0411',\n",
    "                                                                                     'qtd_0205',\n",
    "                                                                                     'VL_0205',\n",
    "                                                                                     'Regiao_Codigo',\n",
    "                                                                                     'Regiao_Nome',\n",
    "                                                                                     'UF',\n",
    "                                                                                     'UF_Codigo',\n",
    "                                                                                     'UF_Nome'])"
   ],
   "id": "a1a9fe6e1f227449",
   "outputs": [],
   "execution_count": 2
  },
  {
   "metadata": {
    "ExecuteTime": {
     "end_time": "2024-06-10T18:41:00.793933Z",
     "start_time": "2024-06-10T18:41:00.743274Z"
    }
   },
   "cell_type": "code",
   "source": "df.head()",
   "id": "92aa171287c9a5fd",
   "outputs": [
    {
     "data": {
      "text/plain": [
       "    ano  mes         Nome_Municipio  Regiao_Codigo Regiao_Nome  UF_Codigo  UF  \\\n",
       "0  2009    1  Alta Floresta D'Oeste              1       Norte         11  RO   \n",
       "1  2009    1              Ariquemes              1       Norte         11  RO   \n",
       "2  2009    1                 Cabixi              1       Norte         11  RO   \n",
       "3  2009    1                 Cacoal              1       Norte         11  RO   \n",
       "4  2009    1             Cerejeiras              1       Norte         11  RO   \n",
       "\n",
       "    UF_Nome Municipio_Capital  Numero_Habitantes_Censo_2022  \\\n",
       "0  Rondônia                Nã                         21495   \n",
       "1  Rondônia                Nã                         96833   \n",
       "2  Rondônia                Nã                          5363   \n",
       "3  Rondônia                Nã                         86895   \n",
       "4  Rondônia                Nã                         15890   \n",
       "\n",
       "                        Faixa_Populacao qtd_0205 qtd_0310 qtd_0411  \\\n",
       "0   03 - De  20.001 a 50.000 habitantes        2        7        2   \n",
       "1  04 - De  50.001 a 100.000 habitantes        7       77       63   \n",
       "2            01 - Até 10.000 habitantes        .       10        .   \n",
       "3  04 - De  50.001 a 100.000 habitantes        .       67       19   \n",
       "4   02 - De  10.001 a 20.000 habitantes        .       13        7   \n",
       "\n",
       "       VL_0205       VL_0310       VL_0411     LONGITUDE      LATITUDE  \n",
       "0         48,4        3103,8       1091,46    -61,999824    -11,935540  \n",
       "1        196,9       34141,8      27791,01    -63,033269     -9,908463  \n",
       "2            .          4434             .    -60,544314    -13,499763  \n",
       "3            .      34338,92      10002,76    -61,442944    -11,433865  \n",
       "4            .       5606,33       3003,92    -60,818426    -13,195033  "
      ],
      "text/html": [
       "<div>\n",
       "<style scoped>\n",
       "    .dataframe tbody tr th:only-of-type {\n",
       "        vertical-align: middle;\n",
       "    }\n",
       "\n",
       "    .dataframe tbody tr th {\n",
       "        vertical-align: top;\n",
       "    }\n",
       "\n",
       "    .dataframe thead th {\n",
       "        text-align: right;\n",
       "    }\n",
       "</style>\n",
       "<table border=\"1\" class=\"dataframe\">\n",
       "  <thead>\n",
       "    <tr style=\"text-align: right;\">\n",
       "      <th></th>\n",
       "      <th>ano</th>\n",
       "      <th>mes</th>\n",
       "      <th>Nome_Municipio</th>\n",
       "      <th>Regiao_Codigo</th>\n",
       "      <th>Regiao_Nome</th>\n",
       "      <th>UF_Codigo</th>\n",
       "      <th>UF</th>\n",
       "      <th>UF_Nome</th>\n",
       "      <th>Municipio_Capital</th>\n",
       "      <th>Numero_Habitantes_Censo_2022</th>\n",
       "      <th>Faixa_Populacao</th>\n",
       "      <th>qtd_0205</th>\n",
       "      <th>qtd_0310</th>\n",
       "      <th>qtd_0411</th>\n",
       "      <th>VL_0205</th>\n",
       "      <th>VL_0310</th>\n",
       "      <th>VL_0411</th>\n",
       "      <th>LONGITUDE</th>\n",
       "      <th>LATITUDE</th>\n",
       "    </tr>\n",
       "  </thead>\n",
       "  <tbody>\n",
       "    <tr>\n",
       "      <th>0</th>\n",
       "      <td>2009</td>\n",
       "      <td>1</td>\n",
       "      <td>Alta Floresta D'Oeste</td>\n",
       "      <td>1</td>\n",
       "      <td>Norte</td>\n",
       "      <td>11</td>\n",
       "      <td>RO</td>\n",
       "      <td>Rondônia</td>\n",
       "      <td>Nã</td>\n",
       "      <td>21495</td>\n",
       "      <td>03 - De  20.001 a 50.000 habitantes</td>\n",
       "      <td>2</td>\n",
       "      <td>7</td>\n",
       "      <td>2</td>\n",
       "      <td>48,4</td>\n",
       "      <td>3103,8</td>\n",
       "      <td>1091,46</td>\n",
       "      <td>-61,999824</td>\n",
       "      <td>-11,935540</td>\n",
       "    </tr>\n",
       "    <tr>\n",
       "      <th>1</th>\n",
       "      <td>2009</td>\n",
       "      <td>1</td>\n",
       "      <td>Ariquemes</td>\n",
       "      <td>1</td>\n",
       "      <td>Norte</td>\n",
       "      <td>11</td>\n",
       "      <td>RO</td>\n",
       "      <td>Rondônia</td>\n",
       "      <td>Nã</td>\n",
       "      <td>96833</td>\n",
       "      <td>04 - De  50.001 a 100.000 habitantes</td>\n",
       "      <td>7</td>\n",
       "      <td>77</td>\n",
       "      <td>63</td>\n",
       "      <td>196,9</td>\n",
       "      <td>34141,8</td>\n",
       "      <td>27791,01</td>\n",
       "      <td>-63,033269</td>\n",
       "      <td>-9,908463</td>\n",
       "    </tr>\n",
       "    <tr>\n",
       "      <th>2</th>\n",
       "      <td>2009</td>\n",
       "      <td>1</td>\n",
       "      <td>Cabixi</td>\n",
       "      <td>1</td>\n",
       "      <td>Norte</td>\n",
       "      <td>11</td>\n",
       "      <td>RO</td>\n",
       "      <td>Rondônia</td>\n",
       "      <td>Nã</td>\n",
       "      <td>5363</td>\n",
       "      <td>01 - Até 10.000 habitantes</td>\n",
       "      <td>.</td>\n",
       "      <td>10</td>\n",
       "      <td>.</td>\n",
       "      <td>.</td>\n",
       "      <td>4434</td>\n",
       "      <td>.</td>\n",
       "      <td>-60,544314</td>\n",
       "      <td>-13,499763</td>\n",
       "    </tr>\n",
       "    <tr>\n",
       "      <th>3</th>\n",
       "      <td>2009</td>\n",
       "      <td>1</td>\n",
       "      <td>Cacoal</td>\n",
       "      <td>1</td>\n",
       "      <td>Norte</td>\n",
       "      <td>11</td>\n",
       "      <td>RO</td>\n",
       "      <td>Rondônia</td>\n",
       "      <td>Nã</td>\n",
       "      <td>86895</td>\n",
       "      <td>04 - De  50.001 a 100.000 habitantes</td>\n",
       "      <td>.</td>\n",
       "      <td>67</td>\n",
       "      <td>19</td>\n",
       "      <td>.</td>\n",
       "      <td>34338,92</td>\n",
       "      <td>10002,76</td>\n",
       "      <td>-61,442944</td>\n",
       "      <td>-11,433865</td>\n",
       "    </tr>\n",
       "    <tr>\n",
       "      <th>4</th>\n",
       "      <td>2009</td>\n",
       "      <td>1</td>\n",
       "      <td>Cerejeiras</td>\n",
       "      <td>1</td>\n",
       "      <td>Norte</td>\n",
       "      <td>11</td>\n",
       "      <td>RO</td>\n",
       "      <td>Rondônia</td>\n",
       "      <td>Nã</td>\n",
       "      <td>15890</td>\n",
       "      <td>02 - De  10.001 a 20.000 habitantes</td>\n",
       "      <td>.</td>\n",
       "      <td>13</td>\n",
       "      <td>7</td>\n",
       "      <td>.</td>\n",
       "      <td>5606,33</td>\n",
       "      <td>3003,92</td>\n",
       "      <td>-60,818426</td>\n",
       "      <td>-13,195033</td>\n",
       "    </tr>\n",
       "  </tbody>\n",
       "</table>\n",
       "</div>"
      ]
     },
     "execution_count": 3,
     "metadata": {},
     "output_type": "execute_result"
    }
   ],
   "execution_count": 3
  },
  {
   "metadata": {
    "ExecuteTime": {
     "end_time": "2024-06-10T18:41:01.671568Z",
     "start_time": "2024-06-10T18:41:00.801468Z"
    }
   },
   "cell_type": "code",
   "source": [
    "dicionario = {'Nome_Municipio': 'municipio',\n",
    "              'Regiao_Codigo': 'regiao_codigo',\n",
    "              'Regiao_Nome': 'regiao_nome',\n",
    "              'UF_Codigo': 'uf_codigo',\n",
    "              'UF': 'uf',\n",
    "              'UF_Nome': 'uf_nome',\n",
    "              'Municipio_Capital': 'capital',\n",
    "              'Numero_Habitantes_Censo_2022': 'numero_habitantes',\n",
    "              'Faixa_Populacao': 'populacao_faixa',\n",
    "              #'Faixa_Populacao_FPM': 'populacao_faixa_fpm',\n",
    "              'qtd_0205': 'diagnostico_ultrasonografia_qtd',\n",
    "              'VL_0205': 'diagnostico_ultrasonografia_val',\n",
    "              'qtd_0411': 'cirurgias_obstetricas_qtd',\n",
    "              'VL_0411': 'cirurgias_obstetricas_val',\n",
    "              'qtd_0310': 'partos_e_nascimentos_qtd',\n",
    "              'VL_0310': 'partos_e_nascimentos_val',\n",
    "              'LATITUDE': 'latitude',\n",
    "              'LONGITUDE': 'longitude'}"
   ],
   "id": "e5398f6c1e153c9a",
   "outputs": [],
   "execution_count": 4
  },
  {
   "metadata": {
    "ExecuteTime": {
     "end_time": "2024-06-10T18:41:02.241815Z",
     "start_time": "2024-06-10T18:41:01.678432Z"
    }
   },
   "cell_type": "code",
   "source": "df.rename(columns=dicionario, inplace=True)",
   "id": "b5488fc0772e1c56",
   "outputs": [],
   "execution_count": 5
  },
  {
   "metadata": {
    "ExecuteTime": {
     "end_time": "2024-06-10T18:41:02.281922Z",
     "start_time": "2024-06-10T18:41:02.249034Z"
    }
   },
   "cell_type": "code",
   "source": [
    "def get_mes(mes_cod):\n",
    "    mes = {1: 'Jan',\n",
    "           2: 'Fev',\n",
    "           3: 'Mar',\n",
    "           4: 'Abr',\n",
    "           5: 'Mai',\n",
    "           6: 'Jun',\n",
    "           7: 'Jul',\n",
    "           8: 'Ago',\n",
    "           9: 'Set',\n",
    "           10: 'Out',\n",
    "           11: 'Nov',\n",
    "           12: 'Dez'}\n",
    "    return mes.get(mes_cod, 'Cod. Inválido')"
   ],
   "id": "9bdbe78129d2cb0b",
   "outputs": [],
   "execution_count": 6
  },
  {
   "metadata": {
    "ExecuteTime": {
     "end_time": "2024-06-10T18:41:03.710020Z",
     "start_time": "2024-06-10T18:41:02.287807Z"
    }
   },
   "cell_type": "code",
   "source": "df['mes'] = list(map(lambda x: get_mes(x), df['mes']))",
   "id": "3dc4d638957608c6",
   "outputs": [],
   "execution_count": 7
  },
  {
   "metadata": {
    "ExecuteTime": {
     "end_time": "2024-06-10T18:41:03.724961Z",
     "start_time": "2024-06-10T18:41:03.711921Z"
    }
   },
   "cell_type": "code",
   "source": "df.columns",
   "id": "f00b2bcb476229ce",
   "outputs": [
    {
     "data": {
      "text/plain": [
       "Index(['ano', 'mes', 'municipio', 'regiao_codigo', 'regiao_nome', 'uf_codigo',\n",
       "       'uf', 'uf_nome', 'capital', 'numero_habitantes', 'populacao_faixa',\n",
       "       'diagnostico_ultrasonografia_qtd', 'partos_e_nascimentos_qtd',\n",
       "       'cirurgias_obstetricas_qtd', 'diagnostico_ultrasonografia_val',\n",
       "       'partos_e_nascimentos_val', 'cirurgias_obstetricas_val', 'longitude',\n",
       "       'latitude'],\n",
       "      dtype='object')"
      ]
     },
     "execution_count": 8,
     "metadata": {},
     "output_type": "execute_result"
    }
   ],
   "execution_count": 8
  },
  {
   "metadata": {
    "ExecuteTime": {
     "end_time": "2024-06-10T18:41:03.892005Z",
     "start_time": "2024-06-10T18:41:03.729414Z"
    }
   },
   "cell_type": "code",
   "source": "df[['mes', 'ano', 'municipio', 'partos_e_nascimentos_qtd', 'cirurgias_obstetricas_qtd', 'diagnostico_ultrasonografia_qtd']]",
   "id": "45c9afaa9469c2a5",
   "outputs": [
    {
     "data": {
      "text/plain": [
       "         mes   ano              municipio partos_e_nascimentos_qtd  \\\n",
       "0        Jan  2009  Alta Floresta D'Oeste                        7   \n",
       "1        Jan  2009              Ariquemes                       77   \n",
       "2        Jan  2009                 Cabixi                       10   \n",
       "3        Jan  2009                 Cacoal                       67   \n",
       "4        Jan  2009             Cerejeiras                       13   \n",
       "...      ...   ...                    ...                      ...   \n",
       "1013735  Fev  2024             Vianópolis                        .   \n",
       "1013736  Fev  2024         Vicentinópolis                        .   \n",
       "1013737  Fev  2024               Vila Boa                        .   \n",
       "1013738  Fev  2024          Vila Propício                        .   \n",
       "1013739  Fev  2024               Brasília                     1296   \n",
       "\n",
       "        cirurgias_obstetricas_qtd diagnostico_ultrasonografia_qtd  \n",
       "0                               2                               2  \n",
       "1                              63                               7  \n",
       "2                               .                               .  \n",
       "3                              19                               .  \n",
       "4                               7                               .  \n",
       "...                           ...                             ...  \n",
       "1013735                         .                               .  \n",
       "1013736                         .                               .  \n",
       "1013737                         .                               .  \n",
       "1013738                         .                               .  \n",
       "1013739                      1812                            3642  \n",
       "\n",
       "[1013740 rows x 6 columns]"
      ],
      "text/html": [
       "<div>\n",
       "<style scoped>\n",
       "    .dataframe tbody tr th:only-of-type {\n",
       "        vertical-align: middle;\n",
       "    }\n",
       "\n",
       "    .dataframe tbody tr th {\n",
       "        vertical-align: top;\n",
       "    }\n",
       "\n",
       "    .dataframe thead th {\n",
       "        text-align: right;\n",
       "    }\n",
       "</style>\n",
       "<table border=\"1\" class=\"dataframe\">\n",
       "  <thead>\n",
       "    <tr style=\"text-align: right;\">\n",
       "      <th></th>\n",
       "      <th>mes</th>\n",
       "      <th>ano</th>\n",
       "      <th>municipio</th>\n",
       "      <th>partos_e_nascimentos_qtd</th>\n",
       "      <th>cirurgias_obstetricas_qtd</th>\n",
       "      <th>diagnostico_ultrasonografia_qtd</th>\n",
       "    </tr>\n",
       "  </thead>\n",
       "  <tbody>\n",
       "    <tr>\n",
       "      <th>0</th>\n",
       "      <td>Jan</td>\n",
       "      <td>2009</td>\n",
       "      <td>Alta Floresta D'Oeste</td>\n",
       "      <td>7</td>\n",
       "      <td>2</td>\n",
       "      <td>2</td>\n",
       "    </tr>\n",
       "    <tr>\n",
       "      <th>1</th>\n",
       "      <td>Jan</td>\n",
       "      <td>2009</td>\n",
       "      <td>Ariquemes</td>\n",
       "      <td>77</td>\n",
       "      <td>63</td>\n",
       "      <td>7</td>\n",
       "    </tr>\n",
       "    <tr>\n",
       "      <th>2</th>\n",
       "      <td>Jan</td>\n",
       "      <td>2009</td>\n",
       "      <td>Cabixi</td>\n",
       "      <td>10</td>\n",
       "      <td>.</td>\n",
       "      <td>.</td>\n",
       "    </tr>\n",
       "    <tr>\n",
       "      <th>3</th>\n",
       "      <td>Jan</td>\n",
       "      <td>2009</td>\n",
       "      <td>Cacoal</td>\n",
       "      <td>67</td>\n",
       "      <td>19</td>\n",
       "      <td>.</td>\n",
       "    </tr>\n",
       "    <tr>\n",
       "      <th>4</th>\n",
       "      <td>Jan</td>\n",
       "      <td>2009</td>\n",
       "      <td>Cerejeiras</td>\n",
       "      <td>13</td>\n",
       "      <td>7</td>\n",
       "      <td>.</td>\n",
       "    </tr>\n",
       "    <tr>\n",
       "      <th>...</th>\n",
       "      <td>...</td>\n",
       "      <td>...</td>\n",
       "      <td>...</td>\n",
       "      <td>...</td>\n",
       "      <td>...</td>\n",
       "      <td>...</td>\n",
       "    </tr>\n",
       "    <tr>\n",
       "      <th>1013735</th>\n",
       "      <td>Fev</td>\n",
       "      <td>2024</td>\n",
       "      <td>Vianópolis</td>\n",
       "      <td>.</td>\n",
       "      <td>.</td>\n",
       "      <td>.</td>\n",
       "    </tr>\n",
       "    <tr>\n",
       "      <th>1013736</th>\n",
       "      <td>Fev</td>\n",
       "      <td>2024</td>\n",
       "      <td>Vicentinópolis</td>\n",
       "      <td>.</td>\n",
       "      <td>.</td>\n",
       "      <td>.</td>\n",
       "    </tr>\n",
       "    <tr>\n",
       "      <th>1013737</th>\n",
       "      <td>Fev</td>\n",
       "      <td>2024</td>\n",
       "      <td>Vila Boa</td>\n",
       "      <td>.</td>\n",
       "      <td>.</td>\n",
       "      <td>.</td>\n",
       "    </tr>\n",
       "    <tr>\n",
       "      <th>1013738</th>\n",
       "      <td>Fev</td>\n",
       "      <td>2024</td>\n",
       "      <td>Vila Propício</td>\n",
       "      <td>.</td>\n",
       "      <td>.</td>\n",
       "      <td>.</td>\n",
       "    </tr>\n",
       "    <tr>\n",
       "      <th>1013739</th>\n",
       "      <td>Fev</td>\n",
       "      <td>2024</td>\n",
       "      <td>Brasília</td>\n",
       "      <td>1296</td>\n",
       "      <td>1812</td>\n",
       "      <td>3642</td>\n",
       "    </tr>\n",
       "  </tbody>\n",
       "</table>\n",
       "<p>1013740 rows × 6 columns</p>\n",
       "</div>"
      ]
     },
     "execution_count": 9,
     "metadata": {},
     "output_type": "execute_result"
    }
   ],
   "execution_count": 9
  },
  {
   "metadata": {
    "ExecuteTime": {
     "end_time": "2024-06-10T18:41:09.919004Z",
     "start_time": "2024-06-10T18:41:03.900440Z"
    }
   },
   "cell_type": "code",
   "source": "df = df.apply(lambda x: x.str.strip() if x.dtype == \"object\" else x)",
   "id": "1dc06394a09e00a9",
   "outputs": [],
   "execution_count": 10
  },
  {
   "metadata": {
    "ExecuteTime": {
     "end_time": "2024-06-10T18:41:10.098732Z",
     "start_time": "2024-06-10T18:41:09.925568Z"
    }
   },
   "cell_type": "code",
   "source": "df['partos_e_nascimentos_qtd'] = df['partos_e_nascimentos_qtd'].replace('.', np.nan)",
   "id": "f1313bbd44c97c16",
   "outputs": [],
   "execution_count": 11
  },
  {
   "metadata": {
    "ExecuteTime": {
     "end_time": "2024-06-10T18:41:10.269534Z",
     "start_time": "2024-06-10T18:41:10.102625Z"
    }
   },
   "cell_type": "code",
   "source": "df['diagnostico_ultrasonografia_qtd'] = df['diagnostico_ultrasonografia_qtd'].replace('.', np.nan)",
   "id": "c0db84bbc7e4b88e",
   "outputs": [],
   "execution_count": 12
  },
  {
   "metadata": {
    "ExecuteTime": {
     "end_time": "2024-06-10T18:41:10.454642Z",
     "start_time": "2024-06-10T18:41:10.275941Z"
    }
   },
   "cell_type": "code",
   "source": "df['cirurgias_obstetricas_qtd'] = df['cirurgias_obstetricas_qtd'].replace('.', np.nan)",
   "id": "87c6fd7ebc5ff8ee",
   "outputs": [],
   "execution_count": 13
  },
  {
   "metadata": {
    "ExecuteTime": {
     "end_time": "2024-06-10T18:41:10.610392Z",
     "start_time": "2024-06-10T18:41:10.456819Z"
    }
   },
   "cell_type": "code",
   "source": "df['cirurgias_obstetricas_val'] = df['cirurgias_obstetricas_val'].replace('.', np.nan)",
   "id": "e3bab154c5dd3660",
   "outputs": [],
   "execution_count": 14
  },
  {
   "metadata": {
    "ExecuteTime": {
     "end_time": "2024-06-10T18:41:10.799715Z",
     "start_time": "2024-06-10T18:41:10.612938Z"
    }
   },
   "cell_type": "code",
   "source": "df['partos_e_nascimentos_val'] = df['partos_e_nascimentos_val'].replace('.', np.nan)",
   "id": "4227a47a531dabc0",
   "outputs": [],
   "execution_count": 15
  },
  {
   "metadata": {
    "ExecuteTime": {
     "end_time": "2024-06-10T18:41:10.976063Z",
     "start_time": "2024-06-10T18:41:10.803656Z"
    }
   },
   "cell_type": "code",
   "source": "df['diagnostico_ultrasonografia_val'] = df['diagnostico_ultrasonografia_val'].replace('.', np.nan)",
   "id": "14509b5f2ec063d4",
   "outputs": [],
   "execution_count": 16
  },
  {
   "metadata": {
    "ExecuteTime": {
     "end_time": "2024-06-10T18:41:11.128598Z",
     "start_time": "2024-06-10T18:41:10.979998Z"
    }
   },
   "cell_type": "code",
   "source": "df.filter(regex='_qtd|_val')",
   "id": "b612891bd9d04d35",
   "outputs": [
    {
     "data": {
      "text/plain": [
       "        diagnostico_ultrasonografia_qtd partos_e_nascimentos_qtd  \\\n",
       "0                                     2                        7   \n",
       "1                                     7                       77   \n",
       "2                                   NaN                       10   \n",
       "3                                   NaN                       67   \n",
       "4                                   NaN                       13   \n",
       "...                                 ...                      ...   \n",
       "1013735                             NaN                      NaN   \n",
       "1013736                             NaN                      NaN   \n",
       "1013737                             NaN                      NaN   \n",
       "1013738                             NaN                      NaN   \n",
       "1013739                            3642                     1296   \n",
       "\n",
       "        cirurgias_obstetricas_qtd diagnostico_ultrasonografia_val  \\\n",
       "0                               2                            48,4   \n",
       "1                              63                           196,9   \n",
       "2                             NaN                             NaN   \n",
       "3                              19                             NaN   \n",
       "4                               7                             NaN   \n",
       "...                           ...                             ...   \n",
       "1013735                       NaN                             NaN   \n",
       "1013736                       NaN                             NaN   \n",
       "1013737                       NaN                             NaN   \n",
       "1013738                       NaN                             NaN   \n",
       "1013739                      1812                       171623,68   \n",
       "\n",
       "        partos_e_nascimentos_val cirurgias_obstetricas_val  \n",
       "0                         3103,8                   1091,46  \n",
       "1                        34141,8                  27791,01  \n",
       "2                           4434                       NaN  \n",
       "3                       34338,92                  10002,76  \n",
       "4                        5606,33                   3003,92  \n",
       "...                          ...                       ...  \n",
       "1013735                      NaN                       NaN  \n",
       "1013736                      NaN                       NaN  \n",
       "1013737                      NaN                       NaN  \n",
       "1013738                      NaN                       NaN  \n",
       "1013739                736754,54                 833827,42  \n",
       "\n",
       "[1013740 rows x 6 columns]"
      ],
      "text/html": [
       "<div>\n",
       "<style scoped>\n",
       "    .dataframe tbody tr th:only-of-type {\n",
       "        vertical-align: middle;\n",
       "    }\n",
       "\n",
       "    .dataframe tbody tr th {\n",
       "        vertical-align: top;\n",
       "    }\n",
       "\n",
       "    .dataframe thead th {\n",
       "        text-align: right;\n",
       "    }\n",
       "</style>\n",
       "<table border=\"1\" class=\"dataframe\">\n",
       "  <thead>\n",
       "    <tr style=\"text-align: right;\">\n",
       "      <th></th>\n",
       "      <th>diagnostico_ultrasonografia_qtd</th>\n",
       "      <th>partos_e_nascimentos_qtd</th>\n",
       "      <th>cirurgias_obstetricas_qtd</th>\n",
       "      <th>diagnostico_ultrasonografia_val</th>\n",
       "      <th>partos_e_nascimentos_val</th>\n",
       "      <th>cirurgias_obstetricas_val</th>\n",
       "    </tr>\n",
       "  </thead>\n",
       "  <tbody>\n",
       "    <tr>\n",
       "      <th>0</th>\n",
       "      <td>2</td>\n",
       "      <td>7</td>\n",
       "      <td>2</td>\n",
       "      <td>48,4</td>\n",
       "      <td>3103,8</td>\n",
       "      <td>1091,46</td>\n",
       "    </tr>\n",
       "    <tr>\n",
       "      <th>1</th>\n",
       "      <td>7</td>\n",
       "      <td>77</td>\n",
       "      <td>63</td>\n",
       "      <td>196,9</td>\n",
       "      <td>34141,8</td>\n",
       "      <td>27791,01</td>\n",
       "    </tr>\n",
       "    <tr>\n",
       "      <th>2</th>\n",
       "      <td>NaN</td>\n",
       "      <td>10</td>\n",
       "      <td>NaN</td>\n",
       "      <td>NaN</td>\n",
       "      <td>4434</td>\n",
       "      <td>NaN</td>\n",
       "    </tr>\n",
       "    <tr>\n",
       "      <th>3</th>\n",
       "      <td>NaN</td>\n",
       "      <td>67</td>\n",
       "      <td>19</td>\n",
       "      <td>NaN</td>\n",
       "      <td>34338,92</td>\n",
       "      <td>10002,76</td>\n",
       "    </tr>\n",
       "    <tr>\n",
       "      <th>4</th>\n",
       "      <td>NaN</td>\n",
       "      <td>13</td>\n",
       "      <td>7</td>\n",
       "      <td>NaN</td>\n",
       "      <td>5606,33</td>\n",
       "      <td>3003,92</td>\n",
       "    </tr>\n",
       "    <tr>\n",
       "      <th>...</th>\n",
       "      <td>...</td>\n",
       "      <td>...</td>\n",
       "      <td>...</td>\n",
       "      <td>...</td>\n",
       "      <td>...</td>\n",
       "      <td>...</td>\n",
       "    </tr>\n",
       "    <tr>\n",
       "      <th>1013735</th>\n",
       "      <td>NaN</td>\n",
       "      <td>NaN</td>\n",
       "      <td>NaN</td>\n",
       "      <td>NaN</td>\n",
       "      <td>NaN</td>\n",
       "      <td>NaN</td>\n",
       "    </tr>\n",
       "    <tr>\n",
       "      <th>1013736</th>\n",
       "      <td>NaN</td>\n",
       "      <td>NaN</td>\n",
       "      <td>NaN</td>\n",
       "      <td>NaN</td>\n",
       "      <td>NaN</td>\n",
       "      <td>NaN</td>\n",
       "    </tr>\n",
       "    <tr>\n",
       "      <th>1013737</th>\n",
       "      <td>NaN</td>\n",
       "      <td>NaN</td>\n",
       "      <td>NaN</td>\n",
       "      <td>NaN</td>\n",
       "      <td>NaN</td>\n",
       "      <td>NaN</td>\n",
       "    </tr>\n",
       "    <tr>\n",
       "      <th>1013738</th>\n",
       "      <td>NaN</td>\n",
       "      <td>NaN</td>\n",
       "      <td>NaN</td>\n",
       "      <td>NaN</td>\n",
       "      <td>NaN</td>\n",
       "      <td>NaN</td>\n",
       "    </tr>\n",
       "    <tr>\n",
       "      <th>1013739</th>\n",
       "      <td>3642</td>\n",
       "      <td>1296</td>\n",
       "      <td>1812</td>\n",
       "      <td>171623,68</td>\n",
       "      <td>736754,54</td>\n",
       "      <td>833827,42</td>\n",
       "    </tr>\n",
       "  </tbody>\n",
       "</table>\n",
       "<p>1013740 rows × 6 columns</p>\n",
       "</div>"
      ]
     },
     "execution_count": 17,
     "metadata": {},
     "output_type": "execute_result"
    }
   ],
   "execution_count": 17
  },
  {
   "metadata": {
    "ExecuteTime": {
     "end_time": "2024-06-10T18:41:11.162279Z",
     "start_time": "2024-06-10T18:41:11.132133Z"
    }
   },
   "cell_type": "code",
   "source": "df.head()",
   "id": "f2e8ab3441371688",
   "outputs": [
    {
     "data": {
      "text/plain": [
       "    ano  mes              municipio  regiao_codigo regiao_nome  uf_codigo  uf  \\\n",
       "0  2009  Jan  Alta Floresta D'Oeste              1       Norte         11  RO   \n",
       "1  2009  Jan              Ariquemes              1       Norte         11  RO   \n",
       "2  2009  Jan                 Cabixi              1       Norte         11  RO   \n",
       "3  2009  Jan                 Cacoal              1       Norte         11  RO   \n",
       "4  2009  Jan             Cerejeiras              1       Norte         11  RO   \n",
       "\n",
       "    uf_nome capital  numero_habitantes                       populacao_faixa  \\\n",
       "0  Rondônia      Nã              21495   03 - De  20.001 a 50.000 habitantes   \n",
       "1  Rondônia      Nã              96833  04 - De  50.001 a 100.000 habitantes   \n",
       "2  Rondônia      Nã               5363            01 - Até 10.000 habitantes   \n",
       "3  Rondônia      Nã              86895  04 - De  50.001 a 100.000 habitantes   \n",
       "4  Rondônia      Nã              15890   02 - De  10.001 a 20.000 habitantes   \n",
       "\n",
       "  diagnostico_ultrasonografia_qtd partos_e_nascimentos_qtd  \\\n",
       "0                               2                        7   \n",
       "1                               7                       77   \n",
       "2                             NaN                       10   \n",
       "3                             NaN                       67   \n",
       "4                             NaN                       13   \n",
       "\n",
       "  cirurgias_obstetricas_qtd diagnostico_ultrasonografia_val  \\\n",
       "0                         2                            48,4   \n",
       "1                        63                           196,9   \n",
       "2                       NaN                             NaN   \n",
       "3                        19                             NaN   \n",
       "4                         7                             NaN   \n",
       "\n",
       "  partos_e_nascimentos_val cirurgias_obstetricas_val   longitude    latitude  \n",
       "0                   3103,8                   1091,46  -61,999824  -11,935540  \n",
       "1                  34141,8                  27791,01  -63,033269   -9,908463  \n",
       "2                     4434                       NaN  -60,544314  -13,499763  \n",
       "3                 34338,92                  10002,76  -61,442944  -11,433865  \n",
       "4                  5606,33                   3003,92  -60,818426  -13,195033  "
      ],
      "text/html": [
       "<div>\n",
       "<style scoped>\n",
       "    .dataframe tbody tr th:only-of-type {\n",
       "        vertical-align: middle;\n",
       "    }\n",
       "\n",
       "    .dataframe tbody tr th {\n",
       "        vertical-align: top;\n",
       "    }\n",
       "\n",
       "    .dataframe thead th {\n",
       "        text-align: right;\n",
       "    }\n",
       "</style>\n",
       "<table border=\"1\" class=\"dataframe\">\n",
       "  <thead>\n",
       "    <tr style=\"text-align: right;\">\n",
       "      <th></th>\n",
       "      <th>ano</th>\n",
       "      <th>mes</th>\n",
       "      <th>municipio</th>\n",
       "      <th>regiao_codigo</th>\n",
       "      <th>regiao_nome</th>\n",
       "      <th>uf_codigo</th>\n",
       "      <th>uf</th>\n",
       "      <th>uf_nome</th>\n",
       "      <th>capital</th>\n",
       "      <th>numero_habitantes</th>\n",
       "      <th>populacao_faixa</th>\n",
       "      <th>diagnostico_ultrasonografia_qtd</th>\n",
       "      <th>partos_e_nascimentos_qtd</th>\n",
       "      <th>cirurgias_obstetricas_qtd</th>\n",
       "      <th>diagnostico_ultrasonografia_val</th>\n",
       "      <th>partos_e_nascimentos_val</th>\n",
       "      <th>cirurgias_obstetricas_val</th>\n",
       "      <th>longitude</th>\n",
       "      <th>latitude</th>\n",
       "    </tr>\n",
       "  </thead>\n",
       "  <tbody>\n",
       "    <tr>\n",
       "      <th>0</th>\n",
       "      <td>2009</td>\n",
       "      <td>Jan</td>\n",
       "      <td>Alta Floresta D'Oeste</td>\n",
       "      <td>1</td>\n",
       "      <td>Norte</td>\n",
       "      <td>11</td>\n",
       "      <td>RO</td>\n",
       "      <td>Rondônia</td>\n",
       "      <td>Nã</td>\n",
       "      <td>21495</td>\n",
       "      <td>03 - De  20.001 a 50.000 habitantes</td>\n",
       "      <td>2</td>\n",
       "      <td>7</td>\n",
       "      <td>2</td>\n",
       "      <td>48,4</td>\n",
       "      <td>3103,8</td>\n",
       "      <td>1091,46</td>\n",
       "      <td>-61,999824</td>\n",
       "      <td>-11,935540</td>\n",
       "    </tr>\n",
       "    <tr>\n",
       "      <th>1</th>\n",
       "      <td>2009</td>\n",
       "      <td>Jan</td>\n",
       "      <td>Ariquemes</td>\n",
       "      <td>1</td>\n",
       "      <td>Norte</td>\n",
       "      <td>11</td>\n",
       "      <td>RO</td>\n",
       "      <td>Rondônia</td>\n",
       "      <td>Nã</td>\n",
       "      <td>96833</td>\n",
       "      <td>04 - De  50.001 a 100.000 habitantes</td>\n",
       "      <td>7</td>\n",
       "      <td>77</td>\n",
       "      <td>63</td>\n",
       "      <td>196,9</td>\n",
       "      <td>34141,8</td>\n",
       "      <td>27791,01</td>\n",
       "      <td>-63,033269</td>\n",
       "      <td>-9,908463</td>\n",
       "    </tr>\n",
       "    <tr>\n",
       "      <th>2</th>\n",
       "      <td>2009</td>\n",
       "      <td>Jan</td>\n",
       "      <td>Cabixi</td>\n",
       "      <td>1</td>\n",
       "      <td>Norte</td>\n",
       "      <td>11</td>\n",
       "      <td>RO</td>\n",
       "      <td>Rondônia</td>\n",
       "      <td>Nã</td>\n",
       "      <td>5363</td>\n",
       "      <td>01 - Até 10.000 habitantes</td>\n",
       "      <td>NaN</td>\n",
       "      <td>10</td>\n",
       "      <td>NaN</td>\n",
       "      <td>NaN</td>\n",
       "      <td>4434</td>\n",
       "      <td>NaN</td>\n",
       "      <td>-60,544314</td>\n",
       "      <td>-13,499763</td>\n",
       "    </tr>\n",
       "    <tr>\n",
       "      <th>3</th>\n",
       "      <td>2009</td>\n",
       "      <td>Jan</td>\n",
       "      <td>Cacoal</td>\n",
       "      <td>1</td>\n",
       "      <td>Norte</td>\n",
       "      <td>11</td>\n",
       "      <td>RO</td>\n",
       "      <td>Rondônia</td>\n",
       "      <td>Nã</td>\n",
       "      <td>86895</td>\n",
       "      <td>04 - De  50.001 a 100.000 habitantes</td>\n",
       "      <td>NaN</td>\n",
       "      <td>67</td>\n",
       "      <td>19</td>\n",
       "      <td>NaN</td>\n",
       "      <td>34338,92</td>\n",
       "      <td>10002,76</td>\n",
       "      <td>-61,442944</td>\n",
       "      <td>-11,433865</td>\n",
       "    </tr>\n",
       "    <tr>\n",
       "      <th>4</th>\n",
       "      <td>2009</td>\n",
       "      <td>Jan</td>\n",
       "      <td>Cerejeiras</td>\n",
       "      <td>1</td>\n",
       "      <td>Norte</td>\n",
       "      <td>11</td>\n",
       "      <td>RO</td>\n",
       "      <td>Rondônia</td>\n",
       "      <td>Nã</td>\n",
       "      <td>15890</td>\n",
       "      <td>02 - De  10.001 a 20.000 habitantes</td>\n",
       "      <td>NaN</td>\n",
       "      <td>13</td>\n",
       "      <td>7</td>\n",
       "      <td>NaN</td>\n",
       "      <td>5606,33</td>\n",
       "      <td>3003,92</td>\n",
       "      <td>-60,818426</td>\n",
       "      <td>-13,195033</td>\n",
       "    </tr>\n",
       "  </tbody>\n",
       "</table>\n",
       "</div>"
      ]
     },
     "execution_count": 18,
     "metadata": {},
     "output_type": "execute_result"
    }
   ],
   "execution_count": 18
  },
  {
   "metadata": {
    "ExecuteTime": {
     "end_time": "2024-06-10T18:41:11.176580Z",
     "start_time": "2024-06-10T18:41:11.165339Z"
    }
   },
   "cell_type": "code",
   "source": "df.dtypes",
   "id": "19ac90afcae9f4a7",
   "outputs": [
    {
     "data": {
      "text/plain": [
       "ano                                 int64\n",
       "mes                                object\n",
       "municipio                          object\n",
       "regiao_codigo                       int64\n",
       "regiao_nome                        object\n",
       "uf_codigo                           int64\n",
       "uf                                 object\n",
       "uf_nome                            object\n",
       "capital                            object\n",
       "numero_habitantes                   int64\n",
       "populacao_faixa                    object\n",
       "diagnostico_ultrasonografia_qtd    object\n",
       "partos_e_nascimentos_qtd           object\n",
       "cirurgias_obstetricas_qtd          object\n",
       "diagnostico_ultrasonografia_val    object\n",
       "partos_e_nascimentos_val           object\n",
       "cirurgias_obstetricas_val          object\n",
       "longitude                          object\n",
       "latitude                           object\n",
       "dtype: object"
      ]
     },
     "execution_count": 19,
     "metadata": {},
     "output_type": "execute_result"
    }
   ],
   "execution_count": 19
  },
  {
   "metadata": {
    "ExecuteTime": {
     "end_time": "2024-06-10T18:41:11.507406Z",
     "start_time": "2024-06-10T18:41:11.180088Z"
    }
   },
   "cell_type": "code",
   "source": "df['diagnostico_ultrasonografia_val'] = df['diagnostico_ultrasonografia_val'].str.replace(',', '.')",
   "id": "1af5e44073af55f7",
   "outputs": [],
   "execution_count": 20
  },
  {
   "metadata": {
    "ExecuteTime": {
     "end_time": "2024-06-10T18:41:11.839401Z",
     "start_time": "2024-06-10T18:41:11.510106Z"
    }
   },
   "cell_type": "code",
   "source": "df['partos_e_nascimentos_val'] = df['partos_e_nascimentos_val'].str.replace(',', '.')",
   "id": "172ef94409089bc6",
   "outputs": [],
   "execution_count": 21
  },
  {
   "metadata": {
    "ExecuteTime": {
     "end_time": "2024-06-10T18:41:12.127070Z",
     "start_time": "2024-06-10T18:41:11.846811Z"
    }
   },
   "cell_type": "code",
   "source": "df['cirurgias_obstetricas_val'] = df['cirurgias_obstetricas_val'].str.replace(',', '.')",
   "id": "ce571ff3c607ca8",
   "outputs": [],
   "execution_count": 22
  },
  {
   "metadata": {
    "ExecuteTime": {
     "end_time": "2024-06-10T18:41:12.589588Z",
     "start_time": "2024-06-10T18:41:12.129361Z"
    }
   },
   "cell_type": "code",
   "source": "df['longitude'] = df['longitude'].str.replace(',', '.')",
   "id": "e3a32afee0e0f8b6",
   "outputs": [],
   "execution_count": 23
  },
  {
   "metadata": {
    "ExecuteTime": {
     "end_time": "2024-06-10T18:41:13.156484Z",
     "start_time": "2024-06-10T18:41:12.592115Z"
    }
   },
   "cell_type": "code",
   "source": "df['latitude'] = df['latitude'].str.replace(',', '.')",
   "id": "35ca3a483a04722",
   "outputs": [],
   "execution_count": 24
  },
  {
   "metadata": {
    "ExecuteTime": {
     "end_time": "2024-06-10T18:41:13.758464Z",
     "start_time": "2024-06-10T18:41:13.678710Z"
    }
   },
   "cell_type": "code",
   "source": "df.head(100)",
   "id": "7a6a276fe6863499",
   "outputs": [
    {
     "data": {
      "text/plain": [
       "     ano  mes              municipio  regiao_codigo regiao_nome  uf_codigo  \\\n",
       "0   2009  Jan  Alta Floresta D'Oeste              1       Norte         11   \n",
       "1   2009  Jan              Ariquemes              1       Norte         11   \n",
       "2   2009  Jan                 Cabixi              1       Norte         11   \n",
       "3   2009  Jan                 Cacoal              1       Norte         11   \n",
       "4   2009  Jan             Cerejeiras              1       Norte         11   \n",
       "..   ...  ...                    ...            ...         ...        ...   \n",
       "95  2009  Jan               Eirunepé              1       Norte         13   \n",
       "96  2009  Jan                 Envira              1       Norte         13   \n",
       "97  2009  Jan              Fonte Boa              1       Norte         13   \n",
       "98  2009  Jan                Guajará              1       Norte         13   \n",
       "99  2009  Jan                Humaitá              1       Norte         13   \n",
       "\n",
       "    uf   uf_nome capital  numero_habitantes  \\\n",
       "0   RO  Rondônia     Não              21495   \n",
       "1   RO  Rondônia     Não              96833   \n",
       "2   RO  Rondônia     Não               5363   \n",
       "3   RO  Rondônia     Não              86895   \n",
       "4   RO  Rondônia     Não              15890   \n",
       "..  ..       ...     ...                ...   \n",
       "95  AM  Amazonas     Não              33170   \n",
       "96  AM  Amazonas     Não              17186   \n",
       "97  AM  Amazonas     Não              25871   \n",
       "98  AM  Amazonas     Não              13815   \n",
       "99  AM  Amazonas     Não              57473   \n",
       "\n",
       "                         populacao_faixa diagnostico_ultrasonografia_qtd  \\\n",
       "0    03 - De  20.001 a 50.000 habitantes                               2   \n",
       "1   04 - De  50.001 a 100.000 habitantes                               7   \n",
       "2             01 - Até 10.000 habitantes                             NaN   \n",
       "3   04 - De  50.001 a 100.000 habitantes                             NaN   \n",
       "4    02 - De  10.001 a 20.000 habitantes                             NaN   \n",
       "..                                   ...                             ...   \n",
       "95   03 - De  20.001 a 50.000 habitantes                             NaN   \n",
       "96   02 - De  10.001 a 20.000 habitantes                             NaN   \n",
       "97   03 - De  20.001 a 50.000 habitantes                             NaN   \n",
       "98   02 - De  10.001 a 20.000 habitantes                             NaN   \n",
       "99  04 - De  50.001 a 100.000 habitantes                             NaN   \n",
       "\n",
       "   partos_e_nascimentos_qtd cirurgias_obstetricas_qtd  \\\n",
       "0                         7                         2   \n",
       "1                        77                        63   \n",
       "2                        10                       NaN   \n",
       "3                        67                        19   \n",
       "4                        13                         7   \n",
       "..                      ...                       ...   \n",
       "95                       57                         8   \n",
       "96                      NaN                       NaN   \n",
       "97                       39                        12   \n",
       "98                       10                       NaN   \n",
       "99                      NaN                        17   \n",
       "\n",
       "   diagnostico_ultrasonografia_val partos_e_nascimentos_val  \\\n",
       "0                             48.4                   3103.8   \n",
       "1                            196.9                  34141.8   \n",
       "2                              NaN                     4434   \n",
       "3                              NaN                 34338.92   \n",
       "4                              NaN                  5606.33   \n",
       "..                             ...                      ...   \n",
       "95                             NaN                  25273.8   \n",
       "96                             NaN                      NaN   \n",
       "97                             NaN                  17292.6   \n",
       "98                             NaN                     4434   \n",
       "99                             NaN                      NaN   \n",
       "\n",
       "   cirurgias_obstetricas_val   longitude    latitude  \n",
       "0                    1091.46  -61.999824  -11.935540  \n",
       "1                   27791.01  -63.033269   -9.908463  \n",
       "2                        NaN  -60.544314  -13.499763  \n",
       "3                   10002.76  -61.442944  -11.433865  \n",
       "4                    3003.92  -60.818426  -13.195033  \n",
       "..                       ...         ...         ...  \n",
       "95                   4365.84  -69.866290   -6.667353  \n",
       "96                       NaN  -70.030413   -7.439818  \n",
       "97                   6548.76  -66.096503   -2.512271  \n",
       "98                       NaN  -72.582431   -7.547774  \n",
       "99                   7812.97  -63.026698   -7.512225  \n",
       "\n",
       "[100 rows x 19 columns]"
      ],
      "text/html": [
       "<div>\n",
       "<style scoped>\n",
       "    .dataframe tbody tr th:only-of-type {\n",
       "        vertical-align: middle;\n",
       "    }\n",
       "\n",
       "    .dataframe tbody tr th {\n",
       "        vertical-align: top;\n",
       "    }\n",
       "\n",
       "    .dataframe thead th {\n",
       "        text-align: right;\n",
       "    }\n",
       "</style>\n",
       "<table border=\"1\" class=\"dataframe\">\n",
       "  <thead>\n",
       "    <tr style=\"text-align: right;\">\n",
       "      <th></th>\n",
       "      <th>ano</th>\n",
       "      <th>mes</th>\n",
       "      <th>municipio</th>\n",
       "      <th>regiao_codigo</th>\n",
       "      <th>regiao_nome</th>\n",
       "      <th>uf_codigo</th>\n",
       "      <th>uf</th>\n",
       "      <th>uf_nome</th>\n",
       "      <th>capital</th>\n",
       "      <th>numero_habitantes</th>\n",
       "      <th>populacao_faixa</th>\n",
       "      <th>diagnostico_ultrasonografia_qtd</th>\n",
       "      <th>partos_e_nascimentos_qtd</th>\n",
       "      <th>cirurgias_obstetricas_qtd</th>\n",
       "      <th>diagnostico_ultrasonografia_val</th>\n",
       "      <th>partos_e_nascimentos_val</th>\n",
       "      <th>cirurgias_obstetricas_val</th>\n",
       "      <th>longitude</th>\n",
       "      <th>latitude</th>\n",
       "    </tr>\n",
       "  </thead>\n",
       "  <tbody>\n",
       "    <tr>\n",
       "      <th>0</th>\n",
       "      <td>2009</td>\n",
       "      <td>Jan</td>\n",
       "      <td>Alta Floresta D'Oeste</td>\n",
       "      <td>1</td>\n",
       "      <td>Norte</td>\n",
       "      <td>11</td>\n",
       "      <td>RO</td>\n",
       "      <td>Rondônia</td>\n",
       "      <td>Não</td>\n",
       "      <td>21495</td>\n",
       "      <td>03 - De  20.001 a 50.000 habitantes</td>\n",
       "      <td>2</td>\n",
       "      <td>7</td>\n",
       "      <td>2</td>\n",
       "      <td>48.4</td>\n",
       "      <td>3103.8</td>\n",
       "      <td>1091.46</td>\n",
       "      <td>-61.999824</td>\n",
       "      <td>-11.935540</td>\n",
       "    </tr>\n",
       "    <tr>\n",
       "      <th>1</th>\n",
       "      <td>2009</td>\n",
       "      <td>Jan</td>\n",
       "      <td>Ariquemes</td>\n",
       "      <td>1</td>\n",
       "      <td>Norte</td>\n",
       "      <td>11</td>\n",
       "      <td>RO</td>\n",
       "      <td>Rondônia</td>\n",
       "      <td>Não</td>\n",
       "      <td>96833</td>\n",
       "      <td>04 - De  50.001 a 100.000 habitantes</td>\n",
       "      <td>7</td>\n",
       "      <td>77</td>\n",
       "      <td>63</td>\n",
       "      <td>196.9</td>\n",
       "      <td>34141.8</td>\n",
       "      <td>27791.01</td>\n",
       "      <td>-63.033269</td>\n",
       "      <td>-9.908463</td>\n",
       "    </tr>\n",
       "    <tr>\n",
       "      <th>2</th>\n",
       "      <td>2009</td>\n",
       "      <td>Jan</td>\n",
       "      <td>Cabixi</td>\n",
       "      <td>1</td>\n",
       "      <td>Norte</td>\n",
       "      <td>11</td>\n",
       "      <td>RO</td>\n",
       "      <td>Rondônia</td>\n",
       "      <td>Não</td>\n",
       "      <td>5363</td>\n",
       "      <td>01 - Até 10.000 habitantes</td>\n",
       "      <td>NaN</td>\n",
       "      <td>10</td>\n",
       "      <td>NaN</td>\n",
       "      <td>NaN</td>\n",
       "      <td>4434</td>\n",
       "      <td>NaN</td>\n",
       "      <td>-60.544314</td>\n",
       "      <td>-13.499763</td>\n",
       "    </tr>\n",
       "    <tr>\n",
       "      <th>3</th>\n",
       "      <td>2009</td>\n",
       "      <td>Jan</td>\n",
       "      <td>Cacoal</td>\n",
       "      <td>1</td>\n",
       "      <td>Norte</td>\n",
       "      <td>11</td>\n",
       "      <td>RO</td>\n",
       "      <td>Rondônia</td>\n",
       "      <td>Não</td>\n",
       "      <td>86895</td>\n",
       "      <td>04 - De  50.001 a 100.000 habitantes</td>\n",
       "      <td>NaN</td>\n",
       "      <td>67</td>\n",
       "      <td>19</td>\n",
       "      <td>NaN</td>\n",
       "      <td>34338.92</td>\n",
       "      <td>10002.76</td>\n",
       "      <td>-61.442944</td>\n",
       "      <td>-11.433865</td>\n",
       "    </tr>\n",
       "    <tr>\n",
       "      <th>4</th>\n",
       "      <td>2009</td>\n",
       "      <td>Jan</td>\n",
       "      <td>Cerejeiras</td>\n",
       "      <td>1</td>\n",
       "      <td>Norte</td>\n",
       "      <td>11</td>\n",
       "      <td>RO</td>\n",
       "      <td>Rondônia</td>\n",
       "      <td>Não</td>\n",
       "      <td>15890</td>\n",
       "      <td>02 - De  10.001 a 20.000 habitantes</td>\n",
       "      <td>NaN</td>\n",
       "      <td>13</td>\n",
       "      <td>7</td>\n",
       "      <td>NaN</td>\n",
       "      <td>5606.33</td>\n",
       "      <td>3003.92</td>\n",
       "      <td>-60.818426</td>\n",
       "      <td>-13.195033</td>\n",
       "    </tr>\n",
       "    <tr>\n",
       "      <th>...</th>\n",
       "      <td>...</td>\n",
       "      <td>...</td>\n",
       "      <td>...</td>\n",
       "      <td>...</td>\n",
       "      <td>...</td>\n",
       "      <td>...</td>\n",
       "      <td>...</td>\n",
       "      <td>...</td>\n",
       "      <td>...</td>\n",
       "      <td>...</td>\n",
       "      <td>...</td>\n",
       "      <td>...</td>\n",
       "      <td>...</td>\n",
       "      <td>...</td>\n",
       "      <td>...</td>\n",
       "      <td>...</td>\n",
       "      <td>...</td>\n",
       "      <td>...</td>\n",
       "      <td>...</td>\n",
       "    </tr>\n",
       "    <tr>\n",
       "      <th>95</th>\n",
       "      <td>2009</td>\n",
       "      <td>Jan</td>\n",
       "      <td>Eirunepé</td>\n",
       "      <td>1</td>\n",
       "      <td>Norte</td>\n",
       "      <td>13</td>\n",
       "      <td>AM</td>\n",
       "      <td>Amazonas</td>\n",
       "      <td>Não</td>\n",
       "      <td>33170</td>\n",
       "      <td>03 - De  20.001 a 50.000 habitantes</td>\n",
       "      <td>NaN</td>\n",
       "      <td>57</td>\n",
       "      <td>8</td>\n",
       "      <td>NaN</td>\n",
       "      <td>25273.8</td>\n",
       "      <td>4365.84</td>\n",
       "      <td>-69.866290</td>\n",
       "      <td>-6.667353</td>\n",
       "    </tr>\n",
       "    <tr>\n",
       "      <th>96</th>\n",
       "      <td>2009</td>\n",
       "      <td>Jan</td>\n",
       "      <td>Envira</td>\n",
       "      <td>1</td>\n",
       "      <td>Norte</td>\n",
       "      <td>13</td>\n",
       "      <td>AM</td>\n",
       "      <td>Amazonas</td>\n",
       "      <td>Não</td>\n",
       "      <td>17186</td>\n",
       "      <td>02 - De  10.001 a 20.000 habitantes</td>\n",
       "      <td>NaN</td>\n",
       "      <td>NaN</td>\n",
       "      <td>NaN</td>\n",
       "      <td>NaN</td>\n",
       "      <td>NaN</td>\n",
       "      <td>NaN</td>\n",
       "      <td>-70.030413</td>\n",
       "      <td>-7.439818</td>\n",
       "    </tr>\n",
       "    <tr>\n",
       "      <th>97</th>\n",
       "      <td>2009</td>\n",
       "      <td>Jan</td>\n",
       "      <td>Fonte Boa</td>\n",
       "      <td>1</td>\n",
       "      <td>Norte</td>\n",
       "      <td>13</td>\n",
       "      <td>AM</td>\n",
       "      <td>Amazonas</td>\n",
       "      <td>Não</td>\n",
       "      <td>25871</td>\n",
       "      <td>03 - De  20.001 a 50.000 habitantes</td>\n",
       "      <td>NaN</td>\n",
       "      <td>39</td>\n",
       "      <td>12</td>\n",
       "      <td>NaN</td>\n",
       "      <td>17292.6</td>\n",
       "      <td>6548.76</td>\n",
       "      <td>-66.096503</td>\n",
       "      <td>-2.512271</td>\n",
       "    </tr>\n",
       "    <tr>\n",
       "      <th>98</th>\n",
       "      <td>2009</td>\n",
       "      <td>Jan</td>\n",
       "      <td>Guajará</td>\n",
       "      <td>1</td>\n",
       "      <td>Norte</td>\n",
       "      <td>13</td>\n",
       "      <td>AM</td>\n",
       "      <td>Amazonas</td>\n",
       "      <td>Não</td>\n",
       "      <td>13815</td>\n",
       "      <td>02 - De  10.001 a 20.000 habitantes</td>\n",
       "      <td>NaN</td>\n",
       "      <td>10</td>\n",
       "      <td>NaN</td>\n",
       "      <td>NaN</td>\n",
       "      <td>4434</td>\n",
       "      <td>NaN</td>\n",
       "      <td>-72.582431</td>\n",
       "      <td>-7.547774</td>\n",
       "    </tr>\n",
       "    <tr>\n",
       "      <th>99</th>\n",
       "      <td>2009</td>\n",
       "      <td>Jan</td>\n",
       "      <td>Humaitá</td>\n",
       "      <td>1</td>\n",
       "      <td>Norte</td>\n",
       "      <td>13</td>\n",
       "      <td>AM</td>\n",
       "      <td>Amazonas</td>\n",
       "      <td>Não</td>\n",
       "      <td>57473</td>\n",
       "      <td>04 - De  50.001 a 100.000 habitantes</td>\n",
       "      <td>NaN</td>\n",
       "      <td>NaN</td>\n",
       "      <td>17</td>\n",
       "      <td>NaN</td>\n",
       "      <td>NaN</td>\n",
       "      <td>7812.97</td>\n",
       "      <td>-63.026698</td>\n",
       "      <td>-7.512225</td>\n",
       "    </tr>\n",
       "  </tbody>\n",
       "</table>\n",
       "<p>100 rows × 19 columns</p>\n",
       "</div>"
      ]
     },
     "execution_count": 28,
     "metadata": {},
     "output_type": "execute_result"
    }
   ],
   "execution_count": 28
  },
  {
   "metadata": {
    "ExecuteTime": {
     "end_time": "2024-06-10T18:41:13.648777Z",
     "start_time": "2024-06-10T18:41:13.201644Z"
    }
   },
   "cell_type": "code",
   "source": "df['capital'] = df['capital'].apply(lambda x: x if x == 'Sim' else 'Não')",
   "id": "b33c474bac5dd359",
   "outputs": [],
   "execution_count": 26
  },
  {
   "metadata": {
    "ExecuteTime": {
     "end_time": "2024-06-10T18:41:13.675638Z",
     "start_time": "2024-06-10T18:41:13.658161Z"
    }
   },
   "cell_type": "code",
   "source": "df.dtypes",
   "id": "a03bd643da286bb",
   "outputs": [
    {
     "data": {
      "text/plain": [
       "ano                                 int64\n",
       "mes                                object\n",
       "municipio                          object\n",
       "regiao_codigo                       int64\n",
       "regiao_nome                        object\n",
       "uf_codigo                           int64\n",
       "uf                                 object\n",
       "uf_nome                            object\n",
       "capital                            object\n",
       "numero_habitantes                   int64\n",
       "populacao_faixa                    object\n",
       "diagnostico_ultrasonografia_qtd    object\n",
       "partos_e_nascimentos_qtd           object\n",
       "cirurgias_obstetricas_qtd          object\n",
       "diagnostico_ultrasonografia_val    object\n",
       "partos_e_nascimentos_val           object\n",
       "cirurgias_obstetricas_val          object\n",
       "longitude                          object\n",
       "latitude                           object\n",
       "dtype: object"
      ]
     },
     "execution_count": 27,
     "metadata": {},
     "output_type": "execute_result"
    }
   ],
   "execution_count": 27
  },
  {
   "metadata": {
    "ExecuteTime": {
     "end_time": "2024-06-10T18:41:50.072661Z",
     "start_time": "2024-06-10T18:41:49.976028Z"
    }
   },
   "cell_type": "code",
   "source": "df['mes'] = df['mes'].astype('category')",
   "id": "4f76245fd7495b10",
   "outputs": [],
   "execution_count": 29
  },
  {
   "metadata": {
    "ExecuteTime": {
     "end_time": "2024-06-10T18:41:50.789473Z",
     "start_time": "2024-06-10T18:41:50.532173Z"
    }
   },
   "cell_type": "code",
   "source": "df['municipio'] = df['municipio'].astype('category')",
   "id": "ec8e942d4da17aaf",
   "outputs": [],
   "execution_count": 30
  },
  {
   "metadata": {
    "ExecuteTime": {
     "end_time": "2024-06-10T18:41:51.066352Z",
     "start_time": "2024-06-10T18:41:51.046972Z"
    }
   },
   "cell_type": "code",
   "source": "df['regiao_codigo'] = df['regiao_codigo'].astype('category')",
   "id": "ac5aaab249680917",
   "outputs": [],
   "execution_count": 31
  },
  {
   "metadata": {
    "ExecuteTime": {
     "end_time": "2024-06-10T18:41:51.494692Z",
     "start_time": "2024-06-10T18:41:51.414570Z"
    }
   },
   "cell_type": "code",
   "source": "df['regiao_nome'] = df['regiao_nome'].astype('category')",
   "id": "57d4d57ea09ecf4e",
   "outputs": [],
   "execution_count": 32
  },
  {
   "metadata": {
    "ExecuteTime": {
     "end_time": "2024-06-10T18:41:51.817505Z",
     "start_time": "2024-06-10T18:41:51.748505Z"
    }
   },
   "cell_type": "code",
   "source": "df['capital'] = df['capital'].astype('category')",
   "id": "a086bc0e9c3c5132",
   "outputs": [],
   "execution_count": 33
  },
  {
   "metadata": {
    "ExecuteTime": {
     "end_time": "2024-06-10T18:41:52.050201Z",
     "start_time": "2024-06-10T18:41:51.976002Z"
    }
   },
   "cell_type": "code",
   "source": "df['uf'] = df['uf'].astype('category')",
   "id": "638c374feed381d4",
   "outputs": [],
   "execution_count": 34
  },
  {
   "metadata": {
    "ExecuteTime": {
     "end_time": "2024-06-10T18:41:52.304788Z",
     "start_time": "2024-06-10T18:41:52.217320Z"
    }
   },
   "cell_type": "code",
   "source": "df['uf_nome'] = df['uf_nome'].astype('category')",
   "id": "f320fc5bc60dbf2c",
   "outputs": [],
   "execution_count": 35
  },
  {
   "metadata": {
    "ExecuteTime": {
     "end_time": "2024-06-10T18:41:52.377358Z",
     "start_time": "2024-06-10T18:41:52.347360Z"
    }
   },
   "cell_type": "code",
   "source": "df['uf_codigo'] = df['uf_codigo'].astype('category')",
   "id": "deda1362159cab",
   "outputs": [],
   "execution_count": 36
  },
  {
   "metadata": {
    "ExecuteTime": {
     "end_time": "2024-06-10T18:41:52.848932Z",
     "start_time": "2024-06-10T18:41:52.722894Z"
    }
   },
   "cell_type": "code",
   "source": "df['populacao_faixa'] = df['populacao_faixa'].astype('category')",
   "id": "5bd7a6d7dd94143d",
   "outputs": [],
   "execution_count": 37
  },
  {
   "metadata": {
    "ExecuteTime": {
     "end_time": "2024-06-10T18:41:54.022127Z",
     "start_time": "2024-06-10T18:41:53.035168Z"
    }
   },
   "cell_type": "code",
   "source": [
    "for col in df.filter(regex='_qtd'):\n",
    "    df[col] = df[col].astype('Int64')"
   ],
   "id": "32b4b6dabee50d58",
   "outputs": [],
   "execution_count": 38
  },
  {
   "metadata": {
    "ExecuteTime": {
     "end_time": "2024-06-10T18:41:54.366003Z",
     "start_time": "2024-06-10T18:41:54.043567Z"
    }
   },
   "cell_type": "code",
   "source": [
    "for col in df.filter(regex='_val'):\n",
    "    df[col] = df[col].astype('float64')"
   ],
   "id": "69642bab49954a40",
   "outputs": [],
   "execution_count": 39
  },
  {
   "metadata": {
    "ExecuteTime": {
     "end_time": "2024-06-10T18:41:54.601816Z",
     "start_time": "2024-06-10T18:41:54.373419Z"
    }
   },
   "cell_type": "code",
   "source": "df['latitude'] = df['latitude'].astype('float64')",
   "id": "89c89b0ebb96054d",
   "outputs": [],
   "execution_count": 40
  },
  {
   "metadata": {
    "ExecuteTime": {
     "end_time": "2024-06-10T18:41:54.912750Z",
     "start_time": "2024-06-10T18:41:54.603725Z"
    }
   },
   "cell_type": "code",
   "source": "df['longitude'] = df['longitude'].astype('float64')",
   "id": "b64e7c1d2c13d220",
   "outputs": [],
   "execution_count": 41
  },
  {
   "metadata": {
    "ExecuteTime": {
     "end_time": "2024-06-10T18:41:54.943193Z",
     "start_time": "2024-06-10T18:41:54.915610Z"
    }
   },
   "cell_type": "code",
   "source": "memoria_por_coluna = df.memory_usage(deep=True)",
   "id": "e61b8149edc16f0b",
   "outputs": [],
   "execution_count": 42
  },
  {
   "metadata": {
    "ExecuteTime": {
     "end_time": "2024-06-10T18:41:54.974437Z",
     "start_time": "2024-06-10T18:41:54.947734Z"
    }
   },
   "cell_type": "code",
   "source": [
    "memoria_total_bytes = memoria_por_coluna.sum()\n",
    "memoria_total_gb = memoria_total_bytes / (1024**3)\n",
    "print(f\"Uso de memória total: {memoria_total_gb:.6f} GB\")"
   ],
   "id": "621b9dfe6017be88",
   "outputs": [
    {
     "name": "stdout",
     "output_type": "stream",
     "text": [
      "Uso de memória total: 0.088358 GB\n"
     ]
    }
   ],
   "execution_count": 43
  },
  {
   "metadata": {
    "ExecuteTime": {
     "end_time": "2024-06-10T18:41:56.495666Z",
     "start_time": "2024-06-10T18:41:56.492413Z"
    }
   },
   "cell_type": "code",
   "source": "# df.to_csv(r'dataset/dataset.csv', index=False)",
   "id": "ab4f90340ce91fb6",
   "outputs": [],
   "execution_count": 44
  },
  {
   "metadata": {
    "ExecuteTime": {
     "end_time": "2024-06-10T18:41:58.256289Z",
     "start_time": "2024-06-10T18:41:57.514873Z"
    }
   },
   "cell_type": "code",
   "source": "df.describe()",
   "id": "b6a5540a4d0b4edd",
   "outputs": [
    {
     "data": {
      "text/plain": [
       "                ano  numero_habitantes  diagnostico_ultrasonografia_qtd  \\\n",
       "count  1.013740e+06       1.013740e+06                         188301.0   \n",
       "mean   2.016088e+03       3.645647e+04                       149.800171   \n",
       "std    4.376885e+00       2.064986e+05                       626.618988   \n",
       "min    2.009000e+03       8.330000e+02                              1.0   \n",
       "25%    2.012000e+03       5.228000e+03                              6.0   \n",
       "50%    2.016000e+03       1.106500e+04                             23.0   \n",
       "75%    2.020000e+03       2.442800e+04                             82.0   \n",
       "max    2.024000e+03       1.145124e+07                          17275.0   \n",
       "\n",
       "       partos_e_nascimentos_qtd  cirurgias_obstetricas_qtd  \\\n",
       "count                  407231.0                   320742.0   \n",
       "mean                  40.600011                  47.669638   \n",
       "std                  163.028374                 145.000453   \n",
       "min                         1.0                        1.0   \n",
       "25%                         4.0                        6.0   \n",
       "50%                        10.0                       15.0   \n",
       "75%                        30.0                       42.0   \n",
       "max                      6514.0                     4211.0   \n",
       "\n",
       "       diagnostico_ultrasonografia_val  partos_e_nascimentos_val  \\\n",
       "count                    188293.000000              4.152620e+05   \n",
       "mean                       5881.996949              2.228984e+04   \n",
       "std                       26389.692027              9.488561e+04   \n",
       "min                          24.200000              5.520000e+01   \n",
       "25%                         189.750000              1.773600e+03   \n",
       "50%                         721.600000              4.877400e+03   \n",
       "75%                        2744.500000              1.463220e+04   \n",
       "max                      872883.650000              3.814773e+06   \n",
       "\n",
       "       cirurgias_obstetricas_val     longitude      latitude  \n",
       "count               3.207450e+05  1.013740e+06  1.013740e+06  \n",
       "mean                2.537859e+04 -4.623172e+01 -1.645072e+01  \n",
       "std                 8.241715e+04  6.408195e+00  8.284251e+00  \n",
       "min                 4.760000e+01 -7.291650e+01 -3.368757e+01  \n",
       "25%                 2.728650e+03 -5.087195e+01 -2.284286e+01  \n",
       "50%                 7.442650e+03 -4.652517e+01 -1.809430e+01  \n",
       "75%                 2.033226e+04 -4.140958e+01 -8.489593e+00  \n",
       "max                 2.401956e+06 -3.243519e+01  4.585440e+00  "
      ],
      "text/html": [
       "<div>\n",
       "<style scoped>\n",
       "    .dataframe tbody tr th:only-of-type {\n",
       "        vertical-align: middle;\n",
       "    }\n",
       "\n",
       "    .dataframe tbody tr th {\n",
       "        vertical-align: top;\n",
       "    }\n",
       "\n",
       "    .dataframe thead th {\n",
       "        text-align: right;\n",
       "    }\n",
       "</style>\n",
       "<table border=\"1\" class=\"dataframe\">\n",
       "  <thead>\n",
       "    <tr style=\"text-align: right;\">\n",
       "      <th></th>\n",
       "      <th>ano</th>\n",
       "      <th>numero_habitantes</th>\n",
       "      <th>diagnostico_ultrasonografia_qtd</th>\n",
       "      <th>partos_e_nascimentos_qtd</th>\n",
       "      <th>cirurgias_obstetricas_qtd</th>\n",
       "      <th>diagnostico_ultrasonografia_val</th>\n",
       "      <th>partos_e_nascimentos_val</th>\n",
       "      <th>cirurgias_obstetricas_val</th>\n",
       "      <th>longitude</th>\n",
       "      <th>latitude</th>\n",
       "    </tr>\n",
       "  </thead>\n",
       "  <tbody>\n",
       "    <tr>\n",
       "      <th>count</th>\n",
       "      <td>1.013740e+06</td>\n",
       "      <td>1.013740e+06</td>\n",
       "      <td>188301.0</td>\n",
       "      <td>407231.0</td>\n",
       "      <td>320742.0</td>\n",
       "      <td>188293.000000</td>\n",
       "      <td>4.152620e+05</td>\n",
       "      <td>3.207450e+05</td>\n",
       "      <td>1.013740e+06</td>\n",
       "      <td>1.013740e+06</td>\n",
       "    </tr>\n",
       "    <tr>\n",
       "      <th>mean</th>\n",
       "      <td>2.016088e+03</td>\n",
       "      <td>3.645647e+04</td>\n",
       "      <td>149.800171</td>\n",
       "      <td>40.600011</td>\n",
       "      <td>47.669638</td>\n",
       "      <td>5881.996949</td>\n",
       "      <td>2.228984e+04</td>\n",
       "      <td>2.537859e+04</td>\n",
       "      <td>-4.623172e+01</td>\n",
       "      <td>-1.645072e+01</td>\n",
       "    </tr>\n",
       "    <tr>\n",
       "      <th>std</th>\n",
       "      <td>4.376885e+00</td>\n",
       "      <td>2.064986e+05</td>\n",
       "      <td>626.618988</td>\n",
       "      <td>163.028374</td>\n",
       "      <td>145.000453</td>\n",
       "      <td>26389.692027</td>\n",
       "      <td>9.488561e+04</td>\n",
       "      <td>8.241715e+04</td>\n",
       "      <td>6.408195e+00</td>\n",
       "      <td>8.284251e+00</td>\n",
       "    </tr>\n",
       "    <tr>\n",
       "      <th>min</th>\n",
       "      <td>2.009000e+03</td>\n",
       "      <td>8.330000e+02</td>\n",
       "      <td>1.0</td>\n",
       "      <td>1.0</td>\n",
       "      <td>1.0</td>\n",
       "      <td>24.200000</td>\n",
       "      <td>5.520000e+01</td>\n",
       "      <td>4.760000e+01</td>\n",
       "      <td>-7.291650e+01</td>\n",
       "      <td>-3.368757e+01</td>\n",
       "    </tr>\n",
       "    <tr>\n",
       "      <th>25%</th>\n",
       "      <td>2.012000e+03</td>\n",
       "      <td>5.228000e+03</td>\n",
       "      <td>6.0</td>\n",
       "      <td>4.0</td>\n",
       "      <td>6.0</td>\n",
       "      <td>189.750000</td>\n",
       "      <td>1.773600e+03</td>\n",
       "      <td>2.728650e+03</td>\n",
       "      <td>-5.087195e+01</td>\n",
       "      <td>-2.284286e+01</td>\n",
       "    </tr>\n",
       "    <tr>\n",
       "      <th>50%</th>\n",
       "      <td>2.016000e+03</td>\n",
       "      <td>1.106500e+04</td>\n",
       "      <td>23.0</td>\n",
       "      <td>10.0</td>\n",
       "      <td>15.0</td>\n",
       "      <td>721.600000</td>\n",
       "      <td>4.877400e+03</td>\n",
       "      <td>7.442650e+03</td>\n",
       "      <td>-4.652517e+01</td>\n",
       "      <td>-1.809430e+01</td>\n",
       "    </tr>\n",
       "    <tr>\n",
       "      <th>75%</th>\n",
       "      <td>2.020000e+03</td>\n",
       "      <td>2.442800e+04</td>\n",
       "      <td>82.0</td>\n",
       "      <td>30.0</td>\n",
       "      <td>42.0</td>\n",
       "      <td>2744.500000</td>\n",
       "      <td>1.463220e+04</td>\n",
       "      <td>2.033226e+04</td>\n",
       "      <td>-4.140958e+01</td>\n",
       "      <td>-8.489593e+00</td>\n",
       "    </tr>\n",
       "    <tr>\n",
       "      <th>max</th>\n",
       "      <td>2.024000e+03</td>\n",
       "      <td>1.145124e+07</td>\n",
       "      <td>17275.0</td>\n",
       "      <td>6514.0</td>\n",
       "      <td>4211.0</td>\n",
       "      <td>872883.650000</td>\n",
       "      <td>3.814773e+06</td>\n",
       "      <td>2.401956e+06</td>\n",
       "      <td>-3.243519e+01</td>\n",
       "      <td>4.585440e+00</td>\n",
       "    </tr>\n",
       "  </tbody>\n",
       "</table>\n",
       "</div>"
      ]
     },
     "execution_count": 45,
     "metadata": {},
     "output_type": "execute_result"
    }
   ],
   "execution_count": 45
  },
  {
   "metadata": {
    "ExecuteTime": {
     "end_time": "2024-06-10T18:43:14.933576Z",
     "start_time": "2024-06-10T18:43:14.929767Z"
    }
   },
   "cell_type": "code",
   "source": "# analisar as colunas mais relevantes",
   "id": "dbe968c26b4a27cd",
   "outputs": [],
   "execution_count": 46
  },
  {
   "metadata": {
    "ExecuteTime": {
     "end_time": "2024-06-11T16:53:06.784591Z",
     "start_time": "2024-06-11T16:53:04.529799Z"
    }
   },
   "cell_type": "code",
   "source": "df = pd.read_csv(r'dataset/table_AIH_2009_2024_CLEAN.csv', sep=';')",
   "id": "75a67dbeaa3af2ca",
   "outputs": [],
   "execution_count": 81
  },
  {
   "metadata": {
    "ExecuteTime": {
     "end_time": "2024-06-11T16:40:22.271856Z",
     "start_time": "2024-06-11T16:40:22.208574Z"
    }
   },
   "cell_type": "code",
   "source": "df.groupby(['mes','ano'], observed=False).agg({'partos_e_nascimentos_qtd': 'sum'}).reset_index()",
   "id": "726776078e8c9a85",
   "outputs": [
    {
     "data": {
      "text/plain": [
       "     mes   ano  partos_e_nascimentos_qtd\n",
       "0      1  2009                  105424.0\n",
       "1      1  2010                  103943.0\n",
       "2      1  2011                   98951.0\n",
       "3      1  2012                   92914.0\n",
       "4      1  2013                   94223.0\n",
       "..   ...   ...                       ...\n",
       "177   12  2019                   80365.0\n",
       "178   12  2020                   75730.0\n",
       "179   12  2021                   78142.0\n",
       "180   12  2022                   75175.0\n",
       "181   12  2023                   64281.0\n",
       "\n",
       "[182 rows x 3 columns]"
      ],
      "text/html": [
       "<div>\n",
       "<style scoped>\n",
       "    .dataframe tbody tr th:only-of-type {\n",
       "        vertical-align: middle;\n",
       "    }\n",
       "\n",
       "    .dataframe tbody tr th {\n",
       "        vertical-align: top;\n",
       "    }\n",
       "\n",
       "    .dataframe thead th {\n",
       "        text-align: right;\n",
       "    }\n",
       "</style>\n",
       "<table border=\"1\" class=\"dataframe\">\n",
       "  <thead>\n",
       "    <tr style=\"text-align: right;\">\n",
       "      <th></th>\n",
       "      <th>mes</th>\n",
       "      <th>ano</th>\n",
       "      <th>partos_e_nascimentos_qtd</th>\n",
       "    </tr>\n",
       "  </thead>\n",
       "  <tbody>\n",
       "    <tr>\n",
       "      <th>0</th>\n",
       "      <td>1</td>\n",
       "      <td>2009</td>\n",
       "      <td>105424.0</td>\n",
       "    </tr>\n",
       "    <tr>\n",
       "      <th>1</th>\n",
       "      <td>1</td>\n",
       "      <td>2010</td>\n",
       "      <td>103943.0</td>\n",
       "    </tr>\n",
       "    <tr>\n",
       "      <th>2</th>\n",
       "      <td>1</td>\n",
       "      <td>2011</td>\n",
       "      <td>98951.0</td>\n",
       "    </tr>\n",
       "    <tr>\n",
       "      <th>3</th>\n",
       "      <td>1</td>\n",
       "      <td>2012</td>\n",
       "      <td>92914.0</td>\n",
       "    </tr>\n",
       "    <tr>\n",
       "      <th>4</th>\n",
       "      <td>1</td>\n",
       "      <td>2013</td>\n",
       "      <td>94223.0</td>\n",
       "    </tr>\n",
       "    <tr>\n",
       "      <th>...</th>\n",
       "      <td>...</td>\n",
       "      <td>...</td>\n",
       "      <td>...</td>\n",
       "    </tr>\n",
       "    <tr>\n",
       "      <th>177</th>\n",
       "      <td>12</td>\n",
       "      <td>2019</td>\n",
       "      <td>80365.0</td>\n",
       "    </tr>\n",
       "    <tr>\n",
       "      <th>178</th>\n",
       "      <td>12</td>\n",
       "      <td>2020</td>\n",
       "      <td>75730.0</td>\n",
       "    </tr>\n",
       "    <tr>\n",
       "      <th>179</th>\n",
       "      <td>12</td>\n",
       "      <td>2021</td>\n",
       "      <td>78142.0</td>\n",
       "    </tr>\n",
       "    <tr>\n",
       "      <th>180</th>\n",
       "      <td>12</td>\n",
       "      <td>2022</td>\n",
       "      <td>75175.0</td>\n",
       "    </tr>\n",
       "    <tr>\n",
       "      <th>181</th>\n",
       "      <td>12</td>\n",
       "      <td>2023</td>\n",
       "      <td>64281.0</td>\n",
       "    </tr>\n",
       "  </tbody>\n",
       "</table>\n",
       "<p>182 rows × 3 columns</p>\n",
       "</div>"
      ]
     },
     "execution_count": 61,
     "metadata": {},
     "output_type": "execute_result"
    }
   ],
   "execution_count": 61
  },
  {
   "metadata": {
    "ExecuteTime": {
     "end_time": "2024-06-11T16:53:18.854294Z",
     "start_time": "2024-06-11T16:53:18.837878Z"
    }
   },
   "cell_type": "code",
   "source": "df.head()",
   "id": "3aeea064948091ed",
   "outputs": [
    {
     "data": {
      "text/plain": [
       "    ano  mes              municipio  regiao_codigo regiao_nome  uf_codigo  uf  \\\n",
       "0  2009    1  Alta Floresta D'Oeste              1       Norte         11  RO   \n",
       "1  2009    1              Ariquemes              1       Norte         11  RO   \n",
       "2  2009    1                 Cabixi              1       Norte         11  RO   \n",
       "3  2009    1                 Cacoal              1       Norte         11  RO   \n",
       "4  2009    1             Cerejeiras              1       Norte         11  RO   \n",
       "\n",
       "    uf_nome capital  numero_habitantes                       populacao_faixa  \\\n",
       "0  Rondônia     Não              21495   03 - De  20.001 a 50.000 habitantes   \n",
       "1  Rondônia     Não              96833  04 - De  50.001 a 100.000 habitantes   \n",
       "2  Rondônia     Não               5363            01 - Até 10.000 habitantes   \n",
       "3  Rondônia     Não              86895  04 - De  50.001 a 100.000 habitantes   \n",
       "4  Rondônia     Não              15890   02 - De  10.001 a 20.000 habitantes   \n",
       "\n",
       "   diagnostico_ultrasonografia_qtd  partos_e_nascimentos_qtd  \\\n",
       "0                              2.0                       7.0   \n",
       "1                              7.0                      77.0   \n",
       "2                              NaN                      10.0   \n",
       "3                              NaN                      67.0   \n",
       "4                              NaN                      13.0   \n",
       "\n",
       "   cirurgias_obstetricas_qtd  diagnostico_ultrasonografia_val  \\\n",
       "0                        2.0                             48.4   \n",
       "1                       63.0                            196.9   \n",
       "2                        NaN                              NaN   \n",
       "3                       19.0                              NaN   \n",
       "4                        7.0                              NaN   \n",
       "\n",
       "   partos_e_nascimentos_val  cirurgias_obstetricas_val  longitude   latitude  \n",
       "0                   3103.80                    1091.46 -61.999824 -11.935540  \n",
       "1                  34141.80                   27791.01 -63.033269  -9.908463  \n",
       "2                   4434.00                        NaN -60.544314 -13.499763  \n",
       "3                  34338.92                   10002.76 -61.442944 -11.433865  \n",
       "4                   5606.33                    3003.92 -60.818426 -13.195033  "
      ],
      "text/html": [
       "<div>\n",
       "<style scoped>\n",
       "    .dataframe tbody tr th:only-of-type {\n",
       "        vertical-align: middle;\n",
       "    }\n",
       "\n",
       "    .dataframe tbody tr th {\n",
       "        vertical-align: top;\n",
       "    }\n",
       "\n",
       "    .dataframe thead th {\n",
       "        text-align: right;\n",
       "    }\n",
       "</style>\n",
       "<table border=\"1\" class=\"dataframe\">\n",
       "  <thead>\n",
       "    <tr style=\"text-align: right;\">\n",
       "      <th></th>\n",
       "      <th>ano</th>\n",
       "      <th>mes</th>\n",
       "      <th>municipio</th>\n",
       "      <th>regiao_codigo</th>\n",
       "      <th>regiao_nome</th>\n",
       "      <th>uf_codigo</th>\n",
       "      <th>uf</th>\n",
       "      <th>uf_nome</th>\n",
       "      <th>capital</th>\n",
       "      <th>numero_habitantes</th>\n",
       "      <th>populacao_faixa</th>\n",
       "      <th>diagnostico_ultrasonografia_qtd</th>\n",
       "      <th>partos_e_nascimentos_qtd</th>\n",
       "      <th>cirurgias_obstetricas_qtd</th>\n",
       "      <th>diagnostico_ultrasonografia_val</th>\n",
       "      <th>partos_e_nascimentos_val</th>\n",
       "      <th>cirurgias_obstetricas_val</th>\n",
       "      <th>longitude</th>\n",
       "      <th>latitude</th>\n",
       "    </tr>\n",
       "  </thead>\n",
       "  <tbody>\n",
       "    <tr>\n",
       "      <th>0</th>\n",
       "      <td>2009</td>\n",
       "      <td>1</td>\n",
       "      <td>Alta Floresta D'Oeste</td>\n",
       "      <td>1</td>\n",
       "      <td>Norte</td>\n",
       "      <td>11</td>\n",
       "      <td>RO</td>\n",
       "      <td>Rondônia</td>\n",
       "      <td>Não</td>\n",
       "      <td>21495</td>\n",
       "      <td>03 - De  20.001 a 50.000 habitantes</td>\n",
       "      <td>2.0</td>\n",
       "      <td>7.0</td>\n",
       "      <td>2.0</td>\n",
       "      <td>48.4</td>\n",
       "      <td>3103.80</td>\n",
       "      <td>1091.46</td>\n",
       "      <td>-61.999824</td>\n",
       "      <td>-11.935540</td>\n",
       "    </tr>\n",
       "    <tr>\n",
       "      <th>1</th>\n",
       "      <td>2009</td>\n",
       "      <td>1</td>\n",
       "      <td>Ariquemes</td>\n",
       "      <td>1</td>\n",
       "      <td>Norte</td>\n",
       "      <td>11</td>\n",
       "      <td>RO</td>\n",
       "      <td>Rondônia</td>\n",
       "      <td>Não</td>\n",
       "      <td>96833</td>\n",
       "      <td>04 - De  50.001 a 100.000 habitantes</td>\n",
       "      <td>7.0</td>\n",
       "      <td>77.0</td>\n",
       "      <td>63.0</td>\n",
       "      <td>196.9</td>\n",
       "      <td>34141.80</td>\n",
       "      <td>27791.01</td>\n",
       "      <td>-63.033269</td>\n",
       "      <td>-9.908463</td>\n",
       "    </tr>\n",
       "    <tr>\n",
       "      <th>2</th>\n",
       "      <td>2009</td>\n",
       "      <td>1</td>\n",
       "      <td>Cabixi</td>\n",
       "      <td>1</td>\n",
       "      <td>Norte</td>\n",
       "      <td>11</td>\n",
       "      <td>RO</td>\n",
       "      <td>Rondônia</td>\n",
       "      <td>Não</td>\n",
       "      <td>5363</td>\n",
       "      <td>01 - Até 10.000 habitantes</td>\n",
       "      <td>NaN</td>\n",
       "      <td>10.0</td>\n",
       "      <td>NaN</td>\n",
       "      <td>NaN</td>\n",
       "      <td>4434.00</td>\n",
       "      <td>NaN</td>\n",
       "      <td>-60.544314</td>\n",
       "      <td>-13.499763</td>\n",
       "    </tr>\n",
       "    <tr>\n",
       "      <th>3</th>\n",
       "      <td>2009</td>\n",
       "      <td>1</td>\n",
       "      <td>Cacoal</td>\n",
       "      <td>1</td>\n",
       "      <td>Norte</td>\n",
       "      <td>11</td>\n",
       "      <td>RO</td>\n",
       "      <td>Rondônia</td>\n",
       "      <td>Não</td>\n",
       "      <td>86895</td>\n",
       "      <td>04 - De  50.001 a 100.000 habitantes</td>\n",
       "      <td>NaN</td>\n",
       "      <td>67.0</td>\n",
       "      <td>19.0</td>\n",
       "      <td>NaN</td>\n",
       "      <td>34338.92</td>\n",
       "      <td>10002.76</td>\n",
       "      <td>-61.442944</td>\n",
       "      <td>-11.433865</td>\n",
       "    </tr>\n",
       "    <tr>\n",
       "      <th>4</th>\n",
       "      <td>2009</td>\n",
       "      <td>1</td>\n",
       "      <td>Cerejeiras</td>\n",
       "      <td>1</td>\n",
       "      <td>Norte</td>\n",
       "      <td>11</td>\n",
       "      <td>RO</td>\n",
       "      <td>Rondônia</td>\n",
       "      <td>Não</td>\n",
       "      <td>15890</td>\n",
       "      <td>02 - De  10.001 a 20.000 habitantes</td>\n",
       "      <td>NaN</td>\n",
       "      <td>13.0</td>\n",
       "      <td>7.0</td>\n",
       "      <td>NaN</td>\n",
       "      <td>5606.33</td>\n",
       "      <td>3003.92</td>\n",
       "      <td>-60.818426</td>\n",
       "      <td>-13.195033</td>\n",
       "    </tr>\n",
       "  </tbody>\n",
       "</table>\n",
       "</div>"
      ]
     },
     "execution_count": 82,
     "metadata": {},
     "output_type": "execute_result"
    }
   ],
   "execution_count": 82
  },
  {
   "metadata": {
    "ExecuteTime": {
     "end_time": "2024-06-11T16:57:37.602408Z",
     "start_time": "2024-06-11T16:57:36.896516Z"
    }
   },
   "cell_type": "code",
   "source": "df['data'] = list(map(lambda x,y: \"{}-{}\".format(x,y), df['ano'], df['mes']))",
   "id": "1b771f1d42268ada",
   "outputs": [],
   "execution_count": 88
  },
  {
   "metadata": {
    "ExecuteTime": {
     "end_time": "2024-06-11T20:08:52.223727Z",
     "start_time": "2024-06-11T20:08:52.220547Z"
    }
   },
   "cell_type": "code",
   "source": [
    "def convert_to_datetime(data):\n",
    "    return datetime.strptime(data, format(\"%Y-%m\"))"
   ],
   "id": "242d06cd8d51fb1f",
   "outputs": [],
   "execution_count": 99
  },
  {
   "metadata": {
    "ExecuteTime": {
     "end_time": "2024-06-11T20:10:19.125429Z",
     "start_time": "2024-06-11T20:10:11.130158Z"
    }
   },
   "cell_type": "code",
   "source": "df['time'] = list(map(lambda x: convert_to_datetime(x), df['data']))",
   "id": "a47277122a697a61",
   "outputs": [],
   "execution_count": 100
  },
  {
   "metadata": {
    "ExecuteTime": {
     "end_time": "2024-06-11T21:45:27.479421Z",
     "start_time": "2024-06-11T21:45:27.433490Z"
    }
   },
   "cell_type": "code",
   "source": [
    "df_st = df.groupby(['time']).agg({'partos_e_nascimentos_qtd': 'sum',\n",
    "                                  'partos_e_nascimentos_val':'sum',\n",
    "                                  'cirurgias_obstetricas_qtd': 'sum',\n",
    "                                  'cirurgias_obstetricas_val': 'sum'})"
   ],
   "id": "12798f61c44cc49d",
   "outputs": [],
   "execution_count": 175
  },
  {
   "metadata": {
    "ExecuteTime": {
     "end_time": "2024-06-11T21:45:29.293697Z",
     "start_time": "2024-06-11T21:45:29.279995Z"
    }
   },
   "cell_type": "code",
   "source": "df_st.head()",
   "id": "b09f7f3e54f0b00",
   "outputs": [
    {
     "data": {
      "text/plain": [
       "            partos_e_nascimentos_qtd  partos_e_nascimentos_val  \\\n",
       "time                                                             \n",
       "2009-01-01                  105424.0               56176411.81   \n",
       "2009-02-01                  102933.0               54825506.19   \n",
       "2009-03-01                  117114.0               62399264.22   \n",
       "2009-04-01                  113382.0               60340947.92   \n",
       "2009-05-01                  114401.0               61212225.34   \n",
       "\n",
       "            cirurgias_obstetricas_qtd  cirurgias_obstetricas_val  \n",
       "time                                                              \n",
       "2009-01-01                    70826.0                34960984.60  \n",
       "2009-02-01                    69128.0                34439919.89  \n",
       "2009-03-01                    77726.0                38846455.60  \n",
       "2009-04-01                    75718.0                37832404.45  \n",
       "2009-05-01                    76650.0                38719927.20  "
      ],
      "text/html": [
       "<div>\n",
       "<style scoped>\n",
       "    .dataframe tbody tr th:only-of-type {\n",
       "        vertical-align: middle;\n",
       "    }\n",
       "\n",
       "    .dataframe tbody tr th {\n",
       "        vertical-align: top;\n",
       "    }\n",
       "\n",
       "    .dataframe thead th {\n",
       "        text-align: right;\n",
       "    }\n",
       "</style>\n",
       "<table border=\"1\" class=\"dataframe\">\n",
       "  <thead>\n",
       "    <tr style=\"text-align: right;\">\n",
       "      <th></th>\n",
       "      <th>partos_e_nascimentos_qtd</th>\n",
       "      <th>partos_e_nascimentos_val</th>\n",
       "      <th>cirurgias_obstetricas_qtd</th>\n",
       "      <th>cirurgias_obstetricas_val</th>\n",
       "    </tr>\n",
       "    <tr>\n",
       "      <th>time</th>\n",
       "      <th></th>\n",
       "      <th></th>\n",
       "      <th></th>\n",
       "      <th></th>\n",
       "    </tr>\n",
       "  </thead>\n",
       "  <tbody>\n",
       "    <tr>\n",
       "      <th>2009-01-01</th>\n",
       "      <td>105424.0</td>\n",
       "      <td>56176411.81</td>\n",
       "      <td>70826.0</td>\n",
       "      <td>34960984.60</td>\n",
       "    </tr>\n",
       "    <tr>\n",
       "      <th>2009-02-01</th>\n",
       "      <td>102933.0</td>\n",
       "      <td>54825506.19</td>\n",
       "      <td>69128.0</td>\n",
       "      <td>34439919.89</td>\n",
       "    </tr>\n",
       "    <tr>\n",
       "      <th>2009-03-01</th>\n",
       "      <td>117114.0</td>\n",
       "      <td>62399264.22</td>\n",
       "      <td>77726.0</td>\n",
       "      <td>38846455.60</td>\n",
       "    </tr>\n",
       "    <tr>\n",
       "      <th>2009-04-01</th>\n",
       "      <td>113382.0</td>\n",
       "      <td>60340947.92</td>\n",
       "      <td>75718.0</td>\n",
       "      <td>37832404.45</td>\n",
       "    </tr>\n",
       "    <tr>\n",
       "      <th>2009-05-01</th>\n",
       "      <td>114401.0</td>\n",
       "      <td>61212225.34</td>\n",
       "      <td>76650.0</td>\n",
       "      <td>38719927.20</td>\n",
       "    </tr>\n",
       "  </tbody>\n",
       "</table>\n",
       "</div>"
      ]
     },
     "execution_count": 176,
     "metadata": {},
     "output_type": "execute_result"
    }
   ],
   "execution_count": 176
  },
  {
   "metadata": {
    "ExecuteTime": {
     "end_time": "2024-06-12T02:04:51.710594Z",
     "start_time": "2024-06-12T02:04:51.586146Z"
    }
   },
   "cell_type": "code",
   "source": [
    "fig = px.line(df_st, y='partos_e_nascimentos_qtd',title='Números de partos entre 2009 e 2024')\n",
    "# fig2 = px.line(df_st, y='partos_e_nascimentos_val',title='Valores com partos entre 2009 e 2024')\n",
    "#fig = make_subplots(rows=2, cols=1, subplot_titles=('Quantidade', 'Valores'), shared_xaxes=True, shared_yaxes=False)\n",
    "\n",
    "#fig.add_trace(go.Scatter(x=df_st.index, y=df_st['partos_e_nascimentos_qtd'], mode='lines', name='Quantidade'), row=1, col=1)\n",
    "#fig.add_trace(go.Scatter(x=df_st.index, y=df_st['partos_e_nascimentos_val'], mode='lines', name='Valores'), row=2, col=1)\n",
    "\n",
    "#fig.update_xaxes(dtick=\"M1\", tickmode='auto', rangeslider_visible=True)\n",
    "fig.update_layout(template = 'plotly_white')\n",
    "\n",
    "# fig.update_layout(\n",
    "#     xaxis2_rangeslider_visible=True,\n",
    "#     xaxis2_type=\"date\",\n",
    "#     autosize=True, height=900\n",
    "#     )\n",
    "fig.show()"
   ],
   "id": "e7f2ccef6671107e",
   "outputs": [
    {
     "data": {
      "application/vnd.plotly.v1+json": {
       "data": [
        {
         "hovertemplate": "time=%{x}<br>partos_e_nascimentos_qtd=%{y}<extra></extra>",
         "legendgroup": "",
         "line": {
          "color": "#636efa",
          "dash": "solid"
         },
         "marker": {
          "symbol": "circle"
         },
         "mode": "lines",
         "name": "",
         "orientation": "v",
         "showlegend": false,
         "x": [
          "2009-01-01T00:00:00",
          "2009-02-01T00:00:00",
          "2009-03-01T00:00:00",
          "2009-04-01T00:00:00",
          "2009-05-01T00:00:00",
          "2009-06-01T00:00:00",
          "2009-07-01T00:00:00",
          "2009-08-01T00:00:00",
          "2009-09-01T00:00:00",
          "2009-10-01T00:00:00",
          "2009-11-01T00:00:00",
          "2009-12-01T00:00:00",
          "2010-01-01T00:00:00",
          "2010-02-01T00:00:00",
          "2010-03-01T00:00:00",
          "2010-04-01T00:00:00",
          "2010-05-01T00:00:00",
          "2010-06-01T00:00:00",
          "2010-07-01T00:00:00",
          "2010-08-01T00:00:00",
          "2010-09-01T00:00:00",
          "2010-10-01T00:00:00",
          "2010-11-01T00:00:00",
          "2010-12-01T00:00:00",
          "2011-01-01T00:00:00",
          "2011-02-01T00:00:00",
          "2011-03-01T00:00:00",
          "2011-04-01T00:00:00",
          "2011-05-01T00:00:00",
          "2011-06-01T00:00:00",
          "2011-07-01T00:00:00",
          "2011-08-01T00:00:00",
          "2011-09-01T00:00:00",
          "2011-10-01T00:00:00",
          "2011-11-01T00:00:00",
          "2011-12-01T00:00:00",
          "2012-01-01T00:00:00",
          "2012-02-01T00:00:00",
          "2012-03-01T00:00:00",
          "2012-04-01T00:00:00",
          "2012-05-01T00:00:00",
          "2012-06-01T00:00:00",
          "2012-07-01T00:00:00",
          "2012-08-01T00:00:00",
          "2012-09-01T00:00:00",
          "2012-10-01T00:00:00",
          "2012-11-01T00:00:00",
          "2012-12-01T00:00:00",
          "2013-01-01T00:00:00",
          "2013-02-01T00:00:00",
          "2013-03-01T00:00:00",
          "2013-04-01T00:00:00",
          "2013-05-01T00:00:00",
          "2013-06-01T00:00:00",
          "2013-07-01T00:00:00",
          "2013-08-01T00:00:00",
          "2013-09-01T00:00:00",
          "2013-10-01T00:00:00",
          "2013-11-01T00:00:00",
          "2013-12-01T00:00:00",
          "2014-01-01T00:00:00",
          "2014-02-01T00:00:00",
          "2014-03-01T00:00:00",
          "2014-04-01T00:00:00",
          "2014-05-01T00:00:00",
          "2014-06-01T00:00:00",
          "2014-07-01T00:00:00",
          "2014-08-01T00:00:00",
          "2014-09-01T00:00:00",
          "2014-10-01T00:00:00",
          "2014-11-01T00:00:00",
          "2014-12-01T00:00:00",
          "2015-01-01T00:00:00",
          "2015-02-01T00:00:00",
          "2015-03-01T00:00:00",
          "2015-04-01T00:00:00",
          "2015-05-01T00:00:00",
          "2015-06-01T00:00:00",
          "2015-07-01T00:00:00",
          "2015-08-01T00:00:00",
          "2015-09-01T00:00:00",
          "2015-10-01T00:00:00",
          "2015-11-01T00:00:00",
          "2015-12-01T00:00:00",
          "2016-01-01T00:00:00",
          "2016-02-01T00:00:00",
          "2016-03-01T00:00:00",
          "2016-04-01T00:00:00",
          "2016-05-01T00:00:00",
          "2016-06-01T00:00:00",
          "2016-07-01T00:00:00",
          "2016-08-01T00:00:00",
          "2016-09-01T00:00:00",
          "2016-10-01T00:00:00",
          "2016-11-01T00:00:00",
          "2016-12-01T00:00:00",
          "2017-01-01T00:00:00",
          "2017-02-01T00:00:00",
          "2017-03-01T00:00:00",
          "2017-04-01T00:00:00",
          "2017-05-01T00:00:00",
          "2017-06-01T00:00:00",
          "2017-07-01T00:00:00",
          "2017-08-01T00:00:00",
          "2017-09-01T00:00:00",
          "2017-10-01T00:00:00",
          "2017-11-01T00:00:00",
          "2017-12-01T00:00:00",
          "2018-01-01T00:00:00",
          "2018-02-01T00:00:00",
          "2018-03-01T00:00:00",
          "2018-04-01T00:00:00",
          "2018-05-01T00:00:00",
          "2018-06-01T00:00:00",
          "2018-07-01T00:00:00",
          "2018-08-01T00:00:00",
          "2018-09-01T00:00:00",
          "2018-10-01T00:00:00",
          "2018-11-01T00:00:00",
          "2018-12-01T00:00:00",
          "2019-01-01T00:00:00",
          "2019-02-01T00:00:00",
          "2019-03-01T00:00:00",
          "2019-04-01T00:00:00",
          "2019-05-01T00:00:00",
          "2019-06-01T00:00:00",
          "2019-07-01T00:00:00",
          "2019-08-01T00:00:00",
          "2019-09-01T00:00:00",
          "2019-10-01T00:00:00",
          "2019-11-01T00:00:00",
          "2019-12-01T00:00:00",
          "2020-01-01T00:00:00",
          "2020-02-01T00:00:00",
          "2020-03-01T00:00:00",
          "2020-04-01T00:00:00",
          "2020-05-01T00:00:00",
          "2020-06-01T00:00:00",
          "2020-07-01T00:00:00",
          "2020-08-01T00:00:00",
          "2020-09-01T00:00:00",
          "2020-10-01T00:00:00",
          "2020-11-01T00:00:00",
          "2020-12-01T00:00:00",
          "2021-01-01T00:00:00",
          "2021-02-01T00:00:00",
          "2021-03-01T00:00:00",
          "2021-04-01T00:00:00",
          "2021-05-01T00:00:00",
          "2021-06-01T00:00:00",
          "2021-07-01T00:00:00",
          "2021-08-01T00:00:00",
          "2021-09-01T00:00:00",
          "2021-10-01T00:00:00",
          "2021-11-01T00:00:00",
          "2021-12-01T00:00:00",
          "2022-01-01T00:00:00",
          "2022-02-01T00:00:00",
          "2022-03-01T00:00:00",
          "2022-04-01T00:00:00",
          "2022-05-01T00:00:00",
          "2022-06-01T00:00:00",
          "2022-07-01T00:00:00",
          "2022-08-01T00:00:00",
          "2022-09-01T00:00:00",
          "2022-10-01T00:00:00",
          "2022-11-01T00:00:00",
          "2022-12-01T00:00:00",
          "2023-01-01T00:00:00",
          "2023-02-01T00:00:00",
          "2023-03-01T00:00:00",
          "2023-04-01T00:00:00",
          "2023-05-01T00:00:00",
          "2023-06-01T00:00:00",
          "2023-07-01T00:00:00",
          "2023-08-01T00:00:00",
          "2023-09-01T00:00:00",
          "2023-10-01T00:00:00",
          "2023-11-01T00:00:00",
          "2023-12-01T00:00:00"
         ],
         "xaxis": "x",
         "y": [
          105424.0,
          102933.0,
          117114.0,
          113382.0,
          114401.0,
          110885.0,
          108490.0,
          103902.0,
          108228.0,
          103584.0,
          100694.0,
          96150.0,
          103943.0,
          101349.0,
          108558.0,
          108549.0,
          107592.0,
          105132.0,
          105240.0,
          100686.0,
          97630.0,
          97832.0,
          95772.0,
          90747.0,
          98951.0,
          96345.0,
          106852.0,
          104650.0,
          102763.0,
          103844.0,
          103673.0,
          97344.0,
          96107.0,
          91361.0,
          90289.0,
          89246.0,
          92914.0,
          92435.0,
          100619.0,
          97996.0,
          99172.0,
          95873.0,
          93941.0,
          90818.0,
          88139.0,
          88386.0,
          86986.0,
          83269.0,
          94223.0,
          87308.0,
          91506.0,
          96211.0,
          96661.0,
          94767.0,
          95694.0,
          93628.0,
          90896.0,
          88365.0,
          84684.0,
          82355.0,
          90386.0,
          86956.0,
          94112.0,
          93508.0,
          98577.0,
          93470.0,
          96836.0,
          93181.0,
          92309.0,
          90894.0,
          87903.0,
          85634.0,
          98131.0,
          92184.0,
          100785.0,
          100809.0,
          102466.0,
          100544.0,
          100337.0,
          96268.0,
          96318.0,
          93386.0,
          91175.0,
          88600.0,
          95441.0,
          93409.0,
          97966.0,
          97891.0,
          101405.0,
          97752.0,
          94332.0,
          92352.0,
          87858.0,
          84320.0,
          81261.0,
          81542.0,
          87026.0,
          85090.0,
          96991.0,
          95716.0,
          101890.0,
          98179.0,
          95938.0,
          93799.0,
          91638.0,
          89488.0,
          87401.0,
          89475.0,
          95121.0,
          90963.0,
          98506.0,
          100387.0,
          103232.0,
          97588.0,
          98731.0,
          94006.0,
          90817.0,
          90736.0,
          88138.0,
          84885.0,
          95723.0,
          89441.0,
          97113.0,
          96163.0,
          97651.0,
          92739.0,
          94384.0,
          92208.0,
          90620.0,
          86675.0,
          82103.0,
          80365.0,
          88128.0,
          82084.0,
          89063.0,
          91936.0,
          92915.0,
          88594.0,
          86469.0,
          82785.0,
          81786.0,
          77982.0,
          75985.0,
          75730.0,
          82608.0,
          80366.0,
          86638.0,
          87378.0,
          89215.0,
          85218.0,
          83028.0,
          82274.0,
          80919.0,
          77662.0,
          78472.0,
          78142.0,
          81972.0,
          77162.0,
          84319.0,
          81697.0,
          80200.0,
          76600.0,
          77695.0,
          76497.0,
          70169.0,
          68228.0,
          69254.0,
          75175.0,
          77514.0,
          72562.0,
          79973.0,
          75132.0,
          78959.0,
          75375.0,
          74909.0,
          72737.0,
          69596.0,
          67911.0,
          66166.0,
          64281.0
         ],
         "yaxis": "y",
         "type": "scatter"
        }
       ],
       "layout": {
        "template": {
         "data": {
          "barpolar": [
           {
            "marker": {
             "line": {
              "color": "white",
              "width": 0.5
             },
             "pattern": {
              "fillmode": "overlay",
              "size": 10,
              "solidity": 0.2
             }
            },
            "type": "barpolar"
           }
          ],
          "bar": [
           {
            "error_x": {
             "color": "#2a3f5f"
            },
            "error_y": {
             "color": "#2a3f5f"
            },
            "marker": {
             "line": {
              "color": "white",
              "width": 0.5
             },
             "pattern": {
              "fillmode": "overlay",
              "size": 10,
              "solidity": 0.2
             }
            },
            "type": "bar"
           }
          ],
          "carpet": [
           {
            "aaxis": {
             "endlinecolor": "#2a3f5f",
             "gridcolor": "#C8D4E3",
             "linecolor": "#C8D4E3",
             "minorgridcolor": "#C8D4E3",
             "startlinecolor": "#2a3f5f"
            },
            "baxis": {
             "endlinecolor": "#2a3f5f",
             "gridcolor": "#C8D4E3",
             "linecolor": "#C8D4E3",
             "minorgridcolor": "#C8D4E3",
             "startlinecolor": "#2a3f5f"
            },
            "type": "carpet"
           }
          ],
          "choropleth": [
           {
            "colorbar": {
             "outlinewidth": 0,
             "ticks": ""
            },
            "type": "choropleth"
           }
          ],
          "contourcarpet": [
           {
            "colorbar": {
             "outlinewidth": 0,
             "ticks": ""
            },
            "type": "contourcarpet"
           }
          ],
          "contour": [
           {
            "colorbar": {
             "outlinewidth": 0,
             "ticks": ""
            },
            "colorscale": [
             [
              0.0,
              "#0d0887"
             ],
             [
              0.1111111111111111,
              "#46039f"
             ],
             [
              0.2222222222222222,
              "#7201a8"
             ],
             [
              0.3333333333333333,
              "#9c179e"
             ],
             [
              0.4444444444444444,
              "#bd3786"
             ],
             [
              0.5555555555555556,
              "#d8576b"
             ],
             [
              0.6666666666666666,
              "#ed7953"
             ],
             [
              0.7777777777777778,
              "#fb9f3a"
             ],
             [
              0.8888888888888888,
              "#fdca26"
             ],
             [
              1.0,
              "#f0f921"
             ]
            ],
            "type": "contour"
           }
          ],
          "heatmapgl": [
           {
            "colorbar": {
             "outlinewidth": 0,
             "ticks": ""
            },
            "colorscale": [
             [
              0.0,
              "#0d0887"
             ],
             [
              0.1111111111111111,
              "#46039f"
             ],
             [
              0.2222222222222222,
              "#7201a8"
             ],
             [
              0.3333333333333333,
              "#9c179e"
             ],
             [
              0.4444444444444444,
              "#bd3786"
             ],
             [
              0.5555555555555556,
              "#d8576b"
             ],
             [
              0.6666666666666666,
              "#ed7953"
             ],
             [
              0.7777777777777778,
              "#fb9f3a"
             ],
             [
              0.8888888888888888,
              "#fdca26"
             ],
             [
              1.0,
              "#f0f921"
             ]
            ],
            "type": "heatmapgl"
           }
          ],
          "heatmap": [
           {
            "colorbar": {
             "outlinewidth": 0,
             "ticks": ""
            },
            "colorscale": [
             [
              0.0,
              "#0d0887"
             ],
             [
              0.1111111111111111,
              "#46039f"
             ],
             [
              0.2222222222222222,
              "#7201a8"
             ],
             [
              0.3333333333333333,
              "#9c179e"
             ],
             [
              0.4444444444444444,
              "#bd3786"
             ],
             [
              0.5555555555555556,
              "#d8576b"
             ],
             [
              0.6666666666666666,
              "#ed7953"
             ],
             [
              0.7777777777777778,
              "#fb9f3a"
             ],
             [
              0.8888888888888888,
              "#fdca26"
             ],
             [
              1.0,
              "#f0f921"
             ]
            ],
            "type": "heatmap"
           }
          ],
          "histogram2dcontour": [
           {
            "colorbar": {
             "outlinewidth": 0,
             "ticks": ""
            },
            "colorscale": [
             [
              0.0,
              "#0d0887"
             ],
             [
              0.1111111111111111,
              "#46039f"
             ],
             [
              0.2222222222222222,
              "#7201a8"
             ],
             [
              0.3333333333333333,
              "#9c179e"
             ],
             [
              0.4444444444444444,
              "#bd3786"
             ],
             [
              0.5555555555555556,
              "#d8576b"
             ],
             [
              0.6666666666666666,
              "#ed7953"
             ],
             [
              0.7777777777777778,
              "#fb9f3a"
             ],
             [
              0.8888888888888888,
              "#fdca26"
             ],
             [
              1.0,
              "#f0f921"
             ]
            ],
            "type": "histogram2dcontour"
           }
          ],
          "histogram2d": [
           {
            "colorbar": {
             "outlinewidth": 0,
             "ticks": ""
            },
            "colorscale": [
             [
              0.0,
              "#0d0887"
             ],
             [
              0.1111111111111111,
              "#46039f"
             ],
             [
              0.2222222222222222,
              "#7201a8"
             ],
             [
              0.3333333333333333,
              "#9c179e"
             ],
             [
              0.4444444444444444,
              "#bd3786"
             ],
             [
              0.5555555555555556,
              "#d8576b"
             ],
             [
              0.6666666666666666,
              "#ed7953"
             ],
             [
              0.7777777777777778,
              "#fb9f3a"
             ],
             [
              0.8888888888888888,
              "#fdca26"
             ],
             [
              1.0,
              "#f0f921"
             ]
            ],
            "type": "histogram2d"
           }
          ],
          "histogram": [
           {
            "marker": {
             "pattern": {
              "fillmode": "overlay",
              "size": 10,
              "solidity": 0.2
             }
            },
            "type": "histogram"
           }
          ],
          "mesh3d": [
           {
            "colorbar": {
             "outlinewidth": 0,
             "ticks": ""
            },
            "type": "mesh3d"
           }
          ],
          "parcoords": [
           {
            "line": {
             "colorbar": {
              "outlinewidth": 0,
              "ticks": ""
             }
            },
            "type": "parcoords"
           }
          ],
          "pie": [
           {
            "automargin": true,
            "type": "pie"
           }
          ],
          "scatter3d": [
           {
            "line": {
             "colorbar": {
              "outlinewidth": 0,
              "ticks": ""
             }
            },
            "marker": {
             "colorbar": {
              "outlinewidth": 0,
              "ticks": ""
             }
            },
            "type": "scatter3d"
           }
          ],
          "scattercarpet": [
           {
            "marker": {
             "colorbar": {
              "outlinewidth": 0,
              "ticks": ""
             }
            },
            "type": "scattercarpet"
           }
          ],
          "scattergeo": [
           {
            "marker": {
             "colorbar": {
              "outlinewidth": 0,
              "ticks": ""
             }
            },
            "type": "scattergeo"
           }
          ],
          "scattergl": [
           {
            "marker": {
             "colorbar": {
              "outlinewidth": 0,
              "ticks": ""
             }
            },
            "type": "scattergl"
           }
          ],
          "scattermapbox": [
           {
            "marker": {
             "colorbar": {
              "outlinewidth": 0,
              "ticks": ""
             }
            },
            "type": "scattermapbox"
           }
          ],
          "scatterpolargl": [
           {
            "marker": {
             "colorbar": {
              "outlinewidth": 0,
              "ticks": ""
             }
            },
            "type": "scatterpolargl"
           }
          ],
          "scatterpolar": [
           {
            "marker": {
             "colorbar": {
              "outlinewidth": 0,
              "ticks": ""
             }
            },
            "type": "scatterpolar"
           }
          ],
          "scatter": [
           {
            "fillpattern": {
             "fillmode": "overlay",
             "size": 10,
             "solidity": 0.2
            },
            "type": "scatter"
           }
          ],
          "scatterternary": [
           {
            "marker": {
             "colorbar": {
              "outlinewidth": 0,
              "ticks": ""
             }
            },
            "type": "scatterternary"
           }
          ],
          "surface": [
           {
            "colorbar": {
             "outlinewidth": 0,
             "ticks": ""
            },
            "colorscale": [
             [
              0.0,
              "#0d0887"
             ],
             [
              0.1111111111111111,
              "#46039f"
             ],
             [
              0.2222222222222222,
              "#7201a8"
             ],
             [
              0.3333333333333333,
              "#9c179e"
             ],
             [
              0.4444444444444444,
              "#bd3786"
             ],
             [
              0.5555555555555556,
              "#d8576b"
             ],
             [
              0.6666666666666666,
              "#ed7953"
             ],
             [
              0.7777777777777778,
              "#fb9f3a"
             ],
             [
              0.8888888888888888,
              "#fdca26"
             ],
             [
              1.0,
              "#f0f921"
             ]
            ],
            "type": "surface"
           }
          ],
          "table": [
           {
            "cells": {
             "fill": {
              "color": "#EBF0F8"
             },
             "line": {
              "color": "white"
             }
            },
            "header": {
             "fill": {
              "color": "#C8D4E3"
             },
             "line": {
              "color": "white"
             }
            },
            "type": "table"
           }
          ]
         },
         "layout": {
          "annotationdefaults": {
           "arrowcolor": "#2a3f5f",
           "arrowhead": 0,
           "arrowwidth": 1
          },
          "autotypenumbers": "strict",
          "coloraxis": {
           "colorbar": {
            "outlinewidth": 0,
            "ticks": ""
           }
          },
          "colorscale": {
           "diverging": [
            [
             0,
             "#8e0152"
            ],
            [
             0.1,
             "#c51b7d"
            ],
            [
             0.2,
             "#de77ae"
            ],
            [
             0.3,
             "#f1b6da"
            ],
            [
             0.4,
             "#fde0ef"
            ],
            [
             0.5,
             "#f7f7f7"
            ],
            [
             0.6,
             "#e6f5d0"
            ],
            [
             0.7,
             "#b8e186"
            ],
            [
             0.8,
             "#7fbc41"
            ],
            [
             0.9,
             "#4d9221"
            ],
            [
             1,
             "#276419"
            ]
           ],
           "sequential": [
            [
             0.0,
             "#0d0887"
            ],
            [
             0.1111111111111111,
             "#46039f"
            ],
            [
             0.2222222222222222,
             "#7201a8"
            ],
            [
             0.3333333333333333,
             "#9c179e"
            ],
            [
             0.4444444444444444,
             "#bd3786"
            ],
            [
             0.5555555555555556,
             "#d8576b"
            ],
            [
             0.6666666666666666,
             "#ed7953"
            ],
            [
             0.7777777777777778,
             "#fb9f3a"
            ],
            [
             0.8888888888888888,
             "#fdca26"
            ],
            [
             1.0,
             "#f0f921"
            ]
           ],
           "sequentialminus": [
            [
             0.0,
             "#0d0887"
            ],
            [
             0.1111111111111111,
             "#46039f"
            ],
            [
             0.2222222222222222,
             "#7201a8"
            ],
            [
             0.3333333333333333,
             "#9c179e"
            ],
            [
             0.4444444444444444,
             "#bd3786"
            ],
            [
             0.5555555555555556,
             "#d8576b"
            ],
            [
             0.6666666666666666,
             "#ed7953"
            ],
            [
             0.7777777777777778,
             "#fb9f3a"
            ],
            [
             0.8888888888888888,
             "#fdca26"
            ],
            [
             1.0,
             "#f0f921"
            ]
           ]
          },
          "colorway": [
           "#636efa",
           "#EF553B",
           "#00cc96",
           "#ab63fa",
           "#FFA15A",
           "#19d3f3",
           "#FF6692",
           "#B6E880",
           "#FF97FF",
           "#FECB52"
          ],
          "font": {
           "color": "#2a3f5f"
          },
          "geo": {
           "bgcolor": "white",
           "lakecolor": "white",
           "landcolor": "white",
           "showlakes": true,
           "showland": true,
           "subunitcolor": "#C8D4E3"
          },
          "hoverlabel": {
           "align": "left"
          },
          "hovermode": "closest",
          "mapbox": {
           "style": "light"
          },
          "paper_bgcolor": "white",
          "plot_bgcolor": "white",
          "polar": {
           "angularaxis": {
            "gridcolor": "#EBF0F8",
            "linecolor": "#EBF0F8",
            "ticks": ""
           },
           "bgcolor": "white",
           "radialaxis": {
            "gridcolor": "#EBF0F8",
            "linecolor": "#EBF0F8",
            "ticks": ""
           }
          },
          "scene": {
           "xaxis": {
            "backgroundcolor": "white",
            "gridcolor": "#DFE8F3",
            "gridwidth": 2,
            "linecolor": "#EBF0F8",
            "showbackground": true,
            "ticks": "",
            "zerolinecolor": "#EBF0F8"
           },
           "yaxis": {
            "backgroundcolor": "white",
            "gridcolor": "#DFE8F3",
            "gridwidth": 2,
            "linecolor": "#EBF0F8",
            "showbackground": true,
            "ticks": "",
            "zerolinecolor": "#EBF0F8"
           },
           "zaxis": {
            "backgroundcolor": "white",
            "gridcolor": "#DFE8F3",
            "gridwidth": 2,
            "linecolor": "#EBF0F8",
            "showbackground": true,
            "ticks": "",
            "zerolinecolor": "#EBF0F8"
           }
          },
          "shapedefaults": {
           "line": {
            "color": "#2a3f5f"
           }
          },
          "ternary": {
           "aaxis": {
            "gridcolor": "#DFE8F3",
            "linecolor": "#A2B1C6",
            "ticks": ""
           },
           "baxis": {
            "gridcolor": "#DFE8F3",
            "linecolor": "#A2B1C6",
            "ticks": ""
           },
           "bgcolor": "white",
           "caxis": {
            "gridcolor": "#DFE8F3",
            "linecolor": "#A2B1C6",
            "ticks": ""
           }
          },
          "title": {
           "x": 0.05
          },
          "xaxis": {
           "automargin": true,
           "gridcolor": "#EBF0F8",
           "linecolor": "#EBF0F8",
           "ticks": "",
           "title": {
            "standoff": 15
           },
           "zerolinecolor": "#EBF0F8",
           "zerolinewidth": 2
          },
          "yaxis": {
           "automargin": true,
           "gridcolor": "#EBF0F8",
           "linecolor": "#EBF0F8",
           "ticks": "",
           "title": {
            "standoff": 15
           },
           "zerolinecolor": "#EBF0F8",
           "zerolinewidth": 2
          }
         }
        },
        "xaxis": {
         "anchor": "y",
         "domain": [
          0.0,
          1.0
         ],
         "title": {
          "text": "time"
         }
        },
        "yaxis": {
         "anchor": "x",
         "domain": [
          0.0,
          1.0
         ],
         "title": {
          "text": "partos_e_nascimentos_qtd"
         }
        },
        "legend": {
         "tracegroupgap": 0
        },
        "title": {
         "text": "Números de partos entre 2009 e 2024"
        }
       },
       "config": {
        "plotlyServerURL": "https://plot.ly"
       }
      },
      "text/html": [
       "<div>                            <div id=\"60a18c2d-8725-459b-ab7d-32a3a96c9e60\" class=\"plotly-graph-div\" style=\"height:525px; width:100%;\"></div>            <script type=\"text/javascript\">                require([\"plotly\"], function(Plotly) {                    window.PLOTLYENV=window.PLOTLYENV || {};                                    if (document.getElementById(\"60a18c2d-8725-459b-ab7d-32a3a96c9e60\")) {                    Plotly.newPlot(                        \"60a18c2d-8725-459b-ab7d-32a3a96c9e60\",                        [{\"hovertemplate\":\"time=%{x}\\u003cbr\\u003epartos_e_nascimentos_qtd=%{y}\\u003cextra\\u003e\\u003c\\u002fextra\\u003e\",\"legendgroup\":\"\",\"line\":{\"color\":\"#636efa\",\"dash\":\"solid\"},\"marker\":{\"symbol\":\"circle\"},\"mode\":\"lines\",\"name\":\"\",\"orientation\":\"v\",\"showlegend\":false,\"x\":[\"2009-01-01T00:00:00\",\"2009-02-01T00:00:00\",\"2009-03-01T00:00:00\",\"2009-04-01T00:00:00\",\"2009-05-01T00:00:00\",\"2009-06-01T00:00:00\",\"2009-07-01T00:00:00\",\"2009-08-01T00:00:00\",\"2009-09-01T00:00:00\",\"2009-10-01T00:00:00\",\"2009-11-01T00:00:00\",\"2009-12-01T00:00:00\",\"2010-01-01T00:00:00\",\"2010-02-01T00:00:00\",\"2010-03-01T00:00:00\",\"2010-04-01T00:00:00\",\"2010-05-01T00:00:00\",\"2010-06-01T00:00:00\",\"2010-07-01T00:00:00\",\"2010-08-01T00:00:00\",\"2010-09-01T00:00:00\",\"2010-10-01T00:00:00\",\"2010-11-01T00:00:00\",\"2010-12-01T00:00:00\",\"2011-01-01T00:00:00\",\"2011-02-01T00:00:00\",\"2011-03-01T00:00:00\",\"2011-04-01T00:00:00\",\"2011-05-01T00:00:00\",\"2011-06-01T00:00:00\",\"2011-07-01T00:00:00\",\"2011-08-01T00:00:00\",\"2011-09-01T00:00:00\",\"2011-10-01T00:00:00\",\"2011-11-01T00:00:00\",\"2011-12-01T00:00:00\",\"2012-01-01T00:00:00\",\"2012-02-01T00:00:00\",\"2012-03-01T00:00:00\",\"2012-04-01T00:00:00\",\"2012-05-01T00:00:00\",\"2012-06-01T00:00:00\",\"2012-07-01T00:00:00\",\"2012-08-01T00:00:00\",\"2012-09-01T00:00:00\",\"2012-10-01T00:00:00\",\"2012-11-01T00:00:00\",\"2012-12-01T00:00:00\",\"2013-01-01T00:00:00\",\"2013-02-01T00:00:00\",\"2013-03-01T00:00:00\",\"2013-04-01T00:00:00\",\"2013-05-01T00:00:00\",\"2013-06-01T00:00:00\",\"2013-07-01T00:00:00\",\"2013-08-01T00:00:00\",\"2013-09-01T00:00:00\",\"2013-10-01T00:00:00\",\"2013-11-01T00:00:00\",\"2013-12-01T00:00:00\",\"2014-01-01T00:00:00\",\"2014-02-01T00:00:00\",\"2014-03-01T00:00:00\",\"2014-04-01T00:00:00\",\"2014-05-01T00:00:00\",\"2014-06-01T00:00:00\",\"2014-07-01T00:00:00\",\"2014-08-01T00:00:00\",\"2014-09-01T00:00:00\",\"2014-10-01T00:00:00\",\"2014-11-01T00:00:00\",\"2014-12-01T00:00:00\",\"2015-01-01T00:00:00\",\"2015-02-01T00:00:00\",\"2015-03-01T00:00:00\",\"2015-04-01T00:00:00\",\"2015-05-01T00:00:00\",\"2015-06-01T00:00:00\",\"2015-07-01T00:00:00\",\"2015-08-01T00:00:00\",\"2015-09-01T00:00:00\",\"2015-10-01T00:00:00\",\"2015-11-01T00:00:00\",\"2015-12-01T00:00:00\",\"2016-01-01T00:00:00\",\"2016-02-01T00:00:00\",\"2016-03-01T00:00:00\",\"2016-04-01T00:00:00\",\"2016-05-01T00:00:00\",\"2016-06-01T00:00:00\",\"2016-07-01T00:00:00\",\"2016-08-01T00:00:00\",\"2016-09-01T00:00:00\",\"2016-10-01T00:00:00\",\"2016-11-01T00:00:00\",\"2016-12-01T00:00:00\",\"2017-01-01T00:00:00\",\"2017-02-01T00:00:00\",\"2017-03-01T00:00:00\",\"2017-04-01T00:00:00\",\"2017-05-01T00:00:00\",\"2017-06-01T00:00:00\",\"2017-07-01T00:00:00\",\"2017-08-01T00:00:00\",\"2017-09-01T00:00:00\",\"2017-10-01T00:00:00\",\"2017-11-01T00:00:00\",\"2017-12-01T00:00:00\",\"2018-01-01T00:00:00\",\"2018-02-01T00:00:00\",\"2018-03-01T00:00:00\",\"2018-04-01T00:00:00\",\"2018-05-01T00:00:00\",\"2018-06-01T00:00:00\",\"2018-07-01T00:00:00\",\"2018-08-01T00:00:00\",\"2018-09-01T00:00:00\",\"2018-10-01T00:00:00\",\"2018-11-01T00:00:00\",\"2018-12-01T00:00:00\",\"2019-01-01T00:00:00\",\"2019-02-01T00:00:00\",\"2019-03-01T00:00:00\",\"2019-04-01T00:00:00\",\"2019-05-01T00:00:00\",\"2019-06-01T00:00:00\",\"2019-07-01T00:00:00\",\"2019-08-01T00:00:00\",\"2019-09-01T00:00:00\",\"2019-10-01T00:00:00\",\"2019-11-01T00:00:00\",\"2019-12-01T00:00:00\",\"2020-01-01T00:00:00\",\"2020-02-01T00:00:00\",\"2020-03-01T00:00:00\",\"2020-04-01T00:00:00\",\"2020-05-01T00:00:00\",\"2020-06-01T00:00:00\",\"2020-07-01T00:00:00\",\"2020-08-01T00:00:00\",\"2020-09-01T00:00:00\",\"2020-10-01T00:00:00\",\"2020-11-01T00:00:00\",\"2020-12-01T00:00:00\",\"2021-01-01T00:00:00\",\"2021-02-01T00:00:00\",\"2021-03-01T00:00:00\",\"2021-04-01T00:00:00\",\"2021-05-01T00:00:00\",\"2021-06-01T00:00:00\",\"2021-07-01T00:00:00\",\"2021-08-01T00:00:00\",\"2021-09-01T00:00:00\",\"2021-10-01T00:00:00\",\"2021-11-01T00:00:00\",\"2021-12-01T00:00:00\",\"2022-01-01T00:00:00\",\"2022-02-01T00:00:00\",\"2022-03-01T00:00:00\",\"2022-04-01T00:00:00\",\"2022-05-01T00:00:00\",\"2022-06-01T00:00:00\",\"2022-07-01T00:00:00\",\"2022-08-01T00:00:00\",\"2022-09-01T00:00:00\",\"2022-10-01T00:00:00\",\"2022-11-01T00:00:00\",\"2022-12-01T00:00:00\",\"2023-01-01T00:00:00\",\"2023-02-01T00:00:00\",\"2023-03-01T00:00:00\",\"2023-04-01T00:00:00\",\"2023-05-01T00:00:00\",\"2023-06-01T00:00:00\",\"2023-07-01T00:00:00\",\"2023-08-01T00:00:00\",\"2023-09-01T00:00:00\",\"2023-10-01T00:00:00\",\"2023-11-01T00:00:00\",\"2023-12-01T00:00:00\"],\"xaxis\":\"x\",\"y\":[105424.0,102933.0,117114.0,113382.0,114401.0,110885.0,108490.0,103902.0,108228.0,103584.0,100694.0,96150.0,103943.0,101349.0,108558.0,108549.0,107592.0,105132.0,105240.0,100686.0,97630.0,97832.0,95772.0,90747.0,98951.0,96345.0,106852.0,104650.0,102763.0,103844.0,103673.0,97344.0,96107.0,91361.0,90289.0,89246.0,92914.0,92435.0,100619.0,97996.0,99172.0,95873.0,93941.0,90818.0,88139.0,88386.0,86986.0,83269.0,94223.0,87308.0,91506.0,96211.0,96661.0,94767.0,95694.0,93628.0,90896.0,88365.0,84684.0,82355.0,90386.0,86956.0,94112.0,93508.0,98577.0,93470.0,96836.0,93181.0,92309.0,90894.0,87903.0,85634.0,98131.0,92184.0,100785.0,100809.0,102466.0,100544.0,100337.0,96268.0,96318.0,93386.0,91175.0,88600.0,95441.0,93409.0,97966.0,97891.0,101405.0,97752.0,94332.0,92352.0,87858.0,84320.0,81261.0,81542.0,87026.0,85090.0,96991.0,95716.0,101890.0,98179.0,95938.0,93799.0,91638.0,89488.0,87401.0,89475.0,95121.0,90963.0,98506.0,100387.0,103232.0,97588.0,98731.0,94006.0,90817.0,90736.0,88138.0,84885.0,95723.0,89441.0,97113.0,96163.0,97651.0,92739.0,94384.0,92208.0,90620.0,86675.0,82103.0,80365.0,88128.0,82084.0,89063.0,91936.0,92915.0,88594.0,86469.0,82785.0,81786.0,77982.0,75985.0,75730.0,82608.0,80366.0,86638.0,87378.0,89215.0,85218.0,83028.0,82274.0,80919.0,77662.0,78472.0,78142.0,81972.0,77162.0,84319.0,81697.0,80200.0,76600.0,77695.0,76497.0,70169.0,68228.0,69254.0,75175.0,77514.0,72562.0,79973.0,75132.0,78959.0,75375.0,74909.0,72737.0,69596.0,67911.0,66166.0,64281.0],\"yaxis\":\"y\",\"type\":\"scatter\"}],                        {\"template\":{\"data\":{\"barpolar\":[{\"marker\":{\"line\":{\"color\":\"white\",\"width\":0.5},\"pattern\":{\"fillmode\":\"overlay\",\"size\":10,\"solidity\":0.2}},\"type\":\"barpolar\"}],\"bar\":[{\"error_x\":{\"color\":\"#2a3f5f\"},\"error_y\":{\"color\":\"#2a3f5f\"},\"marker\":{\"line\":{\"color\":\"white\",\"width\":0.5},\"pattern\":{\"fillmode\":\"overlay\",\"size\":10,\"solidity\":0.2}},\"type\":\"bar\"}],\"carpet\":[{\"aaxis\":{\"endlinecolor\":\"#2a3f5f\",\"gridcolor\":\"#C8D4E3\",\"linecolor\":\"#C8D4E3\",\"minorgridcolor\":\"#C8D4E3\",\"startlinecolor\":\"#2a3f5f\"},\"baxis\":{\"endlinecolor\":\"#2a3f5f\",\"gridcolor\":\"#C8D4E3\",\"linecolor\":\"#C8D4E3\",\"minorgridcolor\":\"#C8D4E3\",\"startlinecolor\":\"#2a3f5f\"},\"type\":\"carpet\"}],\"choropleth\":[{\"colorbar\":{\"outlinewidth\":0,\"ticks\":\"\"},\"type\":\"choropleth\"}],\"contourcarpet\":[{\"colorbar\":{\"outlinewidth\":0,\"ticks\":\"\"},\"type\":\"contourcarpet\"}],\"contour\":[{\"colorbar\":{\"outlinewidth\":0,\"ticks\":\"\"},\"colorscale\":[[0.0,\"#0d0887\"],[0.1111111111111111,\"#46039f\"],[0.2222222222222222,\"#7201a8\"],[0.3333333333333333,\"#9c179e\"],[0.4444444444444444,\"#bd3786\"],[0.5555555555555556,\"#d8576b\"],[0.6666666666666666,\"#ed7953\"],[0.7777777777777778,\"#fb9f3a\"],[0.8888888888888888,\"#fdca26\"],[1.0,\"#f0f921\"]],\"type\":\"contour\"}],\"heatmapgl\":[{\"colorbar\":{\"outlinewidth\":0,\"ticks\":\"\"},\"colorscale\":[[0.0,\"#0d0887\"],[0.1111111111111111,\"#46039f\"],[0.2222222222222222,\"#7201a8\"],[0.3333333333333333,\"#9c179e\"],[0.4444444444444444,\"#bd3786\"],[0.5555555555555556,\"#d8576b\"],[0.6666666666666666,\"#ed7953\"],[0.7777777777777778,\"#fb9f3a\"],[0.8888888888888888,\"#fdca26\"],[1.0,\"#f0f921\"]],\"type\":\"heatmapgl\"}],\"heatmap\":[{\"colorbar\":{\"outlinewidth\":0,\"ticks\":\"\"},\"colorscale\":[[0.0,\"#0d0887\"],[0.1111111111111111,\"#46039f\"],[0.2222222222222222,\"#7201a8\"],[0.3333333333333333,\"#9c179e\"],[0.4444444444444444,\"#bd3786\"],[0.5555555555555556,\"#d8576b\"],[0.6666666666666666,\"#ed7953\"],[0.7777777777777778,\"#fb9f3a\"],[0.8888888888888888,\"#fdca26\"],[1.0,\"#f0f921\"]],\"type\":\"heatmap\"}],\"histogram2dcontour\":[{\"colorbar\":{\"outlinewidth\":0,\"ticks\":\"\"},\"colorscale\":[[0.0,\"#0d0887\"],[0.1111111111111111,\"#46039f\"],[0.2222222222222222,\"#7201a8\"],[0.3333333333333333,\"#9c179e\"],[0.4444444444444444,\"#bd3786\"],[0.5555555555555556,\"#d8576b\"],[0.6666666666666666,\"#ed7953\"],[0.7777777777777778,\"#fb9f3a\"],[0.8888888888888888,\"#fdca26\"],[1.0,\"#f0f921\"]],\"type\":\"histogram2dcontour\"}],\"histogram2d\":[{\"colorbar\":{\"outlinewidth\":0,\"ticks\":\"\"},\"colorscale\":[[0.0,\"#0d0887\"],[0.1111111111111111,\"#46039f\"],[0.2222222222222222,\"#7201a8\"],[0.3333333333333333,\"#9c179e\"],[0.4444444444444444,\"#bd3786\"],[0.5555555555555556,\"#d8576b\"],[0.6666666666666666,\"#ed7953\"],[0.7777777777777778,\"#fb9f3a\"],[0.8888888888888888,\"#fdca26\"],[1.0,\"#f0f921\"]],\"type\":\"histogram2d\"}],\"histogram\":[{\"marker\":{\"pattern\":{\"fillmode\":\"overlay\",\"size\":10,\"solidity\":0.2}},\"type\":\"histogram\"}],\"mesh3d\":[{\"colorbar\":{\"outlinewidth\":0,\"ticks\":\"\"},\"type\":\"mesh3d\"}],\"parcoords\":[{\"line\":{\"colorbar\":{\"outlinewidth\":0,\"ticks\":\"\"}},\"type\":\"parcoords\"}],\"pie\":[{\"automargin\":true,\"type\":\"pie\"}],\"scatter3d\":[{\"line\":{\"colorbar\":{\"outlinewidth\":0,\"ticks\":\"\"}},\"marker\":{\"colorbar\":{\"outlinewidth\":0,\"ticks\":\"\"}},\"type\":\"scatter3d\"}],\"scattercarpet\":[{\"marker\":{\"colorbar\":{\"outlinewidth\":0,\"ticks\":\"\"}},\"type\":\"scattercarpet\"}],\"scattergeo\":[{\"marker\":{\"colorbar\":{\"outlinewidth\":0,\"ticks\":\"\"}},\"type\":\"scattergeo\"}],\"scattergl\":[{\"marker\":{\"colorbar\":{\"outlinewidth\":0,\"ticks\":\"\"}},\"type\":\"scattergl\"}],\"scattermapbox\":[{\"marker\":{\"colorbar\":{\"outlinewidth\":0,\"ticks\":\"\"}},\"type\":\"scattermapbox\"}],\"scatterpolargl\":[{\"marker\":{\"colorbar\":{\"outlinewidth\":0,\"ticks\":\"\"}},\"type\":\"scatterpolargl\"}],\"scatterpolar\":[{\"marker\":{\"colorbar\":{\"outlinewidth\":0,\"ticks\":\"\"}},\"type\":\"scatterpolar\"}],\"scatter\":[{\"fillpattern\":{\"fillmode\":\"overlay\",\"size\":10,\"solidity\":0.2},\"type\":\"scatter\"}],\"scatterternary\":[{\"marker\":{\"colorbar\":{\"outlinewidth\":0,\"ticks\":\"\"}},\"type\":\"scatterternary\"}],\"surface\":[{\"colorbar\":{\"outlinewidth\":0,\"ticks\":\"\"},\"colorscale\":[[0.0,\"#0d0887\"],[0.1111111111111111,\"#46039f\"],[0.2222222222222222,\"#7201a8\"],[0.3333333333333333,\"#9c179e\"],[0.4444444444444444,\"#bd3786\"],[0.5555555555555556,\"#d8576b\"],[0.6666666666666666,\"#ed7953\"],[0.7777777777777778,\"#fb9f3a\"],[0.8888888888888888,\"#fdca26\"],[1.0,\"#f0f921\"]],\"type\":\"surface\"}],\"table\":[{\"cells\":{\"fill\":{\"color\":\"#EBF0F8\"},\"line\":{\"color\":\"white\"}},\"header\":{\"fill\":{\"color\":\"#C8D4E3\"},\"line\":{\"color\":\"white\"}},\"type\":\"table\"}]},\"layout\":{\"annotationdefaults\":{\"arrowcolor\":\"#2a3f5f\",\"arrowhead\":0,\"arrowwidth\":1},\"autotypenumbers\":\"strict\",\"coloraxis\":{\"colorbar\":{\"outlinewidth\":0,\"ticks\":\"\"}},\"colorscale\":{\"diverging\":[[0,\"#8e0152\"],[0.1,\"#c51b7d\"],[0.2,\"#de77ae\"],[0.3,\"#f1b6da\"],[0.4,\"#fde0ef\"],[0.5,\"#f7f7f7\"],[0.6,\"#e6f5d0\"],[0.7,\"#b8e186\"],[0.8,\"#7fbc41\"],[0.9,\"#4d9221\"],[1,\"#276419\"]],\"sequential\":[[0.0,\"#0d0887\"],[0.1111111111111111,\"#46039f\"],[0.2222222222222222,\"#7201a8\"],[0.3333333333333333,\"#9c179e\"],[0.4444444444444444,\"#bd3786\"],[0.5555555555555556,\"#d8576b\"],[0.6666666666666666,\"#ed7953\"],[0.7777777777777778,\"#fb9f3a\"],[0.8888888888888888,\"#fdca26\"],[1.0,\"#f0f921\"]],\"sequentialminus\":[[0.0,\"#0d0887\"],[0.1111111111111111,\"#46039f\"],[0.2222222222222222,\"#7201a8\"],[0.3333333333333333,\"#9c179e\"],[0.4444444444444444,\"#bd3786\"],[0.5555555555555556,\"#d8576b\"],[0.6666666666666666,\"#ed7953\"],[0.7777777777777778,\"#fb9f3a\"],[0.8888888888888888,\"#fdca26\"],[1.0,\"#f0f921\"]]},\"colorway\":[\"#636efa\",\"#EF553B\",\"#00cc96\",\"#ab63fa\",\"#FFA15A\",\"#19d3f3\",\"#FF6692\",\"#B6E880\",\"#FF97FF\",\"#FECB52\"],\"font\":{\"color\":\"#2a3f5f\"},\"geo\":{\"bgcolor\":\"white\",\"lakecolor\":\"white\",\"landcolor\":\"white\",\"showlakes\":true,\"showland\":true,\"subunitcolor\":\"#C8D4E3\"},\"hoverlabel\":{\"align\":\"left\"},\"hovermode\":\"closest\",\"mapbox\":{\"style\":\"light\"},\"paper_bgcolor\":\"white\",\"plot_bgcolor\":\"white\",\"polar\":{\"angularaxis\":{\"gridcolor\":\"#EBF0F8\",\"linecolor\":\"#EBF0F8\",\"ticks\":\"\"},\"bgcolor\":\"white\",\"radialaxis\":{\"gridcolor\":\"#EBF0F8\",\"linecolor\":\"#EBF0F8\",\"ticks\":\"\"}},\"scene\":{\"xaxis\":{\"backgroundcolor\":\"white\",\"gridcolor\":\"#DFE8F3\",\"gridwidth\":2,\"linecolor\":\"#EBF0F8\",\"showbackground\":true,\"ticks\":\"\",\"zerolinecolor\":\"#EBF0F8\"},\"yaxis\":{\"backgroundcolor\":\"white\",\"gridcolor\":\"#DFE8F3\",\"gridwidth\":2,\"linecolor\":\"#EBF0F8\",\"showbackground\":true,\"ticks\":\"\",\"zerolinecolor\":\"#EBF0F8\"},\"zaxis\":{\"backgroundcolor\":\"white\",\"gridcolor\":\"#DFE8F3\",\"gridwidth\":2,\"linecolor\":\"#EBF0F8\",\"showbackground\":true,\"ticks\":\"\",\"zerolinecolor\":\"#EBF0F8\"}},\"shapedefaults\":{\"line\":{\"color\":\"#2a3f5f\"}},\"ternary\":{\"aaxis\":{\"gridcolor\":\"#DFE8F3\",\"linecolor\":\"#A2B1C6\",\"ticks\":\"\"},\"baxis\":{\"gridcolor\":\"#DFE8F3\",\"linecolor\":\"#A2B1C6\",\"ticks\":\"\"},\"bgcolor\":\"white\",\"caxis\":{\"gridcolor\":\"#DFE8F3\",\"linecolor\":\"#A2B1C6\",\"ticks\":\"\"}},\"title\":{\"x\":0.05},\"xaxis\":{\"automargin\":true,\"gridcolor\":\"#EBF0F8\",\"linecolor\":\"#EBF0F8\",\"ticks\":\"\",\"title\":{\"standoff\":15},\"zerolinecolor\":\"#EBF0F8\",\"zerolinewidth\":2},\"yaxis\":{\"automargin\":true,\"gridcolor\":\"#EBF0F8\",\"linecolor\":\"#EBF0F8\",\"ticks\":\"\",\"title\":{\"standoff\":15},\"zerolinecolor\":\"#EBF0F8\",\"zerolinewidth\":2}}},\"xaxis\":{\"anchor\":\"y\",\"domain\":[0.0,1.0],\"title\":{\"text\":\"time\"}},\"yaxis\":{\"anchor\":\"x\",\"domain\":[0.0,1.0],\"title\":{\"text\":\"partos_e_nascimentos_qtd\"}},\"legend\":{\"tracegroupgap\":0},\"title\":{\"text\":\"N\\u00fameros de partos entre 2009 e 2024\"}},                        {\"responsive\": true}                    ).then(function(){\n",
       "                            \n",
       "var gd = document.getElementById('60a18c2d-8725-459b-ab7d-32a3a96c9e60');\n",
       "var x = new MutationObserver(function (mutations, observer) {{\n",
       "        var display = window.getComputedStyle(gd).display;\n",
       "        if (!display || display === 'none') {{\n",
       "            console.log([gd, 'removed!']);\n",
       "            Plotly.purge(gd);\n",
       "            observer.disconnect();\n",
       "        }}\n",
       "}});\n",
       "\n",
       "// Listen for the removal of the full notebook cells\n",
       "var notebookContainer = gd.closest('#notebook-container');\n",
       "if (notebookContainer) {{\n",
       "    x.observe(notebookContainer, {childList: true});\n",
       "}}\n",
       "\n",
       "// Listen for the clearing of the current output cell\n",
       "var outputEl = gd.closest('.output');\n",
       "if (outputEl) {{\n",
       "    x.observe(outputEl, {childList: true});\n",
       "}}\n",
       "\n",
       "                        })                };                });            </script>        </div>"
      ]
     },
     "metadata": {},
     "output_type": "display_data"
    }
   ],
   "execution_count": 197
  },
  {
   "metadata": {
    "ExecuteTime": {
     "end_time": "2024-06-12T02:05:29.954721Z",
     "start_time": "2024-06-12T02:05:29.949846Z"
    }
   },
   "cell_type": "code",
   "source": "df_st = df_st['2009-01-01':'2023-12-01']",
   "id": "6dde4090027ffb9f",
   "outputs": [],
   "execution_count": 199
  },
  {
   "metadata": {
    "ExecuteTime": {
     "end_time": "2024-06-12T02:04:45.149801Z",
     "start_time": "2024-06-12T02:04:43.792958Z"
    }
   },
   "cell_type": "code",
   "source": [
    "decomposition = seasonal_decompose(df_st['partos_e_nascimentos_qtd'], model='additive')\n",
    "decomposition.plot()\n",
    "plt.show()\n"
   ],
   "id": "9ed3611c3903aade",
   "outputs": [
    {
     "data": {
      "text/plain": [
       "<Figure size 640x480 with 4 Axes>"
      ],
      "image/png": "[encoded data removed]"
     },
     "metadata": {},
     "output_type": "display_data"
    }
   ],
   "execution_count": 196
  },
  {
   "metadata": {
    "ExecuteTime": {
     "end_time": "2024-06-12T02:27:34.926325Z",
     "start_time": "2024-06-12T02:27:34.123104Z"
    }
   },
   "cell_type": "code",
   "source": [
    "from statsmodels.tsa.stattools import adfuller\n",
    "\n",
    "\n",
    "# Função para testar estacionariedade com o teste ADF\n",
    "def adf_test(series):\n",
    "    result = adfuller(series)\n",
    "    print(f'ADF Statistic: {result[0]}')\n",
    "    print(f'p-value: {result[1]}')\n",
    "    print('Critical Values:')\n",
    "    for key, value in result[4].items():\n",
    "        print(f'   {key}: {value}')\n",
    "    return result[1] <= 0.05  # Retorna True se a série é estacionária (p-value <= 0.05)\n",
    "\n",
    "# Plotar a série temporal original\n",
    "plt.figure(figsize=(12, 6))\n",
    "plt.plot(df_st.index, df_st['partos_e_nascimentos_qtd'])\n",
    "plt.title('Nascimentos Anuais')\n",
    "plt.show()\n",
    "\n",
    "# Testar estacionariedade da série original\n",
    "print('Teste ADF na série original:')\n",
    "adf_test(df_st['partos_e_nascimentos_qtd'])\n",
    "\n",
    "# Diferenciação até a série se tornar estacionária\n",
    "d = 0\n",
    "serie = df_st['partos_e_nascimentos_qtd']\n",
    "while not adf_test(serie):\n",
    "    d += 1\n",
    "    serie = serie.diff().dropna()\n",
    "    plt.figure(figsize=(12, 6))\n",
    "    plt.plot(serie)\n",
    "    plt.title(f'Série Diferenciada {d} vez(es)')\n",
    "    plt.show()\n",
    "\n",
    "print(f'A série se tornou estacionária após {d} diferenciações.')\n"
   ],
   "id": "f72e1e5b9e52d379",
   "outputs": [
    {
     "data": {
      "text/plain": [
       "<Figure size 1200x600 with 1 Axes>"
      ],
      "image/png": "[encoded data removed]"
     },
     "metadata": {},
     "output_type": "display_data"
    },
    {
     "name": "stdout",
     "output_type": "stream",
     "text": [
      "Teste ADF na série original:\n",
      "ADF Statistic: -0.2014761075527554\n",
      "p-value: 0.9383454404729215\n",
      "Critical Values:\n",
      "   1%: -3.470616369591229\n",
      "   5%: -2.8792214018977655\n",
      "   10%: -2.57619681359045\n",
      "ADF Statistic: -0.2014761075527554\n",
      "p-value: 0.9383454404729215\n",
      "Critical Values:\n",
      "   1%: -3.470616369591229\n",
      "   5%: -2.8792214018977655\n",
      "   10%: -2.57619681359045\n"
     ]
    },
    {
     "data": {
      "text/plain": [
       "<Figure size 1200x600 with 1 Axes>"
      ],
      "image/png": "[encoded data removed]"
     },
     "metadata": {},
     "output_type": "display_data"
    },
    {
     "name": "stdout",
     "output_type": "stream",
     "text": [
      "ADF Statistic: -2.8594051505178473\n",
      "p-value: 0.05027637499920585\n",
      "Critical Values:\n",
      "   1%: -3.47086589632514\n",
      "   5%: -2.879330279087651\n",
      "   10%: -2.57625492712671\n"
     ]
    },
    {
     "data": {
      "text/plain": [
       "<Figure size 1200x600 with 1 Axes>"
      ],
      "image/png": "[encoded data removed]"
     },
     "metadata": {},
     "output_type": "display_data"
    },
    {
     "name": "stdout",
     "output_type": "stream",
     "text": [
      "ADF Statistic: -10.240306074954002\n",
      "p-value: 4.76872432374361e-18\n",
      "Critical Values:\n",
      "   1%: -3.470616369591229\n",
      "   5%: -2.8792214018977655\n",
      "   10%: -2.57619681359045\n",
      "A série se tornou estacionária após 2 diferenciações.\n"
     ]
    }
   ],
   "execution_count": 219
  },
  {
   "metadata": {
    "ExecuteTime": {
     "end_time": "2024-06-12T02:24:30.768708Z",
     "start_time": "2024-06-12T02:24:30.363695Z"
    }
   },
   "cell_type": "code",
   "source": [
    "from statsmodels.graphics.tsaplots import plot_acf, plot_pacf\n",
    "\n",
    "# Plotar ACF e PACF\n",
    "fig, ax = plt.subplots(1, 2, figsize=(16, 6))\n",
    "plot_acf(df_st['partos_e_nascimentos_qtd'].diff().dropna(), lags=40, ax=ax[0])\n",
    "plot_pacf(df_st['partos_e_nascimentos_qtd'].diff().dropna(), lags=40, ax=ax[1])\n",
    "plt.show()"
   ],
   "id": "a783f6a9bf03df7a",
   "outputs": [
    {
     "data": {
      "text/plain": [
       "<Figure size 1600x600 with 2 Axes>"
      ],
      "image/png": "[encoded data removed]"
     },
     "metadata": {},
     "output_type": "display_data"
    }
   ],
   "execution_count": 218
  },
  {
   "metadata": {
    "ExecuteTime": {
     "end_time": "2024-06-12T02:27:54.882257Z",
     "start_time": "2024-06-12T02:27:48.741559Z"
    }
   },
   "cell_type": "code",
   "source": [
    "import pmdarima as pm\n",
    "\n",
    "# Usar auto_arima para encontrar os melhores valores de p, d e q\n",
    "model = pm.auto_arima(df_st['partos_e_nascimentos_qtd'], seasonal=False, trace=True)\n",
    "print(model.summary())"
   ],
   "id": "2877cd8ed4d09a96",
   "outputs": [
    {
     "name": "stdout",
     "output_type": "stream",
     "text": [
      "Performing stepwise search to minimize aic\n",
      " ARIMA(2,1,2)(0,0,0)[0] intercept   : AIC=3457.038, Time=0.60 sec\n",
      " ARIMA(0,1,0)(0,0,0)[0] intercept   : AIC=3505.685, Time=0.03 sec\n",
      " ARIMA(1,1,0)(0,0,0)[0] intercept   : AIC=3501.437, Time=0.05 sec\n",
      " ARIMA(0,1,1)(0,0,0)[0] intercept   : AIC=3503.454, Time=0.07 sec\n",
      " ARIMA(0,1,0)(0,0,0)[0]             : AIC=3504.203, Time=0.04 sec\n",
      " ARIMA(1,1,2)(0,0,0)[0] intercept   : AIC=3478.250, Time=0.21 sec\n",
      " ARIMA(2,1,1)(0,0,0)[0] intercept   : AIC=3477.614, Time=0.12 sec\n",
      " ARIMA(3,1,2)(0,0,0)[0] intercept   : AIC=3477.501, Time=0.40 sec\n",
      " ARIMA(2,1,3)(0,0,0)[0] intercept   : AIC=inf, Time=3.06 sec\n",
      " ARIMA(1,1,1)(0,0,0)[0] intercept   : AIC=3453.809, Time=0.31 sec\n",
      " ARIMA(0,1,2)(0,0,0)[0] intercept   : AIC=3476.896, Time=0.07 sec\n",
      " ARIMA(2,1,0)(0,0,0)[0] intercept   : AIC=3476.273, Time=0.06 sec\n",
      " ARIMA(1,1,1)(0,0,0)[0]             : AIC=3452.430, Time=0.22 sec\n",
      " ARIMA(0,1,1)(0,0,0)[0]             : AIC=3501.546, Time=0.04 sec\n",
      " ARIMA(1,1,0)(0,0,0)[0]             : AIC=3499.719, Time=0.03 sec\n",
      " ARIMA(2,1,1)(0,0,0)[0]             : AIC=3476.371, Time=0.11 sec\n",
      " ARIMA(1,1,2)(0,0,0)[0]             : AIC=3476.918, Time=0.08 sec\n",
      " ARIMA(0,1,2)(0,0,0)[0]             : AIC=3475.644, Time=0.06 sec\n",
      " ARIMA(2,1,0)(0,0,0)[0]             : AIC=3475.058, Time=0.05 sec\n",
      " ARIMA(2,1,2)(0,0,0)[0]             : AIC=inf, Time=0.22 sec\n",
      "\n",
      "Best model:  ARIMA(1,1,1)(0,0,0)[0]          \n",
      "Total fit time: 5.822 seconds\n",
      "                               SARIMAX Results                                \n",
      "==============================================================================\n",
      "Dep. Variable:                      y   No. Observations:                  180\n",
      "Model:               SARIMAX(1, 1, 1)   Log Likelihood               -1723.215\n",
      "Date:                Tue, 11 Jun 2024   AIC                           3452.430\n",
      "Time:                        23:27:54   BIC                           3461.992\n",
      "Sample:                    01-01-2009   HQIC                          3456.307\n",
      "                         - 12-01-2023                                         \n",
      "Covariance Type:                  opg                                         \n",
      "==============================================================================\n",
      "                 coef    std err          z      P>|z|      [0.025      0.975]\n",
      "------------------------------------------------------------------------------\n",
      "ar.L1         -0.9978      0.003   -352.555      0.000      -1.003      -0.992\n",
      "ma.L1          0.9889      0.008    118.659      0.000       0.973       1.005\n",
      "sigma2      1.343e+07    4.4e-12   3.05e+18      0.000    1.34e+07    1.34e+07\n",
      "===================================================================================\n",
      "Ljung-Box (L1) (Q):                   0.54   Jarque-Bera (JB):                13.98\n",
      "Prob(Q):                              0.46   Prob(JB):                         0.00\n",
      "Heteroskedasticity (H):               0.81   Skew:                             0.67\n",
      "Prob(H) (two-sided):                  0.43   Kurtosis:                         3.30\n",
      "===================================================================================\n",
      "\n",
      "Warnings:\n",
      "[1] Covariance matrix calculated using the outer product of gradients (complex-step).\n",
      "[2] Covariance matrix is singular or near-singular, with condition number 2.22e+34. Standard errors may be unstable.\n"
     ]
    }
   ],
   "execution_count": 220
  },
  {
   "metadata": {
    "ExecuteTime": {
     "end_time": "2024-06-12T02:34:03.317687Z",
     "start_time": "2024-06-12T02:34:00.611270Z"
    }
   },
   "cell_type": "code",
   "source": [
    "from statsmodels.tsa.arima.model import ARIMA\n",
    "\n",
    "model = ARIMA(df_st['partos_e_nascimentos_qtd'], order=(3, 2, 3))\n",
    "model_fit = model.fit()\n",
    "print(model_fit.summary())\n",
    "\n",
    "# Previsão\n",
    "forecast = model_fit.forecast(steps=12)\n",
    "plt.figure(figsize=(14, 7))\n",
    "plt.plot(df_st.index, df_st['partos_e_nascimentos_qtd'], label='Dados Originais')\n",
    "plt.plot(forecast.index, forecast, label='Previsão', color='red')\n",
    "plt.title('Previsão de Nascimentos')\n",
    "plt.xlabel('Data')\n",
    "plt.ylabel('Número de Nascimentos')\n",
    "plt.legend()\n",
    "plt.show()\n"
   ],
   "id": "666ccedf700ba832",
   "outputs": [
    {
     "name": "stdout",
     "output_type": "stream",
     "text": [
      "                                  SARIMAX Results                                   \n",
      "====================================================================================\n",
      "Dep. Variable:     partos_e_nascimentos_qtd   No. Observations:                  180\n",
      "Model:                       ARIMA(3, 2, 3)   Log Likelihood               -1751.330\n",
      "Date:                      Tue, 11 Jun 2024   AIC                           3516.661\n",
      "Time:                              23:34:02   BIC                           3538.933\n",
      "Sample:                          01-01-2009   HQIC                          3525.693\n",
      "                               - 12-01-2023                                         \n",
      "Covariance Type:                        opg                                         \n",
      "==============================================================================\n",
      "                 coef    std err          z      P>|z|      [0.025      0.975]\n",
      "------------------------------------------------------------------------------\n",
      "ar.L1         -0.5379      0.180     -2.985      0.003      -0.891      -0.185\n",
      "ar.L2          0.6446      0.115      5.601      0.000       0.419       0.870\n",
      "ar.L3          0.1838      0.077      2.391      0.017       0.033       0.334\n",
      "ma.L1          0.0766      0.218      0.351      0.726      -0.351       0.504\n",
      "ma.L2         -0.9941      0.120     -8.311      0.000      -1.229      -0.760\n",
      "ma.L3         -0.0824      0.153     -0.537      0.591      -0.383       0.218\n",
      "sigma2      1.682e+07   1.87e-08   8.98e+14      0.000    1.68e+07    1.68e+07\n",
      "===================================================================================\n",
      "Ljung-Box (L1) (Q):                  19.11   Jarque-Bera (JB):                 2.19\n",
      "Prob(Q):                              0.00   Prob(JB):                         0.33\n",
      "Heteroskedasticity (H):               0.62   Skew:                             0.24\n",
      "Prob(H) (two-sided):                  0.07   Kurtosis:                         2.75\n",
      "===================================================================================\n",
      "\n",
      "Warnings:\n",
      "[1] Covariance matrix calculated using the outer product of gradients (complex-step).\n",
      "[2] Covariance matrix is singular or near-singular, with condition number 3.83e+30. Standard errors may be unstable.\n"
     ]
    },
    {
     "data": {
      "text/plain": [
       "<Figure size 1400x700 with 1 Axes>"
      ],
      "image/png": "[encoded data removed]"
     },
     "metadata": {},
     "output_type": "display_data"
    }
   ],
   "execution_count": 222
  },
  {
   "metadata": {
    "ExecuteTime": {
     "end_time": "2024-06-11T23:17:06.212410Z",
     "start_time": "2024-06-11T23:17:06.037137Z"
    }
   },
   "cell_type": "code",
   "source": [
    "fig = px.line(df_st, y='partos_e_nascimentos_val',title='Números de partos entre 2009 e 2024')\n",
    "# fig2 = px.line(df_st, y='partos_e_nascimentos_val',title='Valores com partos entre 2009 e 2024')\n",
    "#fig = make_subplots(rows=2, cols=1, subplot_titles=('Quantidade', 'Valores'), shared_xaxes=True, shared_yaxes=False)\n",
    "\n",
    "#fig.add_trace(go.Scatter(x=df_st.index, y=df_st['partos_e_nascimentos_qtd'], mode='lines', name='Quantidade'), row=1, col=1)\n",
    "#fig.add_trace(go.Scatter(x=df_st.index, y=df_st['partos_e_nascimentos_val'], mode='lines', name='Valores'), row=2, col=1)\n",
    "\n",
    "#fig.update_xaxes(dtick=\"M1\", tickmode='auto', rangeslider_visible=True)\n",
    "fig.update_layout(template = 'plotly_white')\n",
    "\n",
    "# fig.update_layout(\n",
    "#     xaxis2_rangeslider_visible=True,\n",
    "#     xaxis2_type=\"date\",\n",
    "#     autosize=True, height=900\n",
    "#     )\n",
    "fig.show()"
   ],
   "id": "918c09539ac14fda",
   "outputs": [
    {
     "data": {
      "application/vnd.plotly.v1+json": {
       "data": [
        {
         "hovertemplate": "time=%{x}<br>partos_e_nascimentos_val=%{y}<extra></extra>",
         "legendgroup": "",
         "line": {
          "color": "#636efa",
          "dash": "solid"
         },
         "marker": {
          "symbol": "circle"
         },
         "mode": "lines",
         "name": "",
         "orientation": "v",
         "showlegend": false,
         "x": [
          "2009-01-01T00:00:00",
          "2009-02-01T00:00:00",
          "2009-03-01T00:00:00",
          "2009-04-01T00:00:00",
          "2009-05-01T00:00:00",
          "2009-06-01T00:00:00",
          "2009-07-01T00:00:00",
          "2009-08-01T00:00:00",
          "2009-09-01T00:00:00",
          "2009-10-01T00:00:00",
          "2009-11-01T00:00:00",
          "2009-12-01T00:00:00",
          "2010-01-01T00:00:00",
          "2010-02-01T00:00:00",
          "2010-03-01T00:00:00",
          "2010-04-01T00:00:00",
          "2010-05-01T00:00:00",
          "2010-06-01T00:00:00",
          "2010-07-01T00:00:00",
          "2010-08-01T00:00:00",
          "2010-09-01T00:00:00",
          "2010-10-01T00:00:00",
          "2010-11-01T00:00:00",
          "2010-12-01T00:00:00",
          "2011-01-01T00:00:00",
          "2011-02-01T00:00:00",
          "2011-03-01T00:00:00",
          "2011-04-01T00:00:00",
          "2011-05-01T00:00:00",
          "2011-06-01T00:00:00",
          "2011-07-01T00:00:00",
          "2011-08-01T00:00:00",
          "2011-09-01T00:00:00",
          "2011-10-01T00:00:00",
          "2011-11-01T00:00:00",
          "2011-12-01T00:00:00",
          "2012-01-01T00:00:00",
          "2012-02-01T00:00:00",
          "2012-03-01T00:00:00",
          "2012-04-01T00:00:00",
          "2012-05-01T00:00:00",
          "2012-06-01T00:00:00",
          "2012-07-01T00:00:00",
          "2012-08-01T00:00:00",
          "2012-09-01T00:00:00",
          "2012-10-01T00:00:00",
          "2012-11-01T00:00:00",
          "2012-12-01T00:00:00",
          "2013-01-01T00:00:00",
          "2013-02-01T00:00:00",
          "2013-03-01T00:00:00",
          "2013-04-01T00:00:00",
          "2013-05-01T00:00:00",
          "2013-06-01T00:00:00",
          "2013-07-01T00:00:00",
          "2013-08-01T00:00:00",
          "2013-09-01T00:00:00",
          "2013-10-01T00:00:00",
          "2013-11-01T00:00:00",
          "2013-12-01T00:00:00",
          "2014-01-01T00:00:00",
          "2014-02-01T00:00:00",
          "2014-03-01T00:00:00",
          "2014-04-01T00:00:00",
          "2014-05-01T00:00:00",
          "2014-06-01T00:00:00",
          "2014-07-01T00:00:00",
          "2014-08-01T00:00:00",
          "2014-09-01T00:00:00",
          "2014-10-01T00:00:00",
          "2014-11-01T00:00:00",
          "2014-12-01T00:00:00",
          "2015-01-01T00:00:00",
          "2015-02-01T00:00:00",
          "2015-03-01T00:00:00",
          "2015-04-01T00:00:00",
          "2015-05-01T00:00:00",
          "2015-06-01T00:00:00",
          "2015-07-01T00:00:00",
          "2015-08-01T00:00:00",
          "2015-09-01T00:00:00",
          "2015-10-01T00:00:00",
          "2015-11-01T00:00:00",
          "2015-12-01T00:00:00",
          "2016-01-01T00:00:00",
          "2016-02-01T00:00:00",
          "2016-03-01T00:00:00",
          "2016-04-01T00:00:00",
          "2016-05-01T00:00:00",
          "2016-06-01T00:00:00",
          "2016-07-01T00:00:00",
          "2016-08-01T00:00:00",
          "2016-09-01T00:00:00",
          "2016-10-01T00:00:00",
          "2016-11-01T00:00:00",
          "2016-12-01T00:00:00",
          "2017-01-01T00:00:00",
          "2017-02-01T00:00:00",
          "2017-03-01T00:00:00",
          "2017-04-01T00:00:00",
          "2017-05-01T00:00:00",
          "2017-06-01T00:00:00",
          "2017-07-01T00:00:00",
          "2017-08-01T00:00:00",
          "2017-09-01T00:00:00",
          "2017-10-01T00:00:00",
          "2017-11-01T00:00:00",
          "2017-12-01T00:00:00",
          "2018-01-01T00:00:00",
          "2018-02-01T00:00:00",
          "2018-03-01T00:00:00",
          "2018-04-01T00:00:00",
          "2018-05-01T00:00:00",
          "2018-06-01T00:00:00",
          "2018-07-01T00:00:00",
          "2018-08-01T00:00:00",
          "2018-09-01T00:00:00",
          "2018-10-01T00:00:00",
          "2018-11-01T00:00:00",
          "2018-12-01T00:00:00",
          "2019-01-01T00:00:00",
          "2019-02-01T00:00:00",
          "2019-03-01T00:00:00",
          "2019-04-01T00:00:00",
          "2019-05-01T00:00:00",
          "2019-06-01T00:00:00",
          "2019-07-01T00:00:00",
          "2019-08-01T00:00:00",
          "2019-09-01T00:00:00",
          "2019-10-01T00:00:00",
          "2019-11-01T00:00:00",
          "2019-12-01T00:00:00",
          "2020-01-01T00:00:00",
          "2020-02-01T00:00:00",
          "2020-03-01T00:00:00",
          "2020-04-01T00:00:00",
          "2020-05-01T00:00:00",
          "2020-06-01T00:00:00",
          "2020-07-01T00:00:00",
          "2020-08-01T00:00:00",
          "2020-09-01T00:00:00",
          "2020-10-01T00:00:00",
          "2020-11-01T00:00:00",
          "2020-12-01T00:00:00",
          "2021-01-01T00:00:00",
          "2021-02-01T00:00:00",
          "2021-03-01T00:00:00",
          "2021-04-01T00:00:00",
          "2021-05-01T00:00:00",
          "2021-06-01T00:00:00",
          "2021-07-01T00:00:00",
          "2021-08-01T00:00:00",
          "2021-09-01T00:00:00",
          "2021-10-01T00:00:00",
          "2021-11-01T00:00:00",
          "2021-12-01T00:00:00",
          "2022-01-01T00:00:00",
          "2022-02-01T00:00:00",
          "2022-03-01T00:00:00",
          "2022-04-01T00:00:00",
          "2022-05-01T00:00:00",
          "2022-06-01T00:00:00",
          "2022-07-01T00:00:00",
          "2022-08-01T00:00:00",
          "2022-09-01T00:00:00",
          "2022-10-01T00:00:00",
          "2022-11-01T00:00:00",
          "2022-12-01T00:00:00",
          "2023-01-01T00:00:00",
          "2023-02-01T00:00:00",
          "2023-03-01T00:00:00",
          "2023-04-01T00:00:00",
          "2023-05-01T00:00:00",
          "2023-06-01T00:00:00",
          "2023-07-01T00:00:00",
          "2023-08-01T00:00:00",
          "2023-09-01T00:00:00",
          "2023-10-01T00:00:00",
          "2023-11-01T00:00:00",
          "2023-12-01T00:00:00",
          "2024-01-01T00:00:00",
          "2024-02-01T00:00:00"
         ],
         "xaxis": "x",
         "y": [
          5.617641181E7,
          5.482550619E7,
          6.239926422E7,
          6.034094792E7,
          6.1212225339999996E7,
          5.919542413E7,
          5.801139229E7,
          5.543930291E7,
          5.785275882E7,
          5.541701261E7,
          5.399601354E7,
          5.1557639839999996E7,
          5.610949381E7,
          5.447829785E7,
          5.853032881E7,
          5.849246066E7,
          5.805741237E7,
          5.663255992E7,
          5.694694582E7,
          5.46829165E7,
          5.276424849E7,
          5.299972214E7,
          5.199445893E7,
          4.949080369E7,
          5.386605907E7,
          5.236772148E7,
          5.819537424E7,
          5.702438886E7,
          5.615554206E7,
          5.680393591E7,
          5.670861967E7,
          5.319187886E7,
          5.240806956E7,
          5.004263869E7,
          4.960804453E7,
          4.9154313910000004E7,
          5.10819465E7,
          5.0901579339999996E7,
          5.550625091E7,
          5.405342779E7,
          5.474628955E7,
          5.303214688E7,
          5.208743475E7,
          5.042294554E7,
          4.885797486E7,
          4.902489455E7,
          4.813590165E7,
          4.620099238E7,
          5.219478979E7,
          4.837699001E7,
          5.090140435E7,
          5.344299791E7,
          5.37182719E7,
          5.268739568E7,
          5.311695882E7,
          5.207442209E7,
          5.064764155E7,
          4.920344354E7,
          4.727518457E7,
          4.600103369E7,
          5.049612194E7,
          4.865739752E7,
          5.259380888E7,
          5.213905019E7,
          5.514323061E7,
          5.238302331E7,
          5.43447298E7,
          5.2279277660000004E7,
          5.165655654E7,
          5.098193028E7,
          4.944540162E7,
          4.807817712E7,
          5.500081376E7,
          5.166686987E7,
          5.650381551E7,
          5.664418653E7,
          5.752469079E7,
          5.642937463E7,
          5.639648294E7,
          5.41575804E7,
          5.410548888E7,
          5.256701675E7,
          5.148123956E7,
          5.014412106E7,
          5.423400992E7,
          5.294333223E7,
          5.548420097E7,
          5.545116518E7,
          5.743428262E7,
          5.534189744E7,
          5.347326032E7,
          5.249673978E7,
          5.000409662E7,
          4.807365841E7,
          4.629849004E7,
          4.667205305E7,
          4.974678595E7,
          4.857367086E7,
          5.531152373E7,
          5.451621507E7,
          5.802465172E7,
          5.600644475E7,
          5.510996913E7,
          5.410175372E7,
          5.279898518E7,
          5.159912366E7,
          5.038665449E7,
          5.161830316E7,
          5.377808687E7,
          5.161384064E7,
          5.560705225E7,
          5.647017531E7,
          5.79604437E7,
          5.496127695E7,
          5.538902162E7,
          5.299447848E7,
          5.119132122E7,
          5.111269624E7,
          4.960273446E7,
          4.752610512E7,
          5.347570823E7,
          5.007648811E7,
          5.40831425E7,
          5.372418447E7,
          5.450814226E7,
          5.190391906E7,
          5.287259024E7,
          5.184813061E7,
          5.09017944E7,
          4.877797582E7,
          4.636856511E7,
          4.53887101E7,
          4.983600393E7,
          4.644982402E7,
          5.024617475E7,
          5.180340278E7,
          5.247322369E7,
          5.011946603E7,
          4.904521736E7,
          4.709051319E7,
          4.657605726E7,
          4.439243299E7,
          4.339447727E7,
          4.309143908E7,
          4.698439348E7,
          4.574343589E7,
          4.913157449E7,
          4.972145268E7,
          5.070623253E7,
          4.856772234E7,
          4.74033331E7,
          4.71137592E7,
          4.6264468E7,
          4.453642562E7,
          4.490363364E7,
          4.478000062E7,
          4.678716505E7,
          4.411979688E7,
          4.820821993E7,
          4.679490251E7,
          4.607061476E7,
          4.393706945E7,
          4.473401111E7,
          4.412149834E7,
          4.069102391E7,
          3.959925386E7,
          4.016488338E7,
          4.331970809E7,
          4.469142601E7,
          4.184785709E7,
          4.619755915E7,
          4.340841441E7,
          4.547241888E7,
          4.361736612E7,
          4.350515523E7,
          4.233040413E7,
          4.040295086E7,
          3.950993376E7,
          3.867415857E7,
          3.757647697E7,
          3.927193799E7,
          3.521327964E7
         ],
         "yaxis": "y",
         "type": "scatter"
        }
       ],
       "layout": {
        "template": {
         "data": {
          "barpolar": [
           {
            "marker": {
             "line": {
              "color": "white",
              "width": 0.5
             },
             "pattern": {
              "fillmode": "overlay",
              "size": 10,
              "solidity": 0.2
             }
            },
            "type": "barpolar"
           }
          ],
          "bar": [
           {
            "error_x": {
             "color": "#2a3f5f"
            },
            "error_y": {
             "color": "#2a3f5f"
            },
            "marker": {
             "line": {
              "color": "white",
              "width": 0.5
             },
             "pattern": {
              "fillmode": "overlay",
              "size": 10,
              "solidity": 0.2
             }
            },
            "type": "bar"
           }
          ],
          "carpet": [
           {
            "aaxis": {
             "endlinecolor": "#2a3f5f",
             "gridcolor": "#C8D4E3",
             "linecolor": "#C8D4E3",
             "minorgridcolor": "#C8D4E3",
             "startlinecolor": "#2a3f5f"
            },
            "baxis": {
             "endlinecolor": "#2a3f5f",
             "gridcolor": "#C8D4E3",
             "linecolor": "#C8D4E3",
             "minorgridcolor": "#C8D4E3",
             "startlinecolor": "#2a3f5f"
            },
            "type": "carpet"
           }
          ],
          "choropleth": [
           {
            "colorbar": {
             "outlinewidth": 0,
             "ticks": ""
            },
            "type": "choropleth"
           }
          ],
          "contourcarpet": [
           {
            "colorbar": {
             "outlinewidth": 0,
             "ticks": ""
            },
            "type": "contourcarpet"
           }
          ],
          "contour": [
           {
            "colorbar": {
             "outlinewidth": 0,
             "ticks": ""
            },
            "colorscale": [
             [
              0.0,
              "#0d0887"
             ],
             [
              0.1111111111111111,
              "#46039f"
             ],
             [
              0.2222222222222222,
              "#7201a8"
             ],
             [
              0.3333333333333333,
              "#9c179e"
             ],
             [
              0.4444444444444444,
              "#bd3786"
             ],
             [
              0.5555555555555556,
              "#d8576b"
             ],
             [
              0.6666666666666666,
              "#ed7953"
             ],
             [
              0.7777777777777778,
              "#fb9f3a"
             ],
             [
              0.8888888888888888,
              "#fdca26"
             ],
             [
              1.0,
              "#f0f921"
             ]
            ],
            "type": "contour"
           }
          ],
          "heatmapgl": [
           {
            "colorbar": {
             "outlinewidth": 0,
             "ticks": ""
            },
            "colorscale": [
             [
              0.0,
              "#0d0887"
             ],
             [
              0.1111111111111111,
              "#46039f"
             ],
             [
              0.2222222222222222,
              "#7201a8"
             ],
             [
              0.3333333333333333,
              "#9c179e"
             ],
             [
              0.4444444444444444,
              "#bd3786"
             ],
             [
              0.5555555555555556,
              "#d8576b"
             ],
             [
              0.6666666666666666,
              "#ed7953"
             ],
             [
              0.7777777777777778,
              "#fb9f3a"
             ],
             [
              0.8888888888888888,
              "#fdca26"
             ],
             [
              1.0,
              "#f0f921"
             ]
            ],
            "type": "heatmapgl"
           }
          ],
          "heatmap": [
           {
            "colorbar": {
             "outlinewidth": 0,
             "ticks": ""
            },
            "colorscale": [
             [
              0.0,
              "#0d0887"
             ],
             [
              0.1111111111111111,
              "#46039f"
             ],
             [
              0.2222222222222222,
              "#7201a8"
             ],
             [
              0.3333333333333333,
              "#9c179e"
             ],
             [
              0.4444444444444444,
              "#bd3786"
             ],
             [
              0.5555555555555556,
              "#d8576b"
             ],
             [
              0.6666666666666666,
              "#ed7953"
             ],
             [
              0.7777777777777778,
              "#fb9f3a"
             ],
             [
              0.8888888888888888,
              "#fdca26"
             ],
             [
              1.0,
              "#f0f921"
             ]
            ],
            "type": "heatmap"
           }
          ],
          "histogram2dcontour": [
           {
            "colorbar": {
             "outlinewidth": 0,
             "ticks": ""
            },
            "colorscale": [
             [
              0.0,
              "#0d0887"
             ],
             [
              0.1111111111111111,
              "#46039f"
             ],
             [
              0.2222222222222222,
              "#7201a8"
             ],
             [
              0.3333333333333333,
              "#9c179e"
             ],
             [
              0.4444444444444444,
              "#bd3786"
             ],
             [
              0.5555555555555556,
              "#d8576b"
             ],
             [
              0.6666666666666666,
              "#ed7953"
             ],
             [
              0.7777777777777778,
              "#fb9f3a"
             ],
             [
              0.8888888888888888,
              "#fdca26"
             ],
             [
              1.0,
              "#f0f921"
             ]
            ],
            "type": "histogram2dcontour"
           }
          ],
          "histogram2d": [
           {
            "colorbar": {
             "outlinewidth": 0,
             "ticks": ""
            },
            "colorscale": [
             [
              0.0,
              "#0d0887"
             ],
             [
              0.1111111111111111,
              "#46039f"
             ],
             [
              0.2222222222222222,
              "#7201a8"
             ],
             [
              0.3333333333333333,
              "#9c179e"
             ],
             [
              0.4444444444444444,
              "#bd3786"
             ],
             [
              0.5555555555555556,
              "#d8576b"
             ],
             [
              0.6666666666666666,
              "#ed7953"
             ],
             [
              0.7777777777777778,
              "#fb9f3a"
             ],
             [
              0.8888888888888888,
              "#fdca26"
             ],
             [
              1.0,
              "#f0f921"
             ]
            ],
            "type": "histogram2d"
           }
          ],
          "histogram": [
           {
            "marker": {
             "pattern": {
              "fillmode": "overlay",
              "size": 10,
              "solidity": 0.2
             }
            },
            "type": "histogram"
           }
          ],
          "mesh3d": [
           {
            "colorbar": {
             "outlinewidth": 0,
             "ticks": ""
            },
            "type": "mesh3d"
           }
          ],
          "parcoords": [
           {
            "line": {
             "colorbar": {
              "outlinewidth": 0,
              "ticks": ""
             }
            },
            "type": "parcoords"
           }
          ],
          "pie": [
           {
            "automargin": true,
            "type": "pie"
           }
          ],
          "scatter3d": [
           {
            "line": {
             "colorbar": {
              "outlinewidth": 0,
              "ticks": ""
             }
            },
            "marker": {
             "colorbar": {
              "outlinewidth": 0,
              "ticks": ""
             }
            },
            "type": "scatter3d"
           }
          ],
          "scattercarpet": [
           {
            "marker": {
             "colorbar": {
              "outlinewidth": 0,
              "ticks": ""
             }
            },
            "type": "scattercarpet"
           }
          ],
          "scattergeo": [
           {
            "marker": {
             "colorbar": {
              "outlinewidth": 0,
              "ticks": ""
             }
            },
            "type": "scattergeo"
           }
          ],
          "scattergl": [
           {
            "marker": {
             "colorbar": {
              "outlinewidth": 0,
              "ticks": ""
             }
            },
            "type": "scattergl"
           }
          ],
          "scattermapbox": [
           {
            "marker": {
             "colorbar": {
              "outlinewidth": 0,
              "ticks": ""
             }
            },
            "type": "scattermapbox"
           }
          ],
          "scatterpolargl": [
           {
            "marker": {
             "colorbar": {
              "outlinewidth": 0,
              "ticks": ""
             }
            },
            "type": "scatterpolargl"
           }
          ],
          "scatterpolar": [
           {
            "marker": {
             "colorbar": {
              "outlinewidth": 0,
              "ticks": ""
             }
            },
            "type": "scatterpolar"
           }
          ],
          "scatter": [
           {
            "fillpattern": {
             "fillmode": "overlay",
             "size": 10,
             "solidity": 0.2
            },
            "type": "scatter"
           }
          ],
          "scatterternary": [
           {
            "marker": {
             "colorbar": {
              "outlinewidth": 0,
              "ticks": ""
             }
            },
            "type": "scatterternary"
           }
          ],
          "surface": [
           {
            "colorbar": {
             "outlinewidth": 0,
             "ticks": ""
            },
            "colorscale": [
             [
              0.0,
              "#0d0887"
             ],
             [
              0.1111111111111111,
              "#46039f"
             ],
             [
              0.2222222222222222,
              "#7201a8"
             ],
             [
              0.3333333333333333,
              "#9c179e"
             ],
             [
              0.4444444444444444,
              "#bd3786"
             ],
             [
              0.5555555555555556,
              "#d8576b"
             ],
             [
              0.6666666666666666,
              "#ed7953"
             ],
             [
              0.7777777777777778,
              "#fb9f3a"
             ],
             [
              0.8888888888888888,
              "#fdca26"
             ],
             [
              1.0,
              "#f0f921"
             ]
            ],
            "type": "surface"
           }
          ],
          "table": [
           {
            "cells": {
             "fill": {
              "color": "#EBF0F8"
             },
             "line": {
              "color": "white"
             }
            },
            "header": {
             "fill": {
              "color": "#C8D4E3"
             },
             "line": {
              "color": "white"
             }
            },
            "type": "table"
           }
          ]
         },
         "layout": {
          "annotationdefaults": {
           "arrowcolor": "#2a3f5f",
           "arrowhead": 0,
           "arrowwidth": 1
          },
          "autotypenumbers": "strict",
          "coloraxis": {
           "colorbar": {
            "outlinewidth": 0,
            "ticks": ""
           }
          },
          "colorscale": {
           "diverging": [
            [
             0,
             "#8e0152"
            ],
            [
             0.1,
             "#c51b7d"
            ],
            [
             0.2,
             "#de77ae"
            ],
            [
             0.3,
             "#f1b6da"
            ],
            [
             0.4,
             "#fde0ef"
            ],
            [
             0.5,
             "#f7f7f7"
            ],
            [
             0.6,
             "#e6f5d0"
            ],
            [
             0.7,
             "#b8e186"
            ],
            [
             0.8,
             "#7fbc41"
            ],
            [
             0.9,
             "#4d9221"
            ],
            [
             1,
             "#276419"
            ]
           ],
           "sequential": [
            [
             0.0,
             "#0d0887"
            ],
            [
             0.1111111111111111,
             "#46039f"
            ],
            [
             0.2222222222222222,
             "#7201a8"
            ],
            [
             0.3333333333333333,
             "#9c179e"
            ],
            [
             0.4444444444444444,
             "#bd3786"
            ],
            [
             0.5555555555555556,
             "#d8576b"
            ],
            [
             0.6666666666666666,
             "#ed7953"
            ],
            [
             0.7777777777777778,
             "#fb9f3a"
            ],
            [
             0.8888888888888888,
             "#fdca26"
            ],
            [
             1.0,
             "#f0f921"
            ]
           ],
           "sequentialminus": [
            [
             0.0,
             "#0d0887"
            ],
            [
             0.1111111111111111,
             "#46039f"
            ],
            [
             0.2222222222222222,
             "#7201a8"
            ],
            [
             0.3333333333333333,
             "#9c179e"
            ],
            [
             0.4444444444444444,
             "#bd3786"
            ],
            [
             0.5555555555555556,
             "#d8576b"
            ],
            [
             0.6666666666666666,
             "#ed7953"
            ],
            [
             0.7777777777777778,
             "#fb9f3a"
            ],
            [
             0.8888888888888888,
             "#fdca26"
            ],
            [
             1.0,
             "#f0f921"
            ]
           ]
          },
          "colorway": [
           "#636efa",
           "#EF553B",
           "#00cc96",
           "#ab63fa",
           "#FFA15A",
           "#19d3f3",
           "#FF6692",
           "#B6E880",
           "#FF97FF",
           "#FECB52"
          ],
          "font": {
           "color": "#2a3f5f"
          },
          "geo": {
           "bgcolor": "white",
           "lakecolor": "white",
           "landcolor": "white",
           "showlakes": true,
           "showland": true,
           "subunitcolor": "#C8D4E3"
          },
          "hoverlabel": {
           "align": "left"
          },
          "hovermode": "closest",
          "mapbox": {
           "style": "light"
          },
          "paper_bgcolor": "white",
          "plot_bgcolor": "white",
          "polar": {
           "angularaxis": {
            "gridcolor": "#EBF0F8",
            "linecolor": "#EBF0F8",
            "ticks": ""
           },
           "bgcolor": "white",
           "radialaxis": {
            "gridcolor": "#EBF0F8",
            "linecolor": "#EBF0F8",
            "ticks": ""
           }
          },
          "scene": {
           "xaxis": {
            "backgroundcolor": "white",
            "gridcolor": "#DFE8F3",
            "gridwidth": 2,
            "linecolor": "#EBF0F8",
            "showbackground": true,
            "ticks": "",
            "zerolinecolor": "#EBF0F8"
           },
           "yaxis": {
            "backgroundcolor": "white",
            "gridcolor": "#DFE8F3",
            "gridwidth": 2,
            "linecolor": "#EBF0F8",
            "showbackground": true,
            "ticks": "",
            "zerolinecolor": "#EBF0F8"
           },
           "zaxis": {
            "backgroundcolor": "white",
            "gridcolor": "#DFE8F3",
            "gridwidth": 2,
            "linecolor": "#EBF0F8",
            "showbackground": true,
            "ticks": "",
            "zerolinecolor": "#EBF0F8"
           }
          },
          "shapedefaults": {
           "line": {
            "color": "#2a3f5f"
           }
          },
          "ternary": {
           "aaxis": {
            "gridcolor": "#DFE8F3",
            "linecolor": "#A2B1C6",
            "ticks": ""
           },
           "baxis": {
            "gridcolor": "#DFE8F3",
            "linecolor": "#A2B1C6",
            "ticks": ""
           },
           "bgcolor": "white",
           "caxis": {
            "gridcolor": "#DFE8F3",
            "linecolor": "#A2B1C6",
            "ticks": ""
           }
          },
          "title": {
           "x": 0.05
          },
          "xaxis": {
           "automargin": true,
           "gridcolor": "#EBF0F8",
           "linecolor": "#EBF0F8",
           "ticks": "",
           "title": {
            "standoff": 15
           },
           "zerolinecolor": "#EBF0F8",
           "zerolinewidth": 2
          },
          "yaxis": {
           "automargin": true,
           "gridcolor": "#EBF0F8",
           "linecolor": "#EBF0F8",
           "ticks": "",
           "title": {
            "standoff": 15
           },
           "zerolinecolor": "#EBF0F8",
           "zerolinewidth": 2
          }
         }
        },
        "xaxis": {
         "anchor": "y",
         "domain": [
          0.0,
          1.0
         ],
         "title": {
          "text": "time"
         }
        },
        "yaxis": {
         "anchor": "x",
         "domain": [
          0.0,
          1.0
         ],
         "title": {
          "text": "partos_e_nascimentos_val"
         }
        },
        "legend": {
         "tracegroupgap": 0
        },
        "title": {
         "text": "Números de partos entre 2009 e 2024"
        }
       },
       "config": {
        "plotlyServerURL": "https://plot.ly"
       }
      },
      "text/html": [
       "<div>                            <div id=\"b4c0e5e7-203c-4faf-8ef4-b80c14639499\" class=\"plotly-graph-div\" style=\"height:525px; width:100%;\"></div>            <script type=\"text/javascript\">                require([\"plotly\"], function(Plotly) {                    window.PLOTLYENV=window.PLOTLYENV || {};                                    if (document.getElementById(\"b4c0e5e7-203c-4faf-8ef4-b80c14639499\")) {                    Plotly.newPlot(                        \"b4c0e5e7-203c-4faf-8ef4-b80c14639499\",                        [{\"hovertemplate\":\"time=%{x}\\u003cbr\\u003epartos_e_nascimentos_val=%{y}\\u003cextra\\u003e\\u003c\\u002fextra\\u003e\",\"legendgroup\":\"\",\"line\":{\"color\":\"#636efa\",\"dash\":\"solid\"},\"marker\":{\"symbol\":\"circle\"},\"mode\":\"lines\",\"name\":\"\",\"orientation\":\"v\",\"showlegend\":false,\"x\":[\"2009-01-01T00:00:00\",\"2009-02-01T00:00:00\",\"2009-03-01T00:00:00\",\"2009-04-01T00:00:00\",\"2009-05-01T00:00:00\",\"2009-06-01T00:00:00\",\"2009-07-01T00:00:00\",\"2009-08-01T00:00:00\",\"2009-09-01T00:00:00\",\"2009-10-01T00:00:00\",\"2009-11-01T00:00:00\",\"2009-12-01T00:00:00\",\"2010-01-01T00:00:00\",\"2010-02-01T00:00:00\",\"2010-03-01T00:00:00\",\"2010-04-01T00:00:00\",\"2010-05-01T00:00:00\",\"2010-06-01T00:00:00\",\"2010-07-01T00:00:00\",\"2010-08-01T00:00:00\",\"2010-09-01T00:00:00\",\"2010-10-01T00:00:00\",\"2010-11-01T00:00:00\",\"2010-12-01T00:00:00\",\"2011-01-01T00:00:00\",\"2011-02-01T00:00:00\",\"2011-03-01T00:00:00\",\"2011-04-01T00:00:00\",\"2011-05-01T00:00:00\",\"2011-06-01T00:00:00\",\"2011-07-01T00:00:00\",\"2011-08-01T00:00:00\",\"2011-09-01T00:00:00\",\"2011-10-01T00:00:00\",\"2011-11-01T00:00:00\",\"2011-12-01T00:00:00\",\"2012-01-01T00:00:00\",\"2012-02-01T00:00:00\",\"2012-03-01T00:00:00\",\"2012-04-01T00:00:00\",\"2012-05-01T00:00:00\",\"2012-06-01T00:00:00\",\"2012-07-01T00:00:00\",\"2012-08-01T00:00:00\",\"2012-09-01T00:00:00\",\"2012-10-01T00:00:00\",\"2012-11-01T00:00:00\",\"2012-12-01T00:00:00\",\"2013-01-01T00:00:00\",\"2013-02-01T00:00:00\",\"2013-03-01T00:00:00\",\"2013-04-01T00:00:00\",\"2013-05-01T00:00:00\",\"2013-06-01T00:00:00\",\"2013-07-01T00:00:00\",\"2013-08-01T00:00:00\",\"2013-09-01T00:00:00\",\"2013-10-01T00:00:00\",\"2013-11-01T00:00:00\",\"2013-12-01T00:00:00\",\"2014-01-01T00:00:00\",\"2014-02-01T00:00:00\",\"2014-03-01T00:00:00\",\"2014-04-01T00:00:00\",\"2014-05-01T00:00:00\",\"2014-06-01T00:00:00\",\"2014-07-01T00:00:00\",\"2014-08-01T00:00:00\",\"2014-09-01T00:00:00\",\"2014-10-01T00:00:00\",\"2014-11-01T00:00:00\",\"2014-12-01T00:00:00\",\"2015-01-01T00:00:00\",\"2015-02-01T00:00:00\",\"2015-03-01T00:00:00\",\"2015-04-01T00:00:00\",\"2015-05-01T00:00:00\",\"2015-06-01T00:00:00\",\"2015-07-01T00:00:00\",\"2015-08-01T00:00:00\",\"2015-09-01T00:00:00\",\"2015-10-01T00:00:00\",\"2015-11-01T00:00:00\",\"2015-12-01T00:00:00\",\"2016-01-01T00:00:00\",\"2016-02-01T00:00:00\",\"2016-03-01T00:00:00\",\"2016-04-01T00:00:00\",\"2016-05-01T00:00:00\",\"2016-06-01T00:00:00\",\"2016-07-01T00:00:00\",\"2016-08-01T00:00:00\",\"2016-09-01T00:00:00\",\"2016-10-01T00:00:00\",\"2016-11-01T00:00:00\",\"2016-12-01T00:00:00\",\"2017-01-01T00:00:00\",\"2017-02-01T00:00:00\",\"2017-03-01T00:00:00\",\"2017-04-01T00:00:00\",\"2017-05-01T00:00:00\",\"2017-06-01T00:00:00\",\"2017-07-01T00:00:00\",\"2017-08-01T00:00:00\",\"2017-09-01T00:00:00\",\"2017-10-01T00:00:00\",\"2017-11-01T00:00:00\",\"2017-12-01T00:00:00\",\"2018-01-01T00:00:00\",\"2018-02-01T00:00:00\",\"2018-03-01T00:00:00\",\"2018-04-01T00:00:00\",\"2018-05-01T00:00:00\",\"2018-06-01T00:00:00\",\"2018-07-01T00:00:00\",\"2018-08-01T00:00:00\",\"2018-09-01T00:00:00\",\"2018-10-01T00:00:00\",\"2018-11-01T00:00:00\",\"2018-12-01T00:00:00\",\"2019-01-01T00:00:00\",\"2019-02-01T00:00:00\",\"2019-03-01T00:00:00\",\"2019-04-01T00:00:00\",\"2019-05-01T00:00:00\",\"2019-06-01T00:00:00\",\"2019-07-01T00:00:00\",\"2019-08-01T00:00:00\",\"2019-09-01T00:00:00\",\"2019-10-01T00:00:00\",\"2019-11-01T00:00:00\",\"2019-12-01T00:00:00\",\"2020-01-01T00:00:00\",\"2020-02-01T00:00:00\",\"2020-03-01T00:00:00\",\"2020-04-01T00:00:00\",\"2020-05-01T00:00:00\",\"2020-06-01T00:00:00\",\"2020-07-01T00:00:00\",\"2020-08-01T00:00:00\",\"2020-09-01T00:00:00\",\"2020-10-01T00:00:00\",\"2020-11-01T00:00:00\",\"2020-12-01T00:00:00\",\"2021-01-01T00:00:00\",\"2021-02-01T00:00:00\",\"2021-03-01T00:00:00\",\"2021-04-01T00:00:00\",\"2021-05-01T00:00:00\",\"2021-06-01T00:00:00\",\"2021-07-01T00:00:00\",\"2021-08-01T00:00:00\",\"2021-09-01T00:00:00\",\"2021-10-01T00:00:00\",\"2021-11-01T00:00:00\",\"2021-12-01T00:00:00\",\"2022-01-01T00:00:00\",\"2022-02-01T00:00:00\",\"2022-03-01T00:00:00\",\"2022-04-01T00:00:00\",\"2022-05-01T00:00:00\",\"2022-06-01T00:00:00\",\"2022-07-01T00:00:00\",\"2022-08-01T00:00:00\",\"2022-09-01T00:00:00\",\"2022-10-01T00:00:00\",\"2022-11-01T00:00:00\",\"2022-12-01T00:00:00\",\"2023-01-01T00:00:00\",\"2023-02-01T00:00:00\",\"2023-03-01T00:00:00\",\"2023-04-01T00:00:00\",\"2023-05-01T00:00:00\",\"2023-06-01T00:00:00\",\"2023-07-01T00:00:00\",\"2023-08-01T00:00:00\",\"2023-09-01T00:00:00\",\"2023-10-01T00:00:00\",\"2023-11-01T00:00:00\",\"2023-12-01T00:00:00\",\"2024-01-01T00:00:00\",\"2024-02-01T00:00:00\"],\"xaxis\":\"x\",\"y\":[56176411.81,54825506.19,62399264.22,60340947.92,61212225.339999996,59195424.13,58011392.29,55439302.91,57852758.82,55417012.61,53996013.54,51557639.839999996,56109493.81,54478297.85,58530328.81,58492460.66,58057412.37,56632559.92,56946945.82,54682916.5,52764248.49,52999722.14,51994458.93,49490803.69,53866059.07,52367721.48,58195374.24,57024388.86,56155542.06,56803935.91,56708619.67,53191878.86,52408069.56,50042638.69,49608044.53,49154313.910000004,51081946.5,50901579.339999996,55506250.91,54053427.79,54746289.55,53032146.88,52087434.75,50422945.54,48857974.86,49024894.55,48135901.65,46200992.38,52194789.79,48376990.01,50901404.35,53442997.91,53718271.9,52687395.68,53116958.82,52074422.09,50647641.55,49203443.54,47275184.57,46001033.69,50496121.94,48657397.52,52593808.88,52139050.19,55143230.61,52383023.31,54344729.8,52279277.660000004,51656556.54,50981930.28,49445401.62,48078177.12,55000813.76,51666869.87,56503815.51,56644186.53,57524690.79,56429374.63,56396482.94,54157580.4,54105488.88,52567016.75,51481239.56,50144121.06,54234009.92,52943332.23,55484200.97,55451165.18,57434282.62,55341897.44,53473260.32,52496739.78,50004096.62,48073658.41,46298490.04,46672053.05,49746785.95,48573670.86,55311523.73,54516215.07,58024651.72,56006444.75,55109969.13,54101753.72,52798985.18,51599123.66,50386654.49,51618303.16,53778086.87,51613840.64,55607052.25,56470175.31,57960443.7,54961276.95,55389021.62,52994478.48,51191321.22,51112696.24,49602734.46,47526105.12,53475708.23,50076488.11,54083142.5,53724184.47,54508142.26,51903919.06,52872590.24,51848130.61,50901794.4,48777975.82,46368565.11,45388710.1,49836003.93,46449824.02,50246174.75,51803402.78,52473223.69,50119466.03,49045217.36,47090513.19,46576057.26,44392432.99,43394477.27,43091439.08,46984393.48,45743435.89,49131574.49,49721452.68,50706232.53,48567722.34,47403333.1,47113759.2,46264468.0,44536425.62,44903633.64,44780000.62,46787165.05,44119796.88,48208219.93,46794902.51,46070614.76,43937069.45,44734011.11,44121498.34,40691023.91,39599253.86,40164883.38,43319708.09,44691426.01,41847857.09,46197559.15,43408414.41,45472418.88,43617366.12,43505155.23,42330404.13,40402950.86,39509933.76,38674158.57,37576476.97,39271937.99,35213279.64],\"yaxis\":\"y\",\"type\":\"scatter\"}],                        {\"template\":{\"data\":{\"barpolar\":[{\"marker\":{\"line\":{\"color\":\"white\",\"width\":0.5},\"pattern\":{\"fillmode\":\"overlay\",\"size\":10,\"solidity\":0.2}},\"type\":\"barpolar\"}],\"bar\":[{\"error_x\":{\"color\":\"#2a3f5f\"},\"error_y\":{\"color\":\"#2a3f5f\"},\"marker\":{\"line\":{\"color\":\"white\",\"width\":0.5},\"pattern\":{\"fillmode\":\"overlay\",\"size\":10,\"solidity\":0.2}},\"type\":\"bar\"}],\"carpet\":[{\"aaxis\":{\"endlinecolor\":\"#2a3f5f\",\"gridcolor\":\"#C8D4E3\",\"linecolor\":\"#C8D4E3\",\"minorgridcolor\":\"#C8D4E3\",\"startlinecolor\":\"#2a3f5f\"},\"baxis\":{\"endlinecolor\":\"#2a3f5f\",\"gridcolor\":\"#C8D4E3\",\"linecolor\":\"#C8D4E3\",\"minorgridcolor\":\"#C8D4E3\",\"startlinecolor\":\"#2a3f5f\"},\"type\":\"carpet\"}],\"choropleth\":[{\"colorbar\":{\"outlinewidth\":0,\"ticks\":\"\"},\"type\":\"choropleth\"}],\"contourcarpet\":[{\"colorbar\":{\"outlinewidth\":0,\"ticks\":\"\"},\"type\":\"contourcarpet\"}],\"contour\":[{\"colorbar\":{\"outlinewidth\":0,\"ticks\":\"\"},\"colorscale\":[[0.0,\"#0d0887\"],[0.1111111111111111,\"#46039f\"],[0.2222222222222222,\"#7201a8\"],[0.3333333333333333,\"#9c179e\"],[0.4444444444444444,\"#bd3786\"],[0.5555555555555556,\"#d8576b\"],[0.6666666666666666,\"#ed7953\"],[0.7777777777777778,\"#fb9f3a\"],[0.8888888888888888,\"#fdca26\"],[1.0,\"#f0f921\"]],\"type\":\"contour\"}],\"heatmapgl\":[{\"colorbar\":{\"outlinewidth\":0,\"ticks\":\"\"},\"colorscale\":[[0.0,\"#0d0887\"],[0.1111111111111111,\"#46039f\"],[0.2222222222222222,\"#7201a8\"],[0.3333333333333333,\"#9c179e\"],[0.4444444444444444,\"#bd3786\"],[0.5555555555555556,\"#d8576b\"],[0.6666666666666666,\"#ed7953\"],[0.7777777777777778,\"#fb9f3a\"],[0.8888888888888888,\"#fdca26\"],[1.0,\"#f0f921\"]],\"type\":\"heatmapgl\"}],\"heatmap\":[{\"colorbar\":{\"outlinewidth\":0,\"ticks\":\"\"},\"colorscale\":[[0.0,\"#0d0887\"],[0.1111111111111111,\"#46039f\"],[0.2222222222222222,\"#7201a8\"],[0.3333333333333333,\"#9c179e\"],[0.4444444444444444,\"#bd3786\"],[0.5555555555555556,\"#d8576b\"],[0.6666666666666666,\"#ed7953\"],[0.7777777777777778,\"#fb9f3a\"],[0.8888888888888888,\"#fdca26\"],[1.0,\"#f0f921\"]],\"type\":\"heatmap\"}],\"histogram2dcontour\":[{\"colorbar\":{\"outlinewidth\":0,\"ticks\":\"\"},\"colorscale\":[[0.0,\"#0d0887\"],[0.1111111111111111,\"#46039f\"],[0.2222222222222222,\"#7201a8\"],[0.3333333333333333,\"#9c179e\"],[0.4444444444444444,\"#bd3786\"],[0.5555555555555556,\"#d8576b\"],[0.6666666666666666,\"#ed7953\"],[0.7777777777777778,\"#fb9f3a\"],[0.8888888888888888,\"#fdca26\"],[1.0,\"#f0f921\"]],\"type\":\"histogram2dcontour\"}],\"histogram2d\":[{\"colorbar\":{\"outlinewidth\":0,\"ticks\":\"\"},\"colorscale\":[[0.0,\"#0d0887\"],[0.1111111111111111,\"#46039f\"],[0.2222222222222222,\"#7201a8\"],[0.3333333333333333,\"#9c179e\"],[0.4444444444444444,\"#bd3786\"],[0.5555555555555556,\"#d8576b\"],[0.6666666666666666,\"#ed7953\"],[0.7777777777777778,\"#fb9f3a\"],[0.8888888888888888,\"#fdca26\"],[1.0,\"#f0f921\"]],\"type\":\"histogram2d\"}],\"histogram\":[{\"marker\":{\"pattern\":{\"fillmode\":\"overlay\",\"size\":10,\"solidity\":0.2}},\"type\":\"histogram\"}],\"mesh3d\":[{\"colorbar\":{\"outlinewidth\":0,\"ticks\":\"\"},\"type\":\"mesh3d\"}],\"parcoords\":[{\"line\":{\"colorbar\":{\"outlinewidth\":0,\"ticks\":\"\"}},\"type\":\"parcoords\"}],\"pie\":[{\"automargin\":true,\"type\":\"pie\"}],\"scatter3d\":[{\"line\":{\"colorbar\":{\"outlinewidth\":0,\"ticks\":\"\"}},\"marker\":{\"colorbar\":{\"outlinewidth\":0,\"ticks\":\"\"}},\"type\":\"scatter3d\"}],\"scattercarpet\":[{\"marker\":{\"colorbar\":{\"outlinewidth\":0,\"ticks\":\"\"}},\"type\":\"scattercarpet\"}],\"scattergeo\":[{\"marker\":{\"colorbar\":{\"outlinewidth\":0,\"ticks\":\"\"}},\"type\":\"scattergeo\"}],\"scattergl\":[{\"marker\":{\"colorbar\":{\"outlinewidth\":0,\"ticks\":\"\"}},\"type\":\"scattergl\"}],\"scattermapbox\":[{\"marker\":{\"colorbar\":{\"outlinewidth\":0,\"ticks\":\"\"}},\"type\":\"scattermapbox\"}],\"scatterpolargl\":[{\"marker\":{\"colorbar\":{\"outlinewidth\":0,\"ticks\":\"\"}},\"type\":\"scatterpolargl\"}],\"scatterpolar\":[{\"marker\":{\"colorbar\":{\"outlinewidth\":0,\"ticks\":\"\"}},\"type\":\"scatterpolar\"}],\"scatter\":[{\"fillpattern\":{\"fillmode\":\"overlay\",\"size\":10,\"solidity\":0.2},\"type\":\"scatter\"}],\"scatterternary\":[{\"marker\":{\"colorbar\":{\"outlinewidth\":0,\"ticks\":\"\"}},\"type\":\"scatterternary\"}],\"surface\":[{\"colorbar\":{\"outlinewidth\":0,\"ticks\":\"\"},\"colorscale\":[[0.0,\"#0d0887\"],[0.1111111111111111,\"#46039f\"],[0.2222222222222222,\"#7201a8\"],[0.3333333333333333,\"#9c179e\"],[0.4444444444444444,\"#bd3786\"],[0.5555555555555556,\"#d8576b\"],[0.6666666666666666,\"#ed7953\"],[0.7777777777777778,\"#fb9f3a\"],[0.8888888888888888,\"#fdca26\"],[1.0,\"#f0f921\"]],\"type\":\"surface\"}],\"table\":[{\"cells\":{\"fill\":{\"color\":\"#EBF0F8\"},\"line\":{\"color\":\"white\"}},\"header\":{\"fill\":{\"color\":\"#C8D4E3\"},\"line\":{\"color\":\"white\"}},\"type\":\"table\"}]},\"layout\":{\"annotationdefaults\":{\"arrowcolor\":\"#2a3f5f\",\"arrowhead\":0,\"arrowwidth\":1},\"autotypenumbers\":\"strict\",\"coloraxis\":{\"colorbar\":{\"outlinewidth\":0,\"ticks\":\"\"}},\"colorscale\":{\"diverging\":[[0,\"#8e0152\"],[0.1,\"#c51b7d\"],[0.2,\"#de77ae\"],[0.3,\"#f1b6da\"],[0.4,\"#fde0ef\"],[0.5,\"#f7f7f7\"],[0.6,\"#e6f5d0\"],[0.7,\"#b8e186\"],[0.8,\"#7fbc41\"],[0.9,\"#4d9221\"],[1,\"#276419\"]],\"sequential\":[[0.0,\"#0d0887\"],[0.1111111111111111,\"#46039f\"],[0.2222222222222222,\"#7201a8\"],[0.3333333333333333,\"#9c179e\"],[0.4444444444444444,\"#bd3786\"],[0.5555555555555556,\"#d8576b\"],[0.6666666666666666,\"#ed7953\"],[0.7777777777777778,\"#fb9f3a\"],[0.8888888888888888,\"#fdca26\"],[1.0,\"#f0f921\"]],\"sequentialminus\":[[0.0,\"#0d0887\"],[0.1111111111111111,\"#46039f\"],[0.2222222222222222,\"#7201a8\"],[0.3333333333333333,\"#9c179e\"],[0.4444444444444444,\"#bd3786\"],[0.5555555555555556,\"#d8576b\"],[0.6666666666666666,\"#ed7953\"],[0.7777777777777778,\"#fb9f3a\"],[0.8888888888888888,\"#fdca26\"],[1.0,\"#f0f921\"]]},\"colorway\":[\"#636efa\",\"#EF553B\",\"#00cc96\",\"#ab63fa\",\"#FFA15A\",\"#19d3f3\",\"#FF6692\",\"#B6E880\",\"#FF97FF\",\"#FECB52\"],\"font\":{\"color\":\"#2a3f5f\"},\"geo\":{\"bgcolor\":\"white\",\"lakecolor\":\"white\",\"landcolor\":\"white\",\"showlakes\":true,\"showland\":true,\"subunitcolor\":\"#C8D4E3\"},\"hoverlabel\":{\"align\":\"left\"},\"hovermode\":\"closest\",\"mapbox\":{\"style\":\"light\"},\"paper_bgcolor\":\"white\",\"plot_bgcolor\":\"white\",\"polar\":{\"angularaxis\":{\"gridcolor\":\"#EBF0F8\",\"linecolor\":\"#EBF0F8\",\"ticks\":\"\"},\"bgcolor\":\"white\",\"radialaxis\":{\"gridcolor\":\"#EBF0F8\",\"linecolor\":\"#EBF0F8\",\"ticks\":\"\"}},\"scene\":{\"xaxis\":{\"backgroundcolor\":\"white\",\"gridcolor\":\"#DFE8F3\",\"gridwidth\":2,\"linecolor\":\"#EBF0F8\",\"showbackground\":true,\"ticks\":\"\",\"zerolinecolor\":\"#EBF0F8\"},\"yaxis\":{\"backgroundcolor\":\"white\",\"gridcolor\":\"#DFE8F3\",\"gridwidth\":2,\"linecolor\":\"#EBF0F8\",\"showbackground\":true,\"ticks\":\"\",\"zerolinecolor\":\"#EBF0F8\"},\"zaxis\":{\"backgroundcolor\":\"white\",\"gridcolor\":\"#DFE8F3\",\"gridwidth\":2,\"linecolor\":\"#EBF0F8\",\"showbackground\":true,\"ticks\":\"\",\"zerolinecolor\":\"#EBF0F8\"}},\"shapedefaults\":{\"line\":{\"color\":\"#2a3f5f\"}},\"ternary\":{\"aaxis\":{\"gridcolor\":\"#DFE8F3\",\"linecolor\":\"#A2B1C6\",\"ticks\":\"\"},\"baxis\":{\"gridcolor\":\"#DFE8F3\",\"linecolor\":\"#A2B1C6\",\"ticks\":\"\"},\"bgcolor\":\"white\",\"caxis\":{\"gridcolor\":\"#DFE8F3\",\"linecolor\":\"#A2B1C6\",\"ticks\":\"\"}},\"title\":{\"x\":0.05},\"xaxis\":{\"automargin\":true,\"gridcolor\":\"#EBF0F8\",\"linecolor\":\"#EBF0F8\",\"ticks\":\"\",\"title\":{\"standoff\":15},\"zerolinecolor\":\"#EBF0F8\",\"zerolinewidth\":2},\"yaxis\":{\"automargin\":true,\"gridcolor\":\"#EBF0F8\",\"linecolor\":\"#EBF0F8\",\"ticks\":\"\",\"title\":{\"standoff\":15},\"zerolinecolor\":\"#EBF0F8\",\"zerolinewidth\":2}}},\"xaxis\":{\"anchor\":\"y\",\"domain\":[0.0,1.0],\"title\":{\"text\":\"time\"}},\"yaxis\":{\"anchor\":\"x\",\"domain\":[0.0,1.0],\"title\":{\"text\":\"partos_e_nascimentos_val\"}},\"legend\":{\"tracegroupgap\":0},\"title\":{\"text\":\"N\\u00fameros de partos entre 2009 e 2024\"}},                        {\"responsive\": true}                    ).then(function(){\n",
       "                            \n",
       "var gd = document.getElementById('b4c0e5e7-203c-4faf-8ef4-b80c14639499');\n",
       "var x = new MutationObserver(function (mutations, observer) {{\n",
       "        var display = window.getComputedStyle(gd).display;\n",
       "        if (!display || display === 'none') {{\n",
       "            console.log([gd, 'removed!']);\n",
       "            Plotly.purge(gd);\n",
       "            observer.disconnect();\n",
       "        }}\n",
       "}});\n",
       "\n",
       "// Listen for the removal of the full notebook cells\n",
       "var notebookContainer = gd.closest('#notebook-container');\n",
       "if (notebookContainer) {{\n",
       "    x.observe(notebookContainer, {childList: true});\n",
       "}}\n",
       "\n",
       "// Listen for the clearing of the current output cell\n",
       "var outputEl = gd.closest('.output');\n",
       "if (outputEl) {{\n",
       "    x.observe(outputEl, {childList: true});\n",
       "}}\n",
       "\n",
       "                        })                };                });            </script>        </div>"
      ]
     },
     "metadata": {},
     "output_type": "display_data"
    }
   ],
   "execution_count": 183
  }
 ],
 "metadata": {
  "kernelspec": {
   "display_name": "Python 3",
   "language": "python",
   "name": "python3"
  },
  "language_info": {
   "codemirror_mode": {
    "name": "ipython",
    "version": 2
   },
   "file_extension": ".py",
   "mimetype": "text/x-python",
   "name": "python",
   "nbconvert_exporter": "python",
   "pygments_lexer": "ipython2",
   "version": "2.7.6"
  }
 },
 "nbformat": 4,
 "nbformat_minor": 5
}
