{
 "cells": [
  {
   "metadata": {
    "ExecuteTime": {
     "end_time": "2024-06-13T22:40:49.827022Z",
     "start_time": "2024-06-13T22:40:49.797310Z"
    }
   },
   "cell_type": "code",
   "source": [
    "from sklearn.cluster import KMeans\n",
    "from sklearn.preprocessing import MinMaxScaler\n",
    "import pandas as pd\n",
    "from sklearn.preprocessing import MinMaxScaler\n",
    "from matplotlib import pyplot as plt\n",
    "from datetime import datetime\n",
    "%matplotlib inline"
   ],
   "id": "969e0233f78f724d",
   "outputs": [],
   "execution_count": 261
  },
  {
   "metadata": {
    "ExecuteTime": {
     "end_time": "2024-06-13T22:40:52.685365Z",
     "start_time": "2024-06-13T22:40:50.967045Z"
    }
   },
   "cell_type": "code",
   "source": "df = pd.read_csv(r'dataset/table_AIH_2009_2024_CLEAN.csv', sep=';')",
   "id": "8026e304eaeb92ba",
   "outputs": [],
   "execution_count": 262
  },
  {
   "metadata": {
    "ExecuteTime": {
     "end_time": "2024-06-13T22:40:52.706818Z",
     "start_time": "2024-06-13T22:40:52.686974Z"
    }
   },
   "cell_type": "code",
   "source": "df.head()",
   "id": "12e0be6af414eda9",
   "outputs": [
    {
     "data": {
      "text/plain": [
       "    ano  mes              municipio  regiao_codigo regiao_nome  uf_codigo  uf  \\\n",
       "0  2009    1  Alta Floresta D'Oeste              1       Norte         11  RO   \n",
       "1  2009    1              Ariquemes              1       Norte         11  RO   \n",
       "2  2009    1                 Cabixi              1       Norte         11  RO   \n",
       "3  2009    1                 Cacoal              1       Norte         11  RO   \n",
       "4  2009    1             Cerejeiras              1       Norte         11  RO   \n",
       "\n",
       "    uf_nome capital  numero_habitantes                       populacao_faixa  \\\n",
       "0  Rondônia     Não              21495   03 - De  20.001 a 50.000 habitantes   \n",
       "1  Rondônia     Não              96833  04 - De  50.001 a 100.000 habitantes   \n",
       "2  Rondônia     Não               5363            01 - Até 10.000 habitantes   \n",
       "3  Rondônia     Não              86895  04 - De  50.001 a 100.000 habitantes   \n",
       "4  Rondônia     Não              15890   02 - De  10.001 a 20.000 habitantes   \n",
       "\n",
       "   diagnostico_ultrasonografia_qtd  partos_e_nascimentos_qtd  \\\n",
       "0                              2.0                       7.0   \n",
       "1                              7.0                      77.0   \n",
       "2                              NaN                      10.0   \n",
       "3                              NaN                      67.0   \n",
       "4                              NaN                      13.0   \n",
       "\n",
       "   cirurgias_obstetricas_qtd  diagnostico_ultrasonografia_val  \\\n",
       "0                        2.0                             48.4   \n",
       "1                       63.0                            196.9   \n",
       "2                        NaN                              NaN   \n",
       "3                       19.0                              NaN   \n",
       "4                        7.0                              NaN   \n",
       "\n",
       "   partos_e_nascimentos_val  cirurgias_obstetricas_val  longitude   latitude  \n",
       "0                   3103.80                    1091.46 -61.999824 -11.935540  \n",
       "1                  34141.80                   27791.01 -63.033269  -9.908463  \n",
       "2                   4434.00                        NaN -60.544314 -13.499763  \n",
       "3                  34338.92                   10002.76 -61.442944 -11.433865  \n",
       "4                   5606.33                    3003.92 -60.818426 -13.195033  "
      ],
      "text/html": [
       "<div>\n",
       "<style scoped>\n",
       "    .dataframe tbody tr th:only-of-type {\n",
       "        vertical-align: middle;\n",
       "    }\n",
       "\n",
       "    .dataframe tbody tr th {\n",
       "        vertical-align: top;\n",
       "    }\n",
       "\n",
       "    .dataframe thead th {\n",
       "        text-align: right;\n",
       "    }\n",
       "</style>\n",
       "<table border=\"1\" class=\"dataframe\">\n",
       "  <thead>\n",
       "    <tr style=\"text-align: right;\">\n",
       "      <th></th>\n",
       "      <th>ano</th>\n",
       "      <th>mes</th>\n",
       "      <th>municipio</th>\n",
       "      <th>regiao_codigo</th>\n",
       "      <th>regiao_nome</th>\n",
       "      <th>uf_codigo</th>\n",
       "      <th>uf</th>\n",
       "      <th>uf_nome</th>\n",
       "      <th>capital</th>\n",
       "      <th>numero_habitantes</th>\n",
       "      <th>populacao_faixa</th>\n",
       "      <th>diagnostico_ultrasonografia_qtd</th>\n",
       "      <th>partos_e_nascimentos_qtd</th>\n",
       "      <th>cirurgias_obstetricas_qtd</th>\n",
       "      <th>diagnostico_ultrasonografia_val</th>\n",
       "      <th>partos_e_nascimentos_val</th>\n",
       "      <th>cirurgias_obstetricas_val</th>\n",
       "      <th>longitude</th>\n",
       "      <th>latitude</th>\n",
       "    </tr>\n",
       "  </thead>\n",
       "  <tbody>\n",
       "    <tr>\n",
       "      <th>0</th>\n",
       "      <td>2009</td>\n",
       "      <td>1</td>\n",
       "      <td>Alta Floresta D'Oeste</td>\n",
       "      <td>1</td>\n",
       "      <td>Norte</td>\n",
       "      <td>11</td>\n",
       "      <td>RO</td>\n",
       "      <td>Rondônia</td>\n",
       "      <td>Não</td>\n",
       "      <td>21495</td>\n",
       "      <td>03 - De  20.001 a 50.000 habitantes</td>\n",
       "      <td>2.0</td>\n",
       "      <td>7.0</td>\n",
       "      <td>2.0</td>\n",
       "      <td>48.4</td>\n",
       "      <td>3103.80</td>\n",
       "      <td>1091.46</td>\n",
       "      <td>-61.999824</td>\n",
       "      <td>-11.935540</td>\n",
       "    </tr>\n",
       "    <tr>\n",
       "      <th>1</th>\n",
       "      <td>2009</td>\n",
       "      <td>1</td>\n",
       "      <td>Ariquemes</td>\n",
       "      <td>1</td>\n",
       "      <td>Norte</td>\n",
       "      <td>11</td>\n",
       "      <td>RO</td>\n",
       "      <td>Rondônia</td>\n",
       "      <td>Não</td>\n",
       "      <td>96833</td>\n",
       "      <td>04 - De  50.001 a 100.000 habitantes</td>\n",
       "      <td>7.0</td>\n",
       "      <td>77.0</td>\n",
       "      <td>63.0</td>\n",
       "      <td>196.9</td>\n",
       "      <td>34141.80</td>\n",
       "      <td>27791.01</td>\n",
       "      <td>-63.033269</td>\n",
       "      <td>-9.908463</td>\n",
       "    </tr>\n",
       "    <tr>\n",
       "      <th>2</th>\n",
       "      <td>2009</td>\n",
       "      <td>1</td>\n",
       "      <td>Cabixi</td>\n",
       "      <td>1</td>\n",
       "      <td>Norte</td>\n",
       "      <td>11</td>\n",
       "      <td>RO</td>\n",
       "      <td>Rondônia</td>\n",
       "      <td>Não</td>\n",
       "      <td>5363</td>\n",
       "      <td>01 - Até 10.000 habitantes</td>\n",
       "      <td>NaN</td>\n",
       "      <td>10.0</td>\n",
       "      <td>NaN</td>\n",
       "      <td>NaN</td>\n",
       "      <td>4434.00</td>\n",
       "      <td>NaN</td>\n",
       "      <td>-60.544314</td>\n",
       "      <td>-13.499763</td>\n",
       "    </tr>\n",
       "    <tr>\n",
       "      <th>3</th>\n",
       "      <td>2009</td>\n",
       "      <td>1</td>\n",
       "      <td>Cacoal</td>\n",
       "      <td>1</td>\n",
       "      <td>Norte</td>\n",
       "      <td>11</td>\n",
       "      <td>RO</td>\n",
       "      <td>Rondônia</td>\n",
       "      <td>Não</td>\n",
       "      <td>86895</td>\n",
       "      <td>04 - De  50.001 a 100.000 habitantes</td>\n",
       "      <td>NaN</td>\n",
       "      <td>67.0</td>\n",
       "      <td>19.0</td>\n",
       "      <td>NaN</td>\n",
       "      <td>34338.92</td>\n",
       "      <td>10002.76</td>\n",
       "      <td>-61.442944</td>\n",
       "      <td>-11.433865</td>\n",
       "    </tr>\n",
       "    <tr>\n",
       "      <th>4</th>\n",
       "      <td>2009</td>\n",
       "      <td>1</td>\n",
       "      <td>Cerejeiras</td>\n",
       "      <td>1</td>\n",
       "      <td>Norte</td>\n",
       "      <td>11</td>\n",
       "      <td>RO</td>\n",
       "      <td>Rondônia</td>\n",
       "      <td>Não</td>\n",
       "      <td>15890</td>\n",
       "      <td>02 - De  10.001 a 20.000 habitantes</td>\n",
       "      <td>NaN</td>\n",
       "      <td>13.0</td>\n",
       "      <td>7.0</td>\n",
       "      <td>NaN</td>\n",
       "      <td>5606.33</td>\n",
       "      <td>3003.92</td>\n",
       "      <td>-60.818426</td>\n",
       "      <td>-13.195033</td>\n",
       "    </tr>\n",
       "  </tbody>\n",
       "</table>\n",
       "</div>"
      ]
     },
     "execution_count": 263,
     "metadata": {},
     "output_type": "execute_result"
    }
   ],
   "execution_count": 263
  },
  {
   "metadata": {
    "ExecuteTime": {
     "end_time": "2024-06-13T22:40:57.294068Z",
     "start_time": "2024-06-13T22:40:55.768747Z"
    }
   },
   "cell_type": "code",
   "source": "plt.scatter(df['numero_habitantes'], df['partos_e_nascimentos_qtd'])",
   "id": "53ce4b99c80601a1",
   "outputs": [
    {
     "data": {
      "text/plain": [
       "<matplotlib.collections.PathCollection at 0x1dde787f050>"
      ]
     },
     "execution_count": 264,
     "metadata": {},
     "output_type": "execute_result"
    },
    {
     "data": {
      "text/plain": [
       "<Figure size 640x480 with 1 Axes>"
      ],
      "image/png": "[encoded data removed]"
     },
     "metadata": {},
     "output_type": "display_data"
    }
   ],
   "execution_count": 264
  },
  {
   "metadata": {
    "ExecuteTime": {
     "end_time": "2024-06-13T22:41:07.325972Z",
     "start_time": "2024-06-13T22:41:07.306959Z"
    }
   },
   "cell_type": "code",
   "source": "df['partos_populacao'] = (df['numero_habitantes'] / 100000) * df['partos_e_nascimentos_qtd']",
   "id": "2a6110f10b2d99a8",
   "outputs": [],
   "execution_count": 265
  },
  {
   "metadata": {
    "ExecuteTime": {
     "end_time": "2024-06-13T22:41:09.063876Z",
     "start_time": "2024-06-13T22:41:09.037181Z"
    }
   },
   "cell_type": "code",
   "source": "df[['mes','ano','partos_e_nascimentos_qtd','numero_habitantes','partos_populacao']]",
   "id": "857b400e14ec0df5",
   "outputs": [
    {
     "data": {
      "text/plain": [
       "         mes   ano  partos_e_nascimentos_qtd  numero_habitantes  \\\n",
       "0          1  2009                       7.0              21495   \n",
       "1          1  2009                      77.0              96833   \n",
       "2          1  2009                      10.0               5363   \n",
       "3          1  2009                      67.0              86895   \n",
       "4          1  2009                      13.0              15890   \n",
       "...      ...   ...                       ...                ...   \n",
       "1013735    2  2024                       NaN              14956   \n",
       "1013736    2  2024                       NaN               8768   \n",
       "1013737    2  2024                       NaN               4215   \n",
       "1013738    2  2024                       NaN               5815   \n",
       "1013739    2  2024                    1296.0            2817068   \n",
       "\n",
       "         partos_populacao  \n",
       "0                 1.50465  \n",
       "1                74.56141  \n",
       "2                 0.53630  \n",
       "3                58.21965  \n",
       "4                 2.06570  \n",
       "...                   ...  \n",
       "1013735               NaN  \n",
       "1013736               NaN  \n",
       "1013737               NaN  \n",
       "1013738               NaN  \n",
       "1013739       36509.20128  \n",
       "\n",
       "[1013740 rows x 5 columns]"
      ],
      "text/html": [
       "<div>\n",
       "<style scoped>\n",
       "    .dataframe tbody tr th:only-of-type {\n",
       "        vertical-align: middle;\n",
       "    }\n",
       "\n",
       "    .dataframe tbody tr th {\n",
       "        vertical-align: top;\n",
       "    }\n",
       "\n",
       "    .dataframe thead th {\n",
       "        text-align: right;\n",
       "    }\n",
       "</style>\n",
       "<table border=\"1\" class=\"dataframe\">\n",
       "  <thead>\n",
       "    <tr style=\"text-align: right;\">\n",
       "      <th></th>\n",
       "      <th>mes</th>\n",
       "      <th>ano</th>\n",
       "      <th>partos_e_nascimentos_qtd</th>\n",
       "      <th>numero_habitantes</th>\n",
       "      <th>partos_populacao</th>\n",
       "    </tr>\n",
       "  </thead>\n",
       "  <tbody>\n",
       "    <tr>\n",
       "      <th>0</th>\n",
       "      <td>1</td>\n",
       "      <td>2009</td>\n",
       "      <td>7.0</td>\n",
       "      <td>21495</td>\n",
       "      <td>1.50465</td>\n",
       "    </tr>\n",
       "    <tr>\n",
       "      <th>1</th>\n",
       "      <td>1</td>\n",
       "      <td>2009</td>\n",
       "      <td>77.0</td>\n",
       "      <td>96833</td>\n",
       "      <td>74.56141</td>\n",
       "    </tr>\n",
       "    <tr>\n",
       "      <th>2</th>\n",
       "      <td>1</td>\n",
       "      <td>2009</td>\n",
       "      <td>10.0</td>\n",
       "      <td>5363</td>\n",
       "      <td>0.53630</td>\n",
       "    </tr>\n",
       "    <tr>\n",
       "      <th>3</th>\n",
       "      <td>1</td>\n",
       "      <td>2009</td>\n",
       "      <td>67.0</td>\n",
       "      <td>86895</td>\n",
       "      <td>58.21965</td>\n",
       "    </tr>\n",
       "    <tr>\n",
       "      <th>4</th>\n",
       "      <td>1</td>\n",
       "      <td>2009</td>\n",
       "      <td>13.0</td>\n",
       "      <td>15890</td>\n",
       "      <td>2.06570</td>\n",
       "    </tr>\n",
       "    <tr>\n",
       "      <th>...</th>\n",
       "      <td>...</td>\n",
       "      <td>...</td>\n",
       "      <td>...</td>\n",
       "      <td>...</td>\n",
       "      <td>...</td>\n",
       "    </tr>\n",
       "    <tr>\n",
       "      <th>1013735</th>\n",
       "      <td>2</td>\n",
       "      <td>2024</td>\n",
       "      <td>NaN</td>\n",
       "      <td>14956</td>\n",
       "      <td>NaN</td>\n",
       "    </tr>\n",
       "    <tr>\n",
       "      <th>1013736</th>\n",
       "      <td>2</td>\n",
       "      <td>2024</td>\n",
       "      <td>NaN</td>\n",
       "      <td>8768</td>\n",
       "      <td>NaN</td>\n",
       "    </tr>\n",
       "    <tr>\n",
       "      <th>1013737</th>\n",
       "      <td>2</td>\n",
       "      <td>2024</td>\n",
       "      <td>NaN</td>\n",
       "      <td>4215</td>\n",
       "      <td>NaN</td>\n",
       "    </tr>\n",
       "    <tr>\n",
       "      <th>1013738</th>\n",
       "      <td>2</td>\n",
       "      <td>2024</td>\n",
       "      <td>NaN</td>\n",
       "      <td>5815</td>\n",
       "      <td>NaN</td>\n",
       "    </tr>\n",
       "    <tr>\n",
       "      <th>1013739</th>\n",
       "      <td>2</td>\n",
       "      <td>2024</td>\n",
       "      <td>1296.0</td>\n",
       "      <td>2817068</td>\n",
       "      <td>36509.20128</td>\n",
       "    </tr>\n",
       "  </tbody>\n",
       "</table>\n",
       "<p>1013740 rows × 5 columns</p>\n",
       "</div>"
      ]
     },
     "execution_count": 266,
     "metadata": {},
     "output_type": "execute_result"
    }
   ],
   "execution_count": 266
  },
  {
   "metadata": {
    "ExecuteTime": {
     "end_time": "2024-06-13T22:41:12.019868Z",
     "start_time": "2024-06-13T22:41:10.327229Z"
    }
   },
   "cell_type": "code",
   "source": "plt.scatter(df['partos_populacao'], df['partos_e_nascimentos_qtd'])",
   "id": "b999b2baedca930a",
   "outputs": [
    {
     "data": {
      "text/plain": [
       "<matplotlib.collections.PathCollection at 0x1ddd8052950>"
      ]
     },
     "execution_count": 267,
     "metadata": {},
     "output_type": "execute_result"
    },
    {
     "data": {
      "text/plain": [
       "<Figure size 640x480 with 1 Axes>"
      ],
      "image/png": "[encoded data removed]"
     },
     "metadata": {},
     "output_type": "display_data"
    }
   ],
   "execution_count": 267
  },
  {
   "metadata": {
    "ExecuteTime": {
     "end_time": "2024-06-13T22:41:12.027481Z",
     "start_time": "2024-06-13T22:41:12.020949Z"
    }
   },
   "cell_type": "code",
   "source": [
    "import multiprocessing\n",
    "\n",
    "multiprocessing.cpu_count()"
   ],
   "id": "8654ae5aa0d2ecdc",
   "outputs": [
    {
     "data": {
      "text/plain": [
       "12"
      ]
     },
     "execution_count": 268,
     "metadata": {},
     "output_type": "execute_result"
    }
   ],
   "execution_count": 268
  },
  {
   "metadata": {
    "ExecuteTime": {
     "end_time": "2024-06-13T22:41:31.592455Z",
     "start_time": "2024-06-13T22:41:31.542982Z"
    }
   },
   "cell_type": "code",
   "source": [
    "km = KMeans(n_clusters=3)\n",
    "y_predicted = km.fit_predict(df[['partos_populacao','partos_e_nascimentos_qtd']].dropna())"
   ],
   "id": "3dd1792be61f2651",
   "outputs": [],
   "execution_count": 273
  },
  {
   "metadata": {
    "ExecuteTime": {
     "end_time": "2024-06-13T22:41:32.646604Z",
     "start_time": "2024-06-13T22:41:32.637070Z"
    }
   },
   "cell_type": "code",
   "source": "y_predicted",
   "id": "4da7ea59d0c729e2",
   "outputs": [
    {
     "data": {
      "text/plain": [
       "array([0, 0, 0, ..., 0, 0, 0])"
      ]
     },
     "execution_count": 274,
     "metadata": {},
     "output_type": "execute_result"
    }
   ],
   "execution_count": 274
  },
  {
   "metadata": {
    "ExecuteTime": {
     "end_time": "2024-06-13T22:41:28.521096Z",
     "start_time": "2024-06-13T22:41:28.358897Z"
    }
   },
   "cell_type": "code",
   "source": [
    "df.dropna(inplace=True)\n",
    "df.isnull().sum()"
   ],
   "id": "11cdd66a7c9edca1",
   "outputs": [
    {
     "data": {
      "text/plain": [
       "ano                                0\n",
       "mes                                0\n",
       "municipio                          0\n",
       "regiao_codigo                      0\n",
       "regiao_nome                        0\n",
       "uf_codigo                          0\n",
       "uf                                 0\n",
       "uf_nome                            0\n",
       "capital                            0\n",
       "numero_habitantes                  0\n",
       "populacao_faixa                    0\n",
       "diagnostico_ultrasonografia_qtd    0\n",
       "partos_e_nascimentos_qtd           0\n",
       "cirurgias_obstetricas_qtd          0\n",
       "diagnostico_ultrasonografia_val    0\n",
       "partos_e_nascimentos_val           0\n",
       "cirurgias_obstetricas_val          0\n",
       "longitude                          0\n",
       "latitude                           0\n",
       "partos_populacao                   0\n",
       "dtype: int64"
      ]
     },
     "execution_count": 272,
     "metadata": {},
     "output_type": "execute_result"
    }
   ],
   "execution_count": 272
  },
  {
   "metadata": {
    "ExecuteTime": {
     "end_time": "2024-06-13T22:41:36.402799Z",
     "start_time": "2024-06-13T22:41:36.398321Z"
    }
   },
   "cell_type": "code",
   "source": "df['cluster'] = y_predicted",
   "id": "e776f517e58992ec",
   "outputs": [],
   "execution_count": 275
  },
  {
   "metadata": {
    "ExecuteTime": {
     "end_time": "2024-06-13T22:41:38.448099Z",
     "start_time": "2024-06-13T22:41:38.436900Z"
    }
   },
   "cell_type": "code",
   "source": "df['cluster'].value_counts()",
   "id": "ecfba1264e93b60f",
   "outputs": [
    {
     "data": {
      "text/plain": [
       "cluster\n",
       "0    162647\n",
       "2       182\n",
       "1       182\n",
       "Name: count, dtype: int64"
      ]
     },
     "execution_count": 276,
     "metadata": {},
     "output_type": "execute_result"
    }
   ],
   "execution_count": 276
  },
  {
   "metadata": {
    "ExecuteTime": {
     "end_time": "2024-06-13T22:41:40.156174Z",
     "start_time": "2024-06-13T22:41:40.129122Z"
    }
   },
   "cell_type": "code",
   "source": "agrupado = df.groupby(['regiao_nome', 'cluster']).agg({'cluster': 'count'}).rename(columns={'cluster': 'tot'}).reset_index()",
   "id": "3aa0001b33c83c15",
   "outputs": [],
   "execution_count": 277
  },
  {
   "metadata": {
    "ExecuteTime": {
     "end_time": "2024-06-13T22:41:41.484618Z",
     "start_time": "2024-06-13T22:41:41.477116Z"
    }
   },
   "cell_type": "code",
   "source": "agrupado",
   "id": "ba64e6294aaec39c",
   "outputs": [
    {
     "data": {
      "text/plain": [
       "    regiao_nome  cluster    tot\n",
       "0  Centro-Oeste        0  13976\n",
       "1      Nordeste        0  30133\n",
       "2         Norte        0  17240\n",
       "3       Sudeste        0  67366\n",
       "4       Sudeste        1    182\n",
       "5       Sudeste        2    182\n",
       "6           Sul        0  33932"
      ],
      "text/html": [
       "<div>\n",
       "<style scoped>\n",
       "    .dataframe tbody tr th:only-of-type {\n",
       "        vertical-align: middle;\n",
       "    }\n",
       "\n",
       "    .dataframe tbody tr th {\n",
       "        vertical-align: top;\n",
       "    }\n",
       "\n",
       "    .dataframe thead th {\n",
       "        text-align: right;\n",
       "    }\n",
       "</style>\n",
       "<table border=\"1\" class=\"dataframe\">\n",
       "  <thead>\n",
       "    <tr style=\"text-align: right;\">\n",
       "      <th></th>\n",
       "      <th>regiao_nome</th>\n",
       "      <th>cluster</th>\n",
       "      <th>tot</th>\n",
       "    </tr>\n",
       "  </thead>\n",
       "  <tbody>\n",
       "    <tr>\n",
       "      <th>0</th>\n",
       "      <td>Centro-Oeste</td>\n",
       "      <td>0</td>\n",
       "      <td>13976</td>\n",
       "    </tr>\n",
       "    <tr>\n",
       "      <th>1</th>\n",
       "      <td>Nordeste</td>\n",
       "      <td>0</td>\n",
       "      <td>30133</td>\n",
       "    </tr>\n",
       "    <tr>\n",
       "      <th>2</th>\n",
       "      <td>Norte</td>\n",
       "      <td>0</td>\n",
       "      <td>17240</td>\n",
       "    </tr>\n",
       "    <tr>\n",
       "      <th>3</th>\n",
       "      <td>Sudeste</td>\n",
       "      <td>0</td>\n",
       "      <td>67366</td>\n",
       "    </tr>\n",
       "    <tr>\n",
       "      <th>4</th>\n",
       "      <td>Sudeste</td>\n",
       "      <td>1</td>\n",
       "      <td>182</td>\n",
       "    </tr>\n",
       "    <tr>\n",
       "      <th>5</th>\n",
       "      <td>Sudeste</td>\n",
       "      <td>2</td>\n",
       "      <td>182</td>\n",
       "    </tr>\n",
       "    <tr>\n",
       "      <th>6</th>\n",
       "      <td>Sul</td>\n",
       "      <td>0</td>\n",
       "      <td>33932</td>\n",
       "    </tr>\n",
       "  </tbody>\n",
       "</table>\n",
       "</div>"
      ]
     },
     "execution_count": 278,
     "metadata": {},
     "output_type": "execute_result"
    }
   ],
   "execution_count": 278
  },
  {
   "metadata": {
    "ExecuteTime": {
     "end_time": "2024-06-13T22:41:53.456175Z",
     "start_time": "2024-06-13T22:41:53.442095Z"
    }
   },
   "cell_type": "code",
   "source": "df.groupby(['regiao_nome']).agg({'partos_e_nascimentos_qtd': 'sum'})",
   "id": "b08caead12c1f806",
   "outputs": [
    {
     "data": {
      "text/plain": [
       "              partos_e_nascimentos_qtd\n",
       "regiao_nome                           \n",
       "Centro-Oeste                  826261.0\n",
       "Nordeste                     3880026.0\n",
       "Norte                        1614308.0\n",
       "Sudeste                      5375375.0\n",
       "Sul                          1781026.0"
      ],
      "text/html": [
       "<div>\n",
       "<style scoped>\n",
       "    .dataframe tbody tr th:only-of-type {\n",
       "        vertical-align: middle;\n",
       "    }\n",
       "\n",
       "    .dataframe tbody tr th {\n",
       "        vertical-align: top;\n",
       "    }\n",
       "\n",
       "    .dataframe thead th {\n",
       "        text-align: right;\n",
       "    }\n",
       "</style>\n",
       "<table border=\"1\" class=\"dataframe\">\n",
       "  <thead>\n",
       "    <tr style=\"text-align: right;\">\n",
       "      <th></th>\n",
       "      <th>partos_e_nascimentos_qtd</th>\n",
       "    </tr>\n",
       "    <tr>\n",
       "      <th>regiao_nome</th>\n",
       "      <th></th>\n",
       "    </tr>\n",
       "  </thead>\n",
       "  <tbody>\n",
       "    <tr>\n",
       "      <th>Centro-Oeste</th>\n",
       "      <td>826261.0</td>\n",
       "    </tr>\n",
       "    <tr>\n",
       "      <th>Nordeste</th>\n",
       "      <td>3880026.0</td>\n",
       "    </tr>\n",
       "    <tr>\n",
       "      <th>Norte</th>\n",
       "      <td>1614308.0</td>\n",
       "    </tr>\n",
       "    <tr>\n",
       "      <th>Sudeste</th>\n",
       "      <td>5375375.0</td>\n",
       "    </tr>\n",
       "    <tr>\n",
       "      <th>Sul</th>\n",
       "      <td>1781026.0</td>\n",
       "    </tr>\n",
       "  </tbody>\n",
       "</table>\n",
       "</div>"
      ]
     },
     "execution_count": 279,
     "metadata": {},
     "output_type": "execute_result"
    }
   ],
   "execution_count": 279
  },
  {
   "metadata": {
    "ExecuteTime": {
     "end_time": "2024-06-13T22:41:55.666358Z",
     "start_time": "2024-06-13T22:41:55.636971Z"
    }
   },
   "cell_type": "code",
   "source": [
    "df_cluster_0 = df[df.cluster==0]\n",
    "df_cluster_1 = df[df.cluster==1]\n",
    "df_cluster_2 = df[df.cluster==2]\n",
    "#df_cluster_3 = df[df.cluster==3]"
   ],
   "id": "4d043736a0baa1c4",
   "outputs": [],
   "execution_count": 280
  },
  {
   "metadata": {
    "ExecuteTime": {
     "end_time": "2024-06-13T22:41:57.286048Z",
     "start_time": "2024-06-13T22:41:57.206993Z"
    }
   },
   "cell_type": "code",
   "source": "df_cluster_0",
   "id": "e913aedb9603c22a",
   "outputs": [
    {
     "data": {
      "text/plain": [
       "          ano  mes                 municipio  regiao_codigo   regiao_nome  \\\n",
       "0        2009    1     Alta Floresta D'Oeste              1         Norte   \n",
       "1        2009    1                 Ariquemes              1         Norte   \n",
       "11       2009    1                 Ji-Paraná              1         Norte   \n",
       "13       2009    1  Nova Brasilândia D'Oeste              1         Norte   \n",
       "14       2009    1       Ouro Preto do Oeste              1         Norte   \n",
       "...       ...  ...                       ...            ...           ...   \n",
       "1013690  2024    2                 Rio Verde              5  Centro-Oeste   \n",
       "1013696  2024    2     Santa Helena de Goiás              5  Centro-Oeste   \n",
       "1013715  2024    2                 São Simão              5  Centro-Oeste   \n",
       "1013730  2024    2                    Uruaçu              5  Centro-Oeste   \n",
       "1013739  2024    2                  Brasília              5  Centro-Oeste   \n",
       "\n",
       "         uf_codigo  uf           uf_nome capital  numero_habitantes  ...  \\\n",
       "0               11  RO          Rondônia     Não              21495  ...   \n",
       "1               11  RO          Rondônia     Não              96833  ...   \n",
       "11              11  RO          Rondônia     Não             124333  ...   \n",
       "13              11  RO          Rondônia     Não              15679  ...   \n",
       "14              11  RO          Rondônia     Não              35044  ...   \n",
       "...            ...  ..               ...     ...                ...  ...   \n",
       "1013690         52  GO             Goiás     Não             225696  ...   \n",
       "1013696         52  GO             Goiás     Não              38492  ...   \n",
       "1013715         52  GO             Goiás     Não              17020  ...   \n",
       "1013730         52  GO             Goiás     Não              42546  ...   \n",
       "1013739         53  DF  Distrito Federal     Sim            2817068  ...   \n",
       "\n",
       "        diagnostico_ultrasonografia_qtd  partos_e_nascimentos_qtd  \\\n",
       "0                                   2.0                       7.0   \n",
       "1                                   7.0                      77.0   \n",
       "11                                 65.0                      84.0   \n",
       "13                                  2.0                      16.0   \n",
       "14                                  8.0                       8.0   \n",
       "...                                 ...                       ...   \n",
       "1013690                           245.0                      73.0   \n",
       "1013696                            11.0                       9.0   \n",
       "1013715                            37.0                       1.0   \n",
       "1013730                           362.0                      51.0   \n",
       "1013739                          3642.0                    1296.0   \n",
       "\n",
       "         cirurgias_obstetricas_qtd  diagnostico_ultrasonografia_val  \\\n",
       "0                              2.0                            48.40   \n",
       "1                             63.0                           196.90   \n",
       "11                            78.0                          1861.75   \n",
       "13                             4.0                            48.40   \n",
       "14                            10.0                           248.60   \n",
       "...                            ...                              ...   \n",
       "1013690                      135.0                         17749.92   \n",
       "1013696                       11.0                           364.86   \n",
       "1013715                        8.0                          1103.30   \n",
       "1013730                       81.0                         15451.71   \n",
       "1013739                     1812.0                        171623.68   \n",
       "\n",
       "         partos_e_nascimentos_val  cirurgias_obstetricas_val  longitude  \\\n",
       "0                         3103.80                    1091.46 -61.999824   \n",
       "1                        34141.80                   27791.01 -63.033269   \n",
       "11                       37245.60                   36709.18 -61.945095   \n",
       "13                        7094.40                    2182.92 -62.308230   \n",
       "14                        3469.90                    4577.34 -62.261055   \n",
       "...                           ...                        ...        ...   \n",
       "1013690                  42856.20                   67736.98 -50.929681   \n",
       "1013696                   5039.40                    5636.92 -50.598443   \n",
       "1013715                    929.21                    4328.62 -50.549700   \n",
       "1013730                  28709.74                   39694.05 -49.147486   \n",
       "1013739                 736754.54                  833827.42 -47.887905   \n",
       "\n",
       "          latitude  partos_populacao  cluster  \n",
       "0       -11.935540           1.50465        0  \n",
       "1        -9.908463          74.56141        0  \n",
       "11      -10.882051         104.43972        0  \n",
       "13      -11.721325           2.50864        0  \n",
       "14      -10.723574           2.80352        0  \n",
       "...            ...               ...      ...  \n",
       "1013690 -17.794543         164.75808        0  \n",
       "1013696 -17.812355           3.46428        0  \n",
       "1013715 -18.989739           0.17020        0  \n",
       "1013730 -14.520220          21.69846        0  \n",
       "1013739 -15.794087       36509.20128        0  \n",
       "\n",
       "[162647 rows x 21 columns]"
      ],
      "text/html": [
       "<div>\n",
       "<style scoped>\n",
       "    .dataframe tbody tr th:only-of-type {\n",
       "        vertical-align: middle;\n",
       "    }\n",
       "\n",
       "    .dataframe tbody tr th {\n",
       "        vertical-align: top;\n",
       "    }\n",
       "\n",
       "    .dataframe thead th {\n",
       "        text-align: right;\n",
       "    }\n",
       "</style>\n",
       "<table border=\"1\" class=\"dataframe\">\n",
       "  <thead>\n",
       "    <tr style=\"text-align: right;\">\n",
       "      <th></th>\n",
       "      <th>ano</th>\n",
       "      <th>mes</th>\n",
       "      <th>municipio</th>\n",
       "      <th>regiao_codigo</th>\n",
       "      <th>regiao_nome</th>\n",
       "      <th>uf_codigo</th>\n",
       "      <th>uf</th>\n",
       "      <th>uf_nome</th>\n",
       "      <th>capital</th>\n",
       "      <th>numero_habitantes</th>\n",
       "      <th>...</th>\n",
       "      <th>diagnostico_ultrasonografia_qtd</th>\n",
       "      <th>partos_e_nascimentos_qtd</th>\n",
       "      <th>cirurgias_obstetricas_qtd</th>\n",
       "      <th>diagnostico_ultrasonografia_val</th>\n",
       "      <th>partos_e_nascimentos_val</th>\n",
       "      <th>cirurgias_obstetricas_val</th>\n",
       "      <th>longitude</th>\n",
       "      <th>latitude</th>\n",
       "      <th>partos_populacao</th>\n",
       "      <th>cluster</th>\n",
       "    </tr>\n",
       "  </thead>\n",
       "  <tbody>\n",
       "    <tr>\n",
       "      <th>0</th>\n",
       "      <td>2009</td>\n",
       "      <td>1</td>\n",
       "      <td>Alta Floresta D'Oeste</td>\n",
       "      <td>1</td>\n",
       "      <td>Norte</td>\n",
       "      <td>11</td>\n",
       "      <td>RO</td>\n",
       "      <td>Rondônia</td>\n",
       "      <td>Não</td>\n",
       "      <td>21495</td>\n",
       "      <td>...</td>\n",
       "      <td>2.0</td>\n",
       "      <td>7.0</td>\n",
       "      <td>2.0</td>\n",
       "      <td>48.40</td>\n",
       "      <td>3103.80</td>\n",
       "      <td>1091.46</td>\n",
       "      <td>-61.999824</td>\n",
       "      <td>-11.935540</td>\n",
       "      <td>1.50465</td>\n",
       "      <td>0</td>\n",
       "    </tr>\n",
       "    <tr>\n",
       "      <th>1</th>\n",
       "      <td>2009</td>\n",
       "      <td>1</td>\n",
       "      <td>Ariquemes</td>\n",
       "      <td>1</td>\n",
       "      <td>Norte</td>\n",
       "      <td>11</td>\n",
       "      <td>RO</td>\n",
       "      <td>Rondônia</td>\n",
       "      <td>Não</td>\n",
       "      <td>96833</td>\n",
       "      <td>...</td>\n",
       "      <td>7.0</td>\n",
       "      <td>77.0</td>\n",
       "      <td>63.0</td>\n",
       "      <td>196.90</td>\n",
       "      <td>34141.80</td>\n",
       "      <td>27791.01</td>\n",
       "      <td>-63.033269</td>\n",
       "      <td>-9.908463</td>\n",
       "      <td>74.56141</td>\n",
       "      <td>0</td>\n",
       "    </tr>\n",
       "    <tr>\n",
       "      <th>11</th>\n",
       "      <td>2009</td>\n",
       "      <td>1</td>\n",
       "      <td>Ji-Paraná</td>\n",
       "      <td>1</td>\n",
       "      <td>Norte</td>\n",
       "      <td>11</td>\n",
       "      <td>RO</td>\n",
       "      <td>Rondônia</td>\n",
       "      <td>Não</td>\n",
       "      <td>124333</td>\n",
       "      <td>...</td>\n",
       "      <td>65.0</td>\n",
       "      <td>84.0</td>\n",
       "      <td>78.0</td>\n",
       "      <td>1861.75</td>\n",
       "      <td>37245.60</td>\n",
       "      <td>36709.18</td>\n",
       "      <td>-61.945095</td>\n",
       "      <td>-10.882051</td>\n",
       "      <td>104.43972</td>\n",
       "      <td>0</td>\n",
       "    </tr>\n",
       "    <tr>\n",
       "      <th>13</th>\n",
       "      <td>2009</td>\n",
       "      <td>1</td>\n",
       "      <td>Nova Brasilândia D'Oeste</td>\n",
       "      <td>1</td>\n",
       "      <td>Norte</td>\n",
       "      <td>11</td>\n",
       "      <td>RO</td>\n",
       "      <td>Rondônia</td>\n",
       "      <td>Não</td>\n",
       "      <td>15679</td>\n",
       "      <td>...</td>\n",
       "      <td>2.0</td>\n",
       "      <td>16.0</td>\n",
       "      <td>4.0</td>\n",
       "      <td>48.40</td>\n",
       "      <td>7094.40</td>\n",
       "      <td>2182.92</td>\n",
       "      <td>-62.308230</td>\n",
       "      <td>-11.721325</td>\n",
       "      <td>2.50864</td>\n",
       "      <td>0</td>\n",
       "    </tr>\n",
       "    <tr>\n",
       "      <th>14</th>\n",
       "      <td>2009</td>\n",
       "      <td>1</td>\n",
       "      <td>Ouro Preto do Oeste</td>\n",
       "      <td>1</td>\n",
       "      <td>Norte</td>\n",
       "      <td>11</td>\n",
       "      <td>RO</td>\n",
       "      <td>Rondônia</td>\n",
       "      <td>Não</td>\n",
       "      <td>35044</td>\n",
       "      <td>...</td>\n",
       "      <td>8.0</td>\n",
       "      <td>8.0</td>\n",
       "      <td>10.0</td>\n",
       "      <td>248.60</td>\n",
       "      <td>3469.90</td>\n",
       "      <td>4577.34</td>\n",
       "      <td>-62.261055</td>\n",
       "      <td>-10.723574</td>\n",
       "      <td>2.80352</td>\n",
       "      <td>0</td>\n",
       "    </tr>\n",
       "    <tr>\n",
       "      <th>...</th>\n",
       "      <td>...</td>\n",
       "      <td>...</td>\n",
       "      <td>...</td>\n",
       "      <td>...</td>\n",
       "      <td>...</td>\n",
       "      <td>...</td>\n",
       "      <td>...</td>\n",
       "      <td>...</td>\n",
       "      <td>...</td>\n",
       "      <td>...</td>\n",
       "      <td>...</td>\n",
       "      <td>...</td>\n",
       "      <td>...</td>\n",
       "      <td>...</td>\n",
       "      <td>...</td>\n",
       "      <td>...</td>\n",
       "      <td>...</td>\n",
       "      <td>...</td>\n",
       "      <td>...</td>\n",
       "      <td>...</td>\n",
       "      <td>...</td>\n",
       "    </tr>\n",
       "    <tr>\n",
       "      <th>1013690</th>\n",
       "      <td>2024</td>\n",
       "      <td>2</td>\n",
       "      <td>Rio Verde</td>\n",
       "      <td>5</td>\n",
       "      <td>Centro-Oeste</td>\n",
       "      <td>52</td>\n",
       "      <td>GO</td>\n",
       "      <td>Goiás</td>\n",
       "      <td>Não</td>\n",
       "      <td>225696</td>\n",
       "      <td>...</td>\n",
       "      <td>245.0</td>\n",
       "      <td>73.0</td>\n",
       "      <td>135.0</td>\n",
       "      <td>17749.92</td>\n",
       "      <td>42856.20</td>\n",
       "      <td>67736.98</td>\n",
       "      <td>-50.929681</td>\n",
       "      <td>-17.794543</td>\n",
       "      <td>164.75808</td>\n",
       "      <td>0</td>\n",
       "    </tr>\n",
       "    <tr>\n",
       "      <th>1013696</th>\n",
       "      <td>2024</td>\n",
       "      <td>2</td>\n",
       "      <td>Santa Helena de Goiás</td>\n",
       "      <td>5</td>\n",
       "      <td>Centro-Oeste</td>\n",
       "      <td>52</td>\n",
       "      <td>GO</td>\n",
       "      <td>Goiás</td>\n",
       "      <td>Não</td>\n",
       "      <td>38492</td>\n",
       "      <td>...</td>\n",
       "      <td>11.0</td>\n",
       "      <td>9.0</td>\n",
       "      <td>11.0</td>\n",
       "      <td>364.86</td>\n",
       "      <td>5039.40</td>\n",
       "      <td>5636.92</td>\n",
       "      <td>-50.598443</td>\n",
       "      <td>-17.812355</td>\n",
       "      <td>3.46428</td>\n",
       "      <td>0</td>\n",
       "    </tr>\n",
       "    <tr>\n",
       "      <th>1013715</th>\n",
       "      <td>2024</td>\n",
       "      <td>2</td>\n",
       "      <td>São Simão</td>\n",
       "      <td>5</td>\n",
       "      <td>Centro-Oeste</td>\n",
       "      <td>52</td>\n",
       "      <td>GO</td>\n",
       "      <td>Goiás</td>\n",
       "      <td>Não</td>\n",
       "      <td>17020</td>\n",
       "      <td>...</td>\n",
       "      <td>37.0</td>\n",
       "      <td>1.0</td>\n",
       "      <td>8.0</td>\n",
       "      <td>1103.30</td>\n",
       "      <td>929.21</td>\n",
       "      <td>4328.62</td>\n",
       "      <td>-50.549700</td>\n",
       "      <td>-18.989739</td>\n",
       "      <td>0.17020</td>\n",
       "      <td>0</td>\n",
       "    </tr>\n",
       "    <tr>\n",
       "      <th>1013730</th>\n",
       "      <td>2024</td>\n",
       "      <td>2</td>\n",
       "      <td>Uruaçu</td>\n",
       "      <td>5</td>\n",
       "      <td>Centro-Oeste</td>\n",
       "      <td>52</td>\n",
       "      <td>GO</td>\n",
       "      <td>Goiás</td>\n",
       "      <td>Não</td>\n",
       "      <td>42546</td>\n",
       "      <td>...</td>\n",
       "      <td>362.0</td>\n",
       "      <td>51.0</td>\n",
       "      <td>81.0</td>\n",
       "      <td>15451.71</td>\n",
       "      <td>28709.74</td>\n",
       "      <td>39694.05</td>\n",
       "      <td>-49.147486</td>\n",
       "      <td>-14.520220</td>\n",
       "      <td>21.69846</td>\n",
       "      <td>0</td>\n",
       "    </tr>\n",
       "    <tr>\n",
       "      <th>1013739</th>\n",
       "      <td>2024</td>\n",
       "      <td>2</td>\n",
       "      <td>Brasília</td>\n",
       "      <td>5</td>\n",
       "      <td>Centro-Oeste</td>\n",
       "      <td>53</td>\n",
       "      <td>DF</td>\n",
       "      <td>Distrito Federal</td>\n",
       "      <td>Sim</td>\n",
       "      <td>2817068</td>\n",
       "      <td>...</td>\n",
       "      <td>3642.0</td>\n",
       "      <td>1296.0</td>\n",
       "      <td>1812.0</td>\n",
       "      <td>171623.68</td>\n",
       "      <td>736754.54</td>\n",
       "      <td>833827.42</td>\n",
       "      <td>-47.887905</td>\n",
       "      <td>-15.794087</td>\n",
       "      <td>36509.20128</td>\n",
       "      <td>0</td>\n",
       "    </tr>\n",
       "  </tbody>\n",
       "</table>\n",
       "<p>162647 rows × 21 columns</p>\n",
       "</div>"
      ]
     },
     "execution_count": 281,
     "metadata": {},
     "output_type": "execute_result"
    }
   ],
   "execution_count": 281
  },
  {
   "metadata": {
    "ExecuteTime": {
     "end_time": "2024-06-13T22:41:59.940555Z",
     "start_time": "2024-06-13T22:41:59.303419Z"
    }
   },
   "cell_type": "code",
   "source": [
    "plt.scatter(df_cluster_0.partos_populacao, df_cluster_0['partos_e_nascimentos_qtd'], color='green')\n",
    "plt.scatter(df_cluster_1.partos_populacao, df_cluster_1['partos_e_nascimentos_qtd'], color='blue')\n",
    "plt.scatter(df_cluster_2.partos_populacao, df_cluster_2['partos_e_nascimentos_qtd'], color='red')\n",
    "#plt.scatter(df_cluster_3.numero_habitantes, df_cluster_3['partos_e_nascimentos_qtd'], color='yellow')\n",
    "\n",
    "#plt.scatter(km.cluster_centers_[:,0], km.cluster_centers_[:, 1], color='purple', maker=\"*\", label='centroid')\n",
    "plt.xlabel('x')\n",
    "plt.ylabel('y')"
   ],
   "id": "c0089ee74531b708",
   "outputs": [
    {
     "data": {
      "text/plain": [
       "Text(0, 0.5, 'y')"
      ]
     },
     "execution_count": 282,
     "metadata": {},
     "output_type": "execute_result"
    },
    {
     "data": {
      "text/plain": [
       "<Figure size 640x480 with 1 Axes>"
      ],
      "image/png": "[encoded data removed]"
     },
     "metadata": {},
     "output_type": "display_data"
    }
   ],
   "execution_count": 282
  },
  {
   "metadata": {
    "ExecuteTime": {
     "end_time": "2024-06-13T22:42:06.176936Z",
     "start_time": "2024-06-13T22:42:05.447058Z"
    }
   },
   "cell_type": "code",
   "source": [
    "k = range(1,10)\n",
    "result = []\n",
    "for i in k:\n",
    "    km = KMeans(n_clusters=i)\n",
    "    km.fit(df[['numero_habitantes', 'partos_e_nascimentos_qtd']])\n",
    "    result.append(km.inertia_)\n",
    "result"
   ],
   "id": "1f9cc0d0096b5aa8",
   "outputs": [
    {
     "data": {
      "text/plain": [
       "[4.031054230465626e+16,\n",
       " 1.2819265135113184e+16,\n",
       " 7258261478560279.0,\n",
       " 4212999486620984.0,\n",
       " 3133244353712498.5,\n",
       " 881257939432982.0,\n",
       " 560796372168447.5,\n",
       " 359179668273354.0,\n",
       " 307310191063053.06]"
      ]
     },
     "execution_count": 283,
     "metadata": {},
     "output_type": "execute_result"
    }
   ],
   "execution_count": 283
  },
  {
   "metadata": {
    "ExecuteTime": {
     "end_time": "2024-06-13T22:42:09.445344Z",
     "start_time": "2024-06-13T22:42:09.327077Z"
    }
   },
   "cell_type": "code",
   "source": "plt.plot(k, result)",
   "id": "f7cccd4a71793e34",
   "outputs": [
    {
     "data": {
      "text/plain": [
       "[<matplotlib.lines.Line2D at 0x1dde78c2410>]"
      ]
     },
     "execution_count": 284,
     "metadata": {},
     "output_type": "execute_result"
    },
    {
     "data": {
      "text/plain": [
       "<Figure size 640x480 with 1 Axes>"
      ],
      "image/png": "[encoded data removed]"
     },
     "metadata": {},
     "output_type": "display_data"
    }
   ],
   "execution_count": 284
  },
  {
   "metadata": {
    "ExecuteTime": {
     "end_time": "2024-06-13T15:32:11.455853Z",
     "start_time": "2024-06-13T15:32:11.440598Z"
    }
   },
   "cell_type": "code",
   "source": [
    "scaler = MinMaxScaler()\n",
    "scaler.fit(df[['partos_populacao']])\n",
    "df['partos_populacao_t'] = scaler.transform(df[['partos_populacao']])\n",
    "df['partos_populacao_t']"
   ],
   "id": "5881bdc380862563",
   "outputs": [
    {
     "data": {
      "text/plain": [
       "0          1.990216e-06\n",
       "1          9.993018e-05\n",
       "11         1.399851e-04\n",
       "13         3.336166e-06\n",
       "14         3.731483e-06\n",
       "               ...     \n",
       "1013690    2.208479e-04\n",
       "1013696    4.617298e-06\n",
       "1013715    2.012510e-07\n",
       "1013730    2.906206e-05\n",
       "1013739    4.894425e-02\n",
       "Name: partos_populacao_t, Length: 163011, dtype: float64"
      ]
     },
     "execution_count": 147,
     "metadata": {},
     "output_type": "execute_result"
    }
   ],
   "execution_count": 147
  },
  {
   "metadata": {
    "ExecuteTime": {
     "end_time": "2024-06-13T15:34:18.437441Z",
     "start_time": "2024-06-13T15:34:18.421911Z"
    }
   },
   "cell_type": "code",
   "source": [
    "scaler.fit(df[['partos_e_nascimentos_qtd']])\n",
    "df['partos_e_nascimentos_qtd_t'] = scaler.transform(df[['partos_e_nascimentos_qtd']])\n",
    "df.partos_e_nascimentos_qtd_t"
   ],
   "id": "91dc170261dd85f9",
   "outputs": [
    {
     "data": {
      "text/plain": [
       "0          0.000921\n",
       "1          0.011669\n",
       "11         0.012744\n",
       "13         0.002303\n",
       "14         0.001075\n",
       "             ...   \n",
       "1013690    0.011055\n",
       "1013696    0.001228\n",
       "1013715    0.000000\n",
       "1013730    0.007677\n",
       "1013739    0.198833\n",
       "Name: partos_e_nascimentos_qtd_t, Length: 163011, dtype: float64"
      ]
     },
     "execution_count": 150,
     "metadata": {},
     "output_type": "execute_result"
    }
   ],
   "execution_count": 150
  },
  {
   "metadata": {
    "ExecuteTime": {
     "end_time": "2024-06-13T15:35:01.935796Z",
     "start_time": "2024-06-13T15:35:01.291211Z"
    }
   },
   "cell_type": "code",
   "source": "plt.scatter(df.partos_populacao_t, df.partos_e_nascimentos_qtd_t)",
   "id": "b1d0d0629b8cb17d",
   "outputs": [
    {
     "data": {
      "text/plain": [
       "<matplotlib.collections.PathCollection at 0x1ddc2edd810>"
      ]
     },
     "execution_count": 151,
     "metadata": {},
     "output_type": "execute_result"
    },
    {
     "data": {
      "text/plain": [
       "<Figure size 640x480 with 1 Axes>"
      ],
      "image/png": "[encoded data removed]"
     },
     "metadata": {},
     "output_type": "display_data"
    }
   ],
   "execution_count": 151
  },
  {
   "metadata": {
    "ExecuteTime": {
     "end_time": "2024-06-13T15:52:19.545677Z",
     "start_time": "2024-06-13T15:52:19.534477Z"
    }
   },
   "cell_type": "code",
   "source": "",
   "id": "526baa5f0707a169",
   "outputs": [],
   "execution_count": 163
  },
  {
   "metadata": {
    "ExecuteTime": {
     "end_time": "2024-06-13T15:53:16.337355Z",
     "start_time": "2024-06-13T15:53:16.328756Z"
    }
   },
   "cell_type": "code",
   "source": "",
   "id": "8dc6a13a8c89393",
   "outputs": [],
   "execution_count": 166
  },
  {
   "metadata": {
    "ExecuteTime": {
     "end_time": "2024-06-13T16:20:39.260369Z",
     "start_time": "2024-06-13T16:20:39.245627Z"
    }
   },
   "cell_type": "code",
   "source": [
    "def convert_to_datetime(data):\n",
    "    return datetime.strptime(data, format(\"%Y-%m\"))"
   ],
   "id": "d961b80811751bdf",
   "outputs": [],
   "execution_count": 232
  },
  {
   "metadata": {
    "ExecuteTime": {
     "end_time": "2024-06-13T16:20:43.307273Z",
     "start_time": "2024-06-13T16:20:43.002896Z"
    }
   },
   "cell_type": "code",
   "source": "df['data'] = list(map(lambda x,y: \"{}-{}\".format(x,y), df['ano'], df['mes']))",
   "id": "3d6912f64e3e30ca",
   "outputs": [],
   "execution_count": 233
  },
  {
   "metadata": {
    "ExecuteTime": {
     "end_time": "2024-06-13T16:20:49.035269Z",
     "start_time": "2024-06-13T16:20:44.603003Z"
    }
   },
   "cell_type": "code",
   "source": "df['time'] = list(map(lambda x: convert_to_datetime(x), df['data']))",
   "id": "be339b5f72aefa8f",
   "outputs": [],
   "execution_count": 234
  },
  {
   "metadata": {
    "ExecuteTime": {
     "end_time": "2024-06-13T16:16:05.021583Z",
     "start_time": "2024-06-13T16:16:05.013136Z"
    }
   },
   "cell_type": "code",
   "source": "df_km = df[['time','numero_habitantes','partos_e_nascimentos_qtd']]",
   "id": "4a4a042e244504b2",
   "outputs": [],
   "execution_count": 207
  },
  {
   "metadata": {
    "ExecuteTime": {
     "end_time": "2024-06-13T16:24:41.852586Z",
     "start_time": "2024-06-13T16:24:41.810575Z"
    }
   },
   "cell_type": "code",
   "source": [
    "df_km = df.groupby(['time']).agg({'partos_e_nascimentos_qtd': 'sum',\n",
    "                                  'partos_e_nascimentos_val':'sum',\n",
    "                                  'cirurgias_obstetricas_qtd': 'sum',\n",
    "                                  'cirurgias_obstetricas_val': 'sum'})"
   ],
   "id": "e32420db7c240fcf",
   "outputs": [],
   "execution_count": 246
  },
  {
   "metadata": {
    "ExecuteTime": {
     "end_time": "2024-06-13T16:24:44.549145Z",
     "start_time": "2024-06-13T16:24:44.540953Z"
    }
   },
   "cell_type": "code",
   "source": "df_km",
   "id": "ec9b59ec857f996e",
   "outputs": [
    {
     "data": {
      "text/plain": [
       "            partos_e_nascimentos_qtd  partos_e_nascimentos_val  \\\n",
       "time                                                             \n",
       "2009-01-01                  105424.0               56176411.81   \n",
       "2009-02-01                  102933.0               54825506.19   \n",
       "2009-03-01                  117114.0               62399264.22   \n",
       "2009-04-01                  113382.0               60340947.92   \n",
       "2009-05-01                  114401.0               61212225.34   \n",
       "...                              ...                       ...   \n",
       "2023-10-01                   67911.0               39509933.76   \n",
       "2023-11-01                   66166.0               38674158.57   \n",
       "2023-12-01                   64281.0               37576476.97   \n",
       "2024-01-01                   66912.0               39271937.99   \n",
       "2024-02-01                   59499.0               35213279.64   \n",
       "\n",
       "            cirurgias_obstetricas_qtd  cirurgias_obstetricas_val  \n",
       "time                                                              \n",
       "2009-01-01                    70826.0                34960984.60  \n",
       "2009-02-01                    69128.0                34439919.89  \n",
       "2009-03-01                    77726.0                38846455.60  \n",
       "2009-04-01                    75718.0                37832404.45  \n",
       "2009-05-01                    76650.0                38719927.20  \n",
       "...                               ...                        ...  \n",
       "2023-10-01                    88512.0                48678007.20  \n",
       "2023-11-01                    86385.0                47615551.26  \n",
       "2023-12-01                    84110.0                46159764.70  \n",
       "2024-01-01                    85915.0                47566910.26  \n",
       "2024-02-01                    76963.0                43020203.34  \n",
       "\n",
       "[182 rows x 4 columns]"
      ],
      "text/html": [
       "<div>\n",
       "<style scoped>\n",
       "    .dataframe tbody tr th:only-of-type {\n",
       "        vertical-align: middle;\n",
       "    }\n",
       "\n",
       "    .dataframe tbody tr th {\n",
       "        vertical-align: top;\n",
       "    }\n",
       "\n",
       "    .dataframe thead th {\n",
       "        text-align: right;\n",
       "    }\n",
       "</style>\n",
       "<table border=\"1\" class=\"dataframe\">\n",
       "  <thead>\n",
       "    <tr style=\"text-align: right;\">\n",
       "      <th></th>\n",
       "      <th>partos_e_nascimentos_qtd</th>\n",
       "      <th>partos_e_nascimentos_val</th>\n",
       "      <th>cirurgias_obstetricas_qtd</th>\n",
       "      <th>cirurgias_obstetricas_val</th>\n",
       "    </tr>\n",
       "    <tr>\n",
       "      <th>time</th>\n",
       "      <th></th>\n",
       "      <th></th>\n",
       "      <th></th>\n",
       "      <th></th>\n",
       "    </tr>\n",
       "  </thead>\n",
       "  <tbody>\n",
       "    <tr>\n",
       "      <th>2009-01-01</th>\n",
       "      <td>105424.0</td>\n",
       "      <td>56176411.81</td>\n",
       "      <td>70826.0</td>\n",
       "      <td>34960984.60</td>\n",
       "    </tr>\n",
       "    <tr>\n",
       "      <th>2009-02-01</th>\n",
       "      <td>102933.0</td>\n",
       "      <td>54825506.19</td>\n",
       "      <td>69128.0</td>\n",
       "      <td>34439919.89</td>\n",
       "    </tr>\n",
       "    <tr>\n",
       "      <th>2009-03-01</th>\n",
       "      <td>117114.0</td>\n",
       "      <td>62399264.22</td>\n",
       "      <td>77726.0</td>\n",
       "      <td>38846455.60</td>\n",
       "    </tr>\n",
       "    <tr>\n",
       "      <th>2009-04-01</th>\n",
       "      <td>113382.0</td>\n",
       "      <td>60340947.92</td>\n",
       "      <td>75718.0</td>\n",
       "      <td>37832404.45</td>\n",
       "    </tr>\n",
       "    <tr>\n",
       "      <th>2009-05-01</th>\n",
       "      <td>114401.0</td>\n",
       "      <td>61212225.34</td>\n",
       "      <td>76650.0</td>\n",
       "      <td>38719927.20</td>\n",
       "    </tr>\n",
       "    <tr>\n",
       "      <th>...</th>\n",
       "      <td>...</td>\n",
       "      <td>...</td>\n",
       "      <td>...</td>\n",
       "      <td>...</td>\n",
       "    </tr>\n",
       "    <tr>\n",
       "      <th>2023-10-01</th>\n",
       "      <td>67911.0</td>\n",
       "      <td>39509933.76</td>\n",
       "      <td>88512.0</td>\n",
       "      <td>48678007.20</td>\n",
       "    </tr>\n",
       "    <tr>\n",
       "      <th>2023-11-01</th>\n",
       "      <td>66166.0</td>\n",
       "      <td>38674158.57</td>\n",
       "      <td>86385.0</td>\n",
       "      <td>47615551.26</td>\n",
       "    </tr>\n",
       "    <tr>\n",
       "      <th>2023-12-01</th>\n",
       "      <td>64281.0</td>\n",
       "      <td>37576476.97</td>\n",
       "      <td>84110.0</td>\n",
       "      <td>46159764.70</td>\n",
       "    </tr>\n",
       "    <tr>\n",
       "      <th>2024-01-01</th>\n",
       "      <td>66912.0</td>\n",
       "      <td>39271937.99</td>\n",
       "      <td>85915.0</td>\n",
       "      <td>47566910.26</td>\n",
       "    </tr>\n",
       "    <tr>\n",
       "      <th>2024-02-01</th>\n",
       "      <td>59499.0</td>\n",
       "      <td>35213279.64</td>\n",
       "      <td>76963.0</td>\n",
       "      <td>43020203.34</td>\n",
       "    </tr>\n",
       "  </tbody>\n",
       "</table>\n",
       "<p>182 rows × 4 columns</p>\n",
       "</div>"
      ]
     },
     "execution_count": 247,
     "metadata": {},
     "output_type": "execute_result"
    }
   ],
   "execution_count": 247
  },
  {
   "metadata": {
    "ExecuteTime": {
     "end_time": "2024-06-13T16:16:50.683573Z",
     "start_time": "2024-06-13T16:16:50.675539Z"
    }
   },
   "cell_type": "code",
   "source": "#df_km.reset_index(inplace=True)",
   "id": "af6b4b55f2fea54",
   "outputs": [],
   "execution_count": 211
  },
  {
   "metadata": {
    "ExecuteTime": {
     "end_time": "2024-06-13T16:17:18.707364Z",
     "start_time": "2024-06-13T16:17:18.684915Z"
    }
   },
   "cell_type": "code",
   "source": "#df_km['time'] = df_km['time'].astype('str')",
   "id": "79077d68000f144b",
   "outputs": [],
   "execution_count": 214
  },
  {
   "metadata": {
    "ExecuteTime": {
     "end_time": "2024-06-13T16:26:29.115492Z",
     "start_time": "2024-06-13T16:26:29.107454Z"
    }
   },
   "cell_type": "code",
   "source": "df_stkm = df_km[['partos_e_nascimentos_qtd', 'cirurgias_obstetricas_qtd', 'cirurgias_obstetricas_val']]",
   "id": "f8773bc0fa564130",
   "outputs": [],
   "execution_count": 255
  },
  {
   "metadata": {
    "ExecuteTime": {
     "end_time": "2024-06-13T16:26:31.477320Z",
     "start_time": "2024-06-13T16:26:31.468596Z"
    }
   },
   "cell_type": "code",
   "source": "df_stkm",
   "id": "47e7a88657526d",
   "outputs": [
    {
     "data": {
      "text/plain": [
       "            partos_e_nascimentos_qtd  cirurgias_obstetricas_qtd  \\\n",
       "time                                                              \n",
       "2009-01-01                  105424.0                    70826.0   \n",
       "2009-02-01                  102933.0                    69128.0   \n",
       "2009-03-01                  117114.0                    77726.0   \n",
       "2009-04-01                  113382.0                    75718.0   \n",
       "2009-05-01                  114401.0                    76650.0   \n",
       "...                              ...                        ...   \n",
       "2023-10-01                   67911.0                    88512.0   \n",
       "2023-11-01                   66166.0                    86385.0   \n",
       "2023-12-01                   64281.0                    84110.0   \n",
       "2024-01-01                   66912.0                    85915.0   \n",
       "2024-02-01                   59499.0                    76963.0   \n",
       "\n",
       "            cirurgias_obstetricas_val  \n",
       "time                                   \n",
       "2009-01-01                34960984.60  \n",
       "2009-02-01                34439919.89  \n",
       "2009-03-01                38846455.60  \n",
       "2009-04-01                37832404.45  \n",
       "2009-05-01                38719927.20  \n",
       "...                               ...  \n",
       "2023-10-01                48678007.20  \n",
       "2023-11-01                47615551.26  \n",
       "2023-12-01                46159764.70  \n",
       "2024-01-01                47566910.26  \n",
       "2024-02-01                43020203.34  \n",
       "\n",
       "[182 rows x 3 columns]"
      ],
      "text/html": [
       "<div>\n",
       "<style scoped>\n",
       "    .dataframe tbody tr th:only-of-type {\n",
       "        vertical-align: middle;\n",
       "    }\n",
       "\n",
       "    .dataframe tbody tr th {\n",
       "        vertical-align: top;\n",
       "    }\n",
       "\n",
       "    .dataframe thead th {\n",
       "        text-align: right;\n",
       "    }\n",
       "</style>\n",
       "<table border=\"1\" class=\"dataframe\">\n",
       "  <thead>\n",
       "    <tr style=\"text-align: right;\">\n",
       "      <th></th>\n",
       "      <th>partos_e_nascimentos_qtd</th>\n",
       "      <th>cirurgias_obstetricas_qtd</th>\n",
       "      <th>cirurgias_obstetricas_val</th>\n",
       "    </tr>\n",
       "    <tr>\n",
       "      <th>time</th>\n",
       "      <th></th>\n",
       "      <th></th>\n",
       "      <th></th>\n",
       "    </tr>\n",
       "  </thead>\n",
       "  <tbody>\n",
       "    <tr>\n",
       "      <th>2009-01-01</th>\n",
       "      <td>105424.0</td>\n",
       "      <td>70826.0</td>\n",
       "      <td>34960984.60</td>\n",
       "    </tr>\n",
       "    <tr>\n",
       "      <th>2009-02-01</th>\n",
       "      <td>102933.0</td>\n",
       "      <td>69128.0</td>\n",
       "      <td>34439919.89</td>\n",
       "    </tr>\n",
       "    <tr>\n",
       "      <th>2009-03-01</th>\n",
       "      <td>117114.0</td>\n",
       "      <td>77726.0</td>\n",
       "      <td>38846455.60</td>\n",
       "    </tr>\n",
       "    <tr>\n",
       "      <th>2009-04-01</th>\n",
       "      <td>113382.0</td>\n",
       "      <td>75718.0</td>\n",
       "      <td>37832404.45</td>\n",
       "    </tr>\n",
       "    <tr>\n",
       "      <th>2009-05-01</th>\n",
       "      <td>114401.0</td>\n",
       "      <td>76650.0</td>\n",
       "      <td>38719927.20</td>\n",
       "    </tr>\n",
       "    <tr>\n",
       "      <th>...</th>\n",
       "      <td>...</td>\n",
       "      <td>...</td>\n",
       "      <td>...</td>\n",
       "    </tr>\n",
       "    <tr>\n",
       "      <th>2023-10-01</th>\n",
       "      <td>67911.0</td>\n",
       "      <td>88512.0</td>\n",
       "      <td>48678007.20</td>\n",
       "    </tr>\n",
       "    <tr>\n",
       "      <th>2023-11-01</th>\n",
       "      <td>66166.0</td>\n",
       "      <td>86385.0</td>\n",
       "      <td>47615551.26</td>\n",
       "    </tr>\n",
       "    <tr>\n",
       "      <th>2023-12-01</th>\n",
       "      <td>64281.0</td>\n",
       "      <td>84110.0</td>\n",
       "      <td>46159764.70</td>\n",
       "    </tr>\n",
       "    <tr>\n",
       "      <th>2024-01-01</th>\n",
       "      <td>66912.0</td>\n",
       "      <td>85915.0</td>\n",
       "      <td>47566910.26</td>\n",
       "    </tr>\n",
       "    <tr>\n",
       "      <th>2024-02-01</th>\n",
       "      <td>59499.0</td>\n",
       "      <td>76963.0</td>\n",
       "      <td>43020203.34</td>\n",
       "    </tr>\n",
       "  </tbody>\n",
       "</table>\n",
       "<p>182 rows × 3 columns</p>\n",
       "</div>"
      ]
     },
     "execution_count": 256,
     "metadata": {},
     "output_type": "execute_result"
    }
   ],
   "execution_count": 256
  },
  {
   "metadata": {
    "ExecuteTime": {
     "end_time": "2024-06-13T16:17:44.762686Z",
     "start_time": "2024-06-13T16:17:44.720261Z"
    }
   },
   "cell_type": "code",
   "source": [
    "import numpy as np\n",
    "import pandas as pd\n",
    "from tslearn.clustering import TimeSeriesKMeans\n",
    "from tslearn.preprocessing import TimeSeriesScalerMeanVariance\n",
    "import matplotlib.pyplot as plt\n",
    "\n",
    "# Exemplo de dados de séries temporais (usando dados sintéticos)\n",
    "#data = np.random.rand(100, 50)  # 100 séries temporais, cada uma com 50 pontos\n",
    "\n",
    "# Normalização dos dados\n",
    "scaler = TimeSeriesScalerMeanVariance()\n",
    "data_normalized = scaler.fit_transform(df_km)\n",
    "\n",
    "# Aplicação do K-means clustering\n",
    "kmeans = TimeSeriesKMeans(n_clusters=3, metric=\"dtw\", random_state=0)\n",
    "labels = kmeans.fit_predict(data_normalized)\n",
    "\n",
    "# Visualização dos clusters\n",
    "for yi in range(3):\n",
    "    plt.subplot(3, 1, yi + 1)\n",
    "    for xx in data_normalized[labels == yi]:\n",
    "        plt.plot(xx.ravel(), \"k-\", alpha=0.2)\n",
    "    plt.plot(kmeans.cluster_centers_[yi].ravel(), \"r-\")\n",
    "    plt.title(\"Cluster %d\" % (yi + 1))\n",
    "\n",
    "plt.tight_layout()\n",
    "plt.show()"
   ],
   "id": "79e9567b071e398d",
   "outputs": [
    {
     "ename": "ValueError",
     "evalue": "could not convert string to float: '2009-01-01'",
     "output_type": "error",
     "traceback": [
      "\u001B[1;31m---------------------------------------------------------------------------\u001B[0m",
      "\u001B[1;31mValueError\u001B[0m                                Traceback (most recent call last)",
      "\u001B[1;32m~\\AppData\\Local\\Temp\\ipykernel_12536\\3814397637.py\u001B[0m in \u001B[0;36m?\u001B[1;34m()\u001B[0m\n\u001B[0;32m      8\u001B[0m \u001B[1;31m#data = np.random.rand(100, 50)  # 100 séries temporais, cada uma com 50 pontos\u001B[0m\u001B[1;33m\u001B[0m\u001B[1;33m\u001B[0m\u001B[0m\n\u001B[0;32m      9\u001B[0m \u001B[1;33m\u001B[0m\u001B[0m\n\u001B[0;32m     10\u001B[0m \u001B[1;31m# Normalização dos dados\u001B[0m\u001B[1;33m\u001B[0m\u001B[1;33m\u001B[0m\u001B[0m\n\u001B[0;32m     11\u001B[0m \u001B[0mscaler\u001B[0m \u001B[1;33m=\u001B[0m \u001B[0mTimeSeriesScalerMeanVariance\u001B[0m\u001B[1;33m(\u001B[0m\u001B[1;33m)\u001B[0m\u001B[1;33m\u001B[0m\u001B[1;33m\u001B[0m\u001B[0m\n\u001B[1;32m---> 12\u001B[1;33m \u001B[0mdata_normalized\u001B[0m \u001B[1;33m=\u001B[0m \u001B[0mscaler\u001B[0m\u001B[1;33m.\u001B[0m\u001B[0mfit_transform\u001B[0m\u001B[1;33m(\u001B[0m\u001B[0mdf_km\u001B[0m\u001B[1;33m)\u001B[0m\u001B[1;33m\u001B[0m\u001B[1;33m\u001B[0m\u001B[0m\n\u001B[0m\u001B[0;32m     13\u001B[0m \u001B[1;33m\u001B[0m\u001B[0m\n\u001B[0;32m     14\u001B[0m \u001B[1;31m# Aplicação do K-means clustering\u001B[0m\u001B[1;33m\u001B[0m\u001B[1;33m\u001B[0m\u001B[0m\n\u001B[0;32m     15\u001B[0m \u001B[0mkmeans\u001B[0m \u001B[1;33m=\u001B[0m \u001B[0mTimeSeriesKMeans\u001B[0m\u001B[1;33m(\u001B[0m\u001B[0mn_clusters\u001B[0m\u001B[1;33m=\u001B[0m\u001B[1;36m3\u001B[0m\u001B[1;33m,\u001B[0m \u001B[0mmetric\u001B[0m\u001B[1;33m=\u001B[0m\u001B[1;34m\"dtw\"\u001B[0m\u001B[1;33m,\u001B[0m \u001B[0mrandom_state\u001B[0m\u001B[1;33m=\u001B[0m\u001B[1;36m0\u001B[0m\u001B[1;33m)\u001B[0m\u001B[1;33m\u001B[0m\u001B[1;33m\u001B[0m\u001B[0m\n",
      "\u001B[1;32m~\\PycharmProjects\\desafio_ciencia_dados_2\\venv\\Lib\\site-packages\\sklearn\\utils\\_set_output.py\u001B[0m in \u001B[0;36m?\u001B[1;34m(self, X, *args, **kwargs)\u001B[0m\n\u001B[0;32m    311\u001B[0m     \u001B[1;33m@\u001B[0m\u001B[0mwraps\u001B[0m\u001B[1;33m(\u001B[0m\u001B[0mf\u001B[0m\u001B[1;33m)\u001B[0m\u001B[1;33m\u001B[0m\u001B[1;33m\u001B[0m\u001B[0m\n\u001B[0;32m    312\u001B[0m     \u001B[1;32mdef\u001B[0m \u001B[0mwrapped\u001B[0m\u001B[1;33m(\u001B[0m\u001B[0mself\u001B[0m\u001B[1;33m,\u001B[0m \u001B[0mX\u001B[0m\u001B[1;33m,\u001B[0m \u001B[1;33m*\u001B[0m\u001B[0margs\u001B[0m\u001B[1;33m,\u001B[0m \u001B[1;33m**\u001B[0m\u001B[0mkwargs\u001B[0m\u001B[1;33m)\u001B[0m\u001B[1;33m:\u001B[0m\u001B[1;33m\u001B[0m\u001B[1;33m\u001B[0m\u001B[0m\n\u001B[1;32m--> 313\u001B[1;33m         \u001B[0mdata_to_wrap\u001B[0m \u001B[1;33m=\u001B[0m \u001B[0mf\u001B[0m\u001B[1;33m(\u001B[0m\u001B[0mself\u001B[0m\u001B[1;33m,\u001B[0m \u001B[0mX\u001B[0m\u001B[1;33m,\u001B[0m \u001B[1;33m*\u001B[0m\u001B[0margs\u001B[0m\u001B[1;33m,\u001B[0m \u001B[1;33m**\u001B[0m\u001B[0mkwargs\u001B[0m\u001B[1;33m)\u001B[0m\u001B[1;33m\u001B[0m\u001B[1;33m\u001B[0m\u001B[0m\n\u001B[0m\u001B[0;32m    314\u001B[0m         \u001B[1;32mif\u001B[0m \u001B[0misinstance\u001B[0m\u001B[1;33m(\u001B[0m\u001B[0mdata_to_wrap\u001B[0m\u001B[1;33m,\u001B[0m \u001B[0mtuple\u001B[0m\u001B[1;33m)\u001B[0m\u001B[1;33m:\u001B[0m\u001B[1;33m\u001B[0m\u001B[1;33m\u001B[0m\u001B[0m\n\u001B[0;32m    315\u001B[0m             \u001B[1;31m# only wrap the first output for cross decomposition\u001B[0m\u001B[1;33m\u001B[0m\u001B[1;33m\u001B[0m\u001B[0m\n\u001B[0;32m    316\u001B[0m             return_tuple = (\n",
      "\u001B[1;32m~\\PycharmProjects\\desafio_ciencia_dados_2\\venv\\Lib\\site-packages\\tslearn\\preprocessing\\preprocessing.py\u001B[0m in \u001B[0;36m?\u001B[1;34m(self, X, y, **kwargs)\u001B[0m\n\u001B[0;32m    266\u001B[0m         \u001B[1;33m-\u001B[0m\u001B[1;33m-\u001B[0m\u001B[1;33m-\u001B[0m\u001B[1;33m-\u001B[0m\u001B[1;33m-\u001B[0m\u001B[1;33m-\u001B[0m\u001B[1;33m-\u001B[0m\u001B[1;33m\u001B[0m\u001B[1;33m\u001B[0m\u001B[0m\n\u001B[0;32m    267\u001B[0m         \u001B[0mnumpy\u001B[0m\u001B[1;33m.\u001B[0m\u001B[0mndarray\u001B[0m\u001B[1;33m\u001B[0m\u001B[1;33m\u001B[0m\u001B[0m\n\u001B[0;32m    268\u001B[0m             \u001B[0mResampled\u001B[0m \u001B[0mtime\u001B[0m \u001B[0mseries\u001B[0m \u001B[0mdataset\u001B[0m\u001B[1;33m.\u001B[0m\u001B[1;33m\u001B[0m\u001B[1;33m\u001B[0m\u001B[0m\n\u001B[0;32m    269\u001B[0m         \"\"\"\n\u001B[1;32m--> 270\u001B[1;33m         \u001B[1;32mreturn\u001B[0m \u001B[0mself\u001B[0m\u001B[1;33m.\u001B[0m\u001B[0mfit\u001B[0m\u001B[1;33m(\u001B[0m\u001B[0mX\u001B[0m\u001B[1;33m)\u001B[0m\u001B[1;33m.\u001B[0m\u001B[0mtransform\u001B[0m\u001B[1;33m(\u001B[0m\u001B[0mX\u001B[0m\u001B[1;33m)\u001B[0m\u001B[1;33m\u001B[0m\u001B[1;33m\u001B[0m\u001B[0m\n\u001B[0m",
      "\u001B[1;32m~\\PycharmProjects\\desafio_ciencia_dados_2\\venv\\Lib\\site-packages\\tslearn\\preprocessing\\preprocessing.py\u001B[0m in \u001B[0;36m?\u001B[1;34m(self, X, y, **kwargs)\u001B[0m\n\u001B[0;32m    248\u001B[0m         \u001B[0mReturns\u001B[0m\u001B[1;33m\u001B[0m\u001B[1;33m\u001B[0m\u001B[0m\n\u001B[0;32m    249\u001B[0m         \u001B[1;33m-\u001B[0m\u001B[1;33m-\u001B[0m\u001B[1;33m-\u001B[0m\u001B[1;33m-\u001B[0m\u001B[1;33m-\u001B[0m\u001B[1;33m-\u001B[0m\u001B[1;33m-\u001B[0m\u001B[1;33m\u001B[0m\u001B[1;33m\u001B[0m\u001B[0m\n\u001B[0;32m    250\u001B[0m         \u001B[0mself\u001B[0m\u001B[1;33m\u001B[0m\u001B[1;33m\u001B[0m\u001B[0m\n\u001B[0;32m    251\u001B[0m         \"\"\"\n\u001B[1;32m--> 252\u001B[1;33m         \u001B[0mX\u001B[0m \u001B[1;33m=\u001B[0m \u001B[0mcheck_array\u001B[0m\u001B[1;33m(\u001B[0m\u001B[0mX\u001B[0m\u001B[1;33m,\u001B[0m \u001B[0mallow_nd\u001B[0m\u001B[1;33m=\u001B[0m\u001B[1;32mTrue\u001B[0m\u001B[1;33m,\u001B[0m \u001B[0mforce_all_finite\u001B[0m\u001B[1;33m=\u001B[0m\u001B[1;32mFalse\u001B[0m\u001B[1;33m)\u001B[0m\u001B[1;33m\u001B[0m\u001B[1;33m\u001B[0m\u001B[0m\n\u001B[0m\u001B[0;32m    253\u001B[0m         \u001B[0mX\u001B[0m \u001B[1;33m=\u001B[0m \u001B[0mto_time_series_dataset\u001B[0m\u001B[1;33m(\u001B[0m\u001B[0mX\u001B[0m\u001B[1;33m)\u001B[0m\u001B[1;33m\u001B[0m\u001B[1;33m\u001B[0m\u001B[0m\n\u001B[0;32m    254\u001B[0m         \u001B[0mself\u001B[0m\u001B[1;33m.\u001B[0m\u001B[0m_X_fit_dims\u001B[0m \u001B[1;33m=\u001B[0m \u001B[0mX\u001B[0m\u001B[1;33m.\u001B[0m\u001B[0mshape\u001B[0m\u001B[1;33m\u001B[0m\u001B[1;33m\u001B[0m\u001B[0m\n\u001B[0;32m    255\u001B[0m         \u001B[1;32mreturn\u001B[0m \u001B[0mself\u001B[0m\u001B[1;33m\u001B[0m\u001B[1;33m\u001B[0m\u001B[0m\n",
      "\u001B[1;32m~\\PycharmProjects\\desafio_ciencia_dados_2\\venv\\Lib\\site-packages\\sklearn\\utils\\validation.py\u001B[0m in \u001B[0;36m?\u001B[1;34m(array, accept_sparse, accept_large_sparse, dtype, order, copy, force_all_finite, ensure_2d, allow_nd, ensure_min_samples, ensure_min_features, estimator, input_name)\u001B[0m\n\u001B[0;32m   1004\u001B[0m                         )\n\u001B[0;32m   1005\u001B[0m                     \u001B[0marray\u001B[0m \u001B[1;33m=\u001B[0m \u001B[0mxp\u001B[0m\u001B[1;33m.\u001B[0m\u001B[0mastype\u001B[0m\u001B[1;33m(\u001B[0m\u001B[0marray\u001B[0m\u001B[1;33m,\u001B[0m \u001B[0mdtype\u001B[0m\u001B[1;33m,\u001B[0m \u001B[0mcopy\u001B[0m\u001B[1;33m=\u001B[0m\u001B[1;32mFalse\u001B[0m\u001B[1;33m)\u001B[0m\u001B[1;33m\u001B[0m\u001B[1;33m\u001B[0m\u001B[0m\n\u001B[0;32m   1006\u001B[0m                 \u001B[1;32melse\u001B[0m\u001B[1;33m:\u001B[0m\u001B[1;33m\u001B[0m\u001B[1;33m\u001B[0m\u001B[0m\n\u001B[0;32m   1007\u001B[0m                     \u001B[0marray\u001B[0m \u001B[1;33m=\u001B[0m \u001B[0m_asarray_with_order\u001B[0m\u001B[1;33m(\u001B[0m\u001B[0marray\u001B[0m\u001B[1;33m,\u001B[0m \u001B[0morder\u001B[0m\u001B[1;33m=\u001B[0m\u001B[0morder\u001B[0m\u001B[1;33m,\u001B[0m \u001B[0mdtype\u001B[0m\u001B[1;33m=\u001B[0m\u001B[0mdtype\u001B[0m\u001B[1;33m,\u001B[0m \u001B[0mxp\u001B[0m\u001B[1;33m=\u001B[0m\u001B[0mxp\u001B[0m\u001B[1;33m)\u001B[0m\u001B[1;33m\u001B[0m\u001B[1;33m\u001B[0m\u001B[0m\n\u001B[1;32m-> 1008\u001B[1;33m             \u001B[1;32mexcept\u001B[0m \u001B[0mComplexWarning\u001B[0m \u001B[1;32mas\u001B[0m \u001B[0mcomplex_warning\u001B[0m\u001B[1;33m:\u001B[0m\u001B[1;33m\u001B[0m\u001B[1;33m\u001B[0m\u001B[0m\n\u001B[0m\u001B[0;32m   1009\u001B[0m                 raise ValueError(\n\u001B[0;32m   1010\u001B[0m                     \u001B[1;34m\"Complex data not supported\\n{}\\n\"\u001B[0m\u001B[1;33m.\u001B[0m\u001B[0mformat\u001B[0m\u001B[1;33m(\u001B[0m\u001B[0marray\u001B[0m\u001B[1;33m)\u001B[0m\u001B[1;33m\u001B[0m\u001B[1;33m\u001B[0m\u001B[0m\n\u001B[0;32m   1011\u001B[0m                 ) from complex_warning\n",
      "\u001B[1;32m~\\PycharmProjects\\desafio_ciencia_dados_2\\venv\\Lib\\site-packages\\sklearn\\utils\\_array_api.py\u001B[0m in \u001B[0;36m?\u001B[1;34m(array, dtype, order, copy, xp, device)\u001B[0m\n\u001B[0;32m    742\u001B[0m         \u001B[1;31m# Use NumPy API to support order\u001B[0m\u001B[1;33m\u001B[0m\u001B[1;33m\u001B[0m\u001B[0m\n\u001B[0;32m    743\u001B[0m         \u001B[1;32mif\u001B[0m \u001B[0mcopy\u001B[0m \u001B[1;32mis\u001B[0m \u001B[1;32mTrue\u001B[0m\u001B[1;33m:\u001B[0m\u001B[1;33m\u001B[0m\u001B[1;33m\u001B[0m\u001B[0m\n\u001B[0;32m    744\u001B[0m             \u001B[0marray\u001B[0m \u001B[1;33m=\u001B[0m \u001B[0mnumpy\u001B[0m\u001B[1;33m.\u001B[0m\u001B[0marray\u001B[0m\u001B[1;33m(\u001B[0m\u001B[0marray\u001B[0m\u001B[1;33m,\u001B[0m \u001B[0morder\u001B[0m\u001B[1;33m=\u001B[0m\u001B[0morder\u001B[0m\u001B[1;33m,\u001B[0m \u001B[0mdtype\u001B[0m\u001B[1;33m=\u001B[0m\u001B[0mdtype\u001B[0m\u001B[1;33m)\u001B[0m\u001B[1;33m\u001B[0m\u001B[1;33m\u001B[0m\u001B[0m\n\u001B[0;32m    745\u001B[0m         \u001B[1;32melse\u001B[0m\u001B[1;33m:\u001B[0m\u001B[1;33m\u001B[0m\u001B[1;33m\u001B[0m\u001B[0m\n\u001B[1;32m--> 746\u001B[1;33m             \u001B[0marray\u001B[0m \u001B[1;33m=\u001B[0m \u001B[0mnumpy\u001B[0m\u001B[1;33m.\u001B[0m\u001B[0masarray\u001B[0m\u001B[1;33m(\u001B[0m\u001B[0marray\u001B[0m\u001B[1;33m,\u001B[0m \u001B[0morder\u001B[0m\u001B[1;33m=\u001B[0m\u001B[0morder\u001B[0m\u001B[1;33m,\u001B[0m \u001B[0mdtype\u001B[0m\u001B[1;33m=\u001B[0m\u001B[0mdtype\u001B[0m\u001B[1;33m)\u001B[0m\u001B[1;33m\u001B[0m\u001B[1;33m\u001B[0m\u001B[0m\n\u001B[0m\u001B[0;32m    747\u001B[0m \u001B[1;33m\u001B[0m\u001B[0m\n\u001B[0;32m    748\u001B[0m         \u001B[1;31m# At this point array is a NumPy ndarray. We convert it to an array\u001B[0m\u001B[1;33m\u001B[0m\u001B[1;33m\u001B[0m\u001B[0m\n\u001B[0;32m    749\u001B[0m         \u001B[1;31m# container that is consistent with the input's namespace.\u001B[0m\u001B[1;33m\u001B[0m\u001B[1;33m\u001B[0m\u001B[0m\n",
      "\u001B[1;32m~\\PycharmProjects\\desafio_ciencia_dados_2\\venv\\Lib\\site-packages\\pandas\\core\\generic.py\u001B[0m in \u001B[0;36m?\u001B[1;34m(self, dtype, copy)\u001B[0m\n\u001B[0;32m   2149\u001B[0m     def __array__(\n\u001B[0;32m   2150\u001B[0m         \u001B[0mself\u001B[0m\u001B[1;33m,\u001B[0m \u001B[0mdtype\u001B[0m\u001B[1;33m:\u001B[0m \u001B[0mnpt\u001B[0m\u001B[1;33m.\u001B[0m\u001B[0mDTypeLike\u001B[0m \u001B[1;33m|\u001B[0m \u001B[1;32mNone\u001B[0m \u001B[1;33m=\u001B[0m \u001B[1;32mNone\u001B[0m\u001B[1;33m,\u001B[0m \u001B[0mcopy\u001B[0m\u001B[1;33m:\u001B[0m \u001B[0mbool_t\u001B[0m \u001B[1;33m|\u001B[0m \u001B[1;32mNone\u001B[0m \u001B[1;33m=\u001B[0m \u001B[1;32mNone\u001B[0m\u001B[1;33m\u001B[0m\u001B[1;33m\u001B[0m\u001B[0m\n\u001B[0;32m   2151\u001B[0m     ) -> np.ndarray:\n\u001B[0;32m   2152\u001B[0m         \u001B[0mvalues\u001B[0m \u001B[1;33m=\u001B[0m \u001B[0mself\u001B[0m\u001B[1;33m.\u001B[0m\u001B[0m_values\u001B[0m\u001B[1;33m\u001B[0m\u001B[1;33m\u001B[0m\u001B[0m\n\u001B[1;32m-> 2153\u001B[1;33m         \u001B[0marr\u001B[0m \u001B[1;33m=\u001B[0m \u001B[0mnp\u001B[0m\u001B[1;33m.\u001B[0m\u001B[0masarray\u001B[0m\u001B[1;33m(\u001B[0m\u001B[0mvalues\u001B[0m\u001B[1;33m,\u001B[0m \u001B[0mdtype\u001B[0m\u001B[1;33m=\u001B[0m\u001B[0mdtype\u001B[0m\u001B[1;33m)\u001B[0m\u001B[1;33m\u001B[0m\u001B[1;33m\u001B[0m\u001B[0m\n\u001B[0m\u001B[0;32m   2154\u001B[0m         if (\n\u001B[0;32m   2155\u001B[0m             \u001B[0mastype_is_view\u001B[0m\u001B[1;33m(\u001B[0m\u001B[0mvalues\u001B[0m\u001B[1;33m.\u001B[0m\u001B[0mdtype\u001B[0m\u001B[1;33m,\u001B[0m \u001B[0marr\u001B[0m\u001B[1;33m.\u001B[0m\u001B[0mdtype\u001B[0m\u001B[1;33m)\u001B[0m\u001B[1;33m\u001B[0m\u001B[1;33m\u001B[0m\u001B[0m\n\u001B[0;32m   2156\u001B[0m             \u001B[1;32mand\u001B[0m \u001B[0musing_copy_on_write\u001B[0m\u001B[1;33m(\u001B[0m\u001B[1;33m)\u001B[0m\u001B[1;33m\u001B[0m\u001B[1;33m\u001B[0m\u001B[0m\n",
      "\u001B[1;31mValueError\u001B[0m: could not convert string to float: '2009-01-01'"
     ]
    }
   ],
   "execution_count": 217
  },
  {
   "metadata": {
    "ExecuteTime": {
     "end_time": "2024-06-13T15:59:19.368975Z",
     "start_time": "2024-06-13T15:59:19.363590Z"
    }
   },
   "cell_type": "code",
   "source": [
    "dates = pd.date_range(start='2023-01-01', periods=100, freq='D')\n",
    "data = np.random.rand(100, 10)  # 10 séries temporais, cada uma com 100 pontos\n",
    "len(dates)"
   ],
   "id": "51e21794a425fbaa",
   "outputs": [
    {
     "data": {
      "text/plain": [
       "100"
      ]
     },
     "execution_count": 176,
     "metadata": {},
     "output_type": "execute_result"
    }
   ],
   "execution_count": 176
  },
  {
   "metadata": {
    "ExecuteTime": {
     "end_time": "2024-06-13T15:59:31.428616Z",
     "start_time": "2024-06-13T15:59:31.411195Z"
    }
   },
   "cell_type": "code",
   "source": "len(data)",
   "id": "79fab30983875837",
   "outputs": [
    {
     "data": {
      "text/plain": [
       "100"
      ]
     },
     "execution_count": 177,
     "metadata": {},
     "output_type": "execute_result"
    }
   ],
   "execution_count": 177
  },
  {
   "metadata": {
    "ExecuteTime": {
     "end_time": "2024-06-13T16:18:41.821120Z",
     "start_time": "2024-06-13T16:18:41.808839Z"
    }
   },
   "cell_type": "code",
   "source": "df_dt = pd.DataFrame(data, index=dates, columns=[f'Series_{i}' for i in range(10)])",
   "id": "5c9c73fd5dfb54c",
   "outputs": [],
   "execution_count": 220
  },
  {
   "metadata": {
    "ExecuteTime": {
     "end_time": "2024-06-13T16:18:48.216917Z",
     "start_time": "2024-06-13T16:18:48.205566Z"
    }
   },
   "cell_type": "code",
   "source": "df_dt.index",
   "id": "9308b78aa5d25e2c",
   "outputs": [
    {
     "data": {
      "text/plain": [
       "DatetimeIndex(['2023-01-01', '2023-01-02', '2023-01-03', '2023-01-04',\n",
       "               '2023-01-05', '2023-01-06', '2023-01-07', '2023-01-08',\n",
       "               '2023-01-09', '2023-01-10', '2023-01-11', '2023-01-12',\n",
       "               '2023-01-13', '2023-01-14', '2023-01-15', '2023-01-16',\n",
       "               '2023-01-17', '2023-01-18', '2023-01-19', '2023-01-20',\n",
       "               '2023-01-21', '2023-01-22', '2023-01-23', '2023-01-24',\n",
       "               '2023-01-25', '2023-01-26', '2023-01-27', '2023-01-28',\n",
       "               '2023-01-29', '2023-01-30', '2023-01-31', '2023-02-01',\n",
       "               '2023-02-02', '2023-02-03', '2023-02-04', '2023-02-05',\n",
       "               '2023-02-06', '2023-02-07', '2023-02-08', '2023-02-09',\n",
       "               '2023-02-10', '2023-02-11', '2023-02-12', '2023-02-13',\n",
       "               '2023-02-14', '2023-02-15', '2023-02-16', '2023-02-17',\n",
       "               '2023-02-18', '2023-02-19', '2023-02-20', '2023-02-21',\n",
       "               '2023-02-22', '2023-02-23', '2023-02-24', '2023-02-25',\n",
       "               '2023-02-26', '2023-02-27', '2023-02-28', '2023-03-01',\n",
       "               '2023-03-02', '2023-03-03', '2023-03-04', '2023-03-05',\n",
       "               '2023-03-06', '2023-03-07', '2023-03-08', '2023-03-09',\n",
       "               '2023-03-10', '2023-03-11', '2023-03-12', '2023-03-13',\n",
       "               '2023-03-14', '2023-03-15', '2023-03-16', '2023-03-17',\n",
       "               '2023-03-18', '2023-03-19', '2023-03-20', '2023-03-21',\n",
       "               '2023-03-22', '2023-03-23', '2023-03-24', '2023-03-25',\n",
       "               '2023-03-26', '2023-03-27', '2023-03-28', '2023-03-29',\n",
       "               '2023-03-30', '2023-03-31', '2023-04-01', '2023-04-02',\n",
       "               '2023-04-03', '2023-04-04', '2023-04-05', '2023-04-06',\n",
       "               '2023-04-07', '2023-04-08', '2023-04-09', '2023-04-10'],\n",
       "              dtype='datetime64[ns]', freq='D')"
      ]
     },
     "execution_count": 222,
     "metadata": {},
     "output_type": "execute_result"
    }
   ],
   "execution_count": 222
  },
  {
   "metadata": {
    "ExecuteTime": {
     "end_time": "2024-06-13T16:26:37.983362Z",
     "start_time": "2024-06-13T16:26:37.979791Z"
    }
   },
   "cell_type": "code",
   "source": "data_transposed = df_stkm.T.values",
   "id": "e91850f199298632",
   "outputs": [],
   "execution_count": 257
  },
  {
   "metadata": {
    "ExecuteTime": {
     "end_time": "2024-06-13T16:26:39.405097Z",
     "start_time": "2024-06-13T16:26:39.387106Z"
    }
   },
   "cell_type": "code",
   "source": [
    "# Normalização dos dados\n",
    "scaler = TimeSeriesScalerMeanVariance()\n",
    "data_normalized = scaler.fit_transform(data_transposed)"
   ],
   "id": "f11b39060a30682b",
   "outputs": [],
   "execution_count": 258
  },
  {
   "metadata": {
    "ExecuteTime": {
     "end_time": "2024-06-13T16:26:41.190432Z",
     "start_time": "2024-06-13T16:26:41.146960Z"
    }
   },
   "cell_type": "code",
   "source": [
    "kmeans = TimeSeriesKMeans(n_clusters=3, metric=\"dtw\", random_state=0)\n",
    "labels = kmeans.fit_predict(data_normalized)"
   ],
   "id": "fb33014e7e8c88c",
   "outputs": [],
   "execution_count": 259
  },
  {
   "metadata": {
    "ExecuteTime": {
     "end_time": "2024-06-13T16:26:43.196495Z",
     "start_time": "2024-06-13T16:26:42.619712Z"
    }
   },
   "cell_type": "code",
   "source": [
    "plt.figure(figsize=(15, 10))\n",
    "for yi in range(3):\n",
    "    plt.subplot(3, 1, yi + 1)\n",
    "    for xx in data_normalized[labels == yi]:\n",
    "        plt.plot(xx.ravel(), \"k-\", alpha=0.2)\n",
    "    plt.plot(kmeans.cluster_centers_[yi].ravel(), \"r-\")\n",
    "    plt.title(f\"Cluster {yi + 1}\")\n",
    "\n",
    "plt.tight_layout()\n",
    "plt.show()"
   ],
   "id": "4336e469031064fb",
   "outputs": [
    {
     "data": {
      "text/plain": [
       "<Figure size 1500x1000 with 3 Axes>"
      ],
      "image/png": "[encoded data removed]"
     },
     "metadata": {},
     "output_type": "display_data"
    }
   ],
   "execution_count": 260
  }
 ],
 "metadata": {
  "kernelspec": {
   "display_name": "Python 3",
   "language": "python",
   "name": "python3"
  },
  "language_info": {
   "codemirror_mode": {
    "name": "ipython",
    "version": 2
   },
   "file_extension": ".py",
   "mimetype": "text/x-python",
   "name": "python",
   "nbconvert_exporter": "python",
   "pygments_lexer": "ipython2",
   "version": "2.7.6"
  }
 },
 "nbformat": 4,
 "nbformat_minor": 5
}
